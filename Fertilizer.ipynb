{
 "cells": [
  {
   "cell_type": "code",
   "execution_count": 1,
   "id": "d73329e0-55cb-417f-b366-a3e6e8b831db",
   "metadata": {},
   "outputs": [],
   "source": [
    "import pandas as pd"
   ]
  },
  {
   "cell_type": "code",
   "execution_count": 2,
   "id": "0f646fce-427d-48fe-824b-bb56c0844645",
   "metadata": {},
   "outputs": [],
   "source": [
    "import numpy as np"
   ]
  },
  {
   "cell_type": "code",
   "execution_count": 3,
   "id": "e57a2d94-c9ff-4ebe-9962-c5e28bf2906f",
   "metadata": {},
   "outputs": [],
   "source": [
    "df = pd.read_csv(\"C:/Users/pkitt/Downloads/playground-series-s5e6/train.csv\")"
   ]
  },
  {
   "cell_type": "code",
   "execution_count": 4,
   "id": "9a59cb8d-ea90-49fd-b8c7-53820f245397",
   "metadata": {},
   "outputs": [
    {
     "name": "stderr",
     "output_type": "stream",
     "text": [
      "C:\\Users\\pkitt\\AppData\\Local\\Temp\\ipykernel_29204\\1653857449.py:1: UserWarning: Pandas doesn't allow columns to be created via a new attribute name - see https://pandas.pydata.org/pandas-docs/stable/indexing.html#attribute-access\n",
      "  df.cat =df.select_dtypes(include=[object])\n"
     ]
    }
   ],
   "source": [
    "df.cat =df.select_dtypes(include=[object]) "
   ]
  },
  {
   "cell_type": "code",
   "execution_count": 5,
   "id": "16f8feca-1019-4d01-8a46-3fb0655b5f2a",
   "metadata": {},
   "outputs": [
    {
     "name": "stderr",
     "output_type": "stream",
     "text": [
      "C:\\Users\\pkitt\\AppData\\Local\\Temp\\ipykernel_29204\\610118065.py:1: UserWarning: Pandas doesn't allow columns to be created via a new attribute name - see https://pandas.pydata.org/pandas-docs/stable/indexing.html#attribute-access\n",
      "  df.num=df.select_dtypes(include=[np.number])\n"
     ]
    }
   ],
   "source": [
    "df.num=df.select_dtypes(include=[np.number])"
   ]
  },
  {
   "cell_type": "code",
   "execution_count": 6,
   "id": "e6507039-31a5-4d62-9820-91162214bd7d",
   "metadata": {},
   "outputs": [
    {
     "data": {
      "text/html": [
       "<div>\n",
       "<style scoped>\n",
       "    .dataframe tbody tr th:only-of-type {\n",
       "        vertical-align: middle;\n",
       "    }\n",
       "\n",
       "    .dataframe tbody tr th {\n",
       "        vertical-align: top;\n",
       "    }\n",
       "\n",
       "    .dataframe thead th {\n",
       "        text-align: right;\n",
       "    }\n",
       "</style>\n",
       "<table border=\"1\" class=\"dataframe\">\n",
       "  <thead>\n",
       "    <tr style=\"text-align: right;\">\n",
       "      <th></th>\n",
       "      <th>Soil Type</th>\n",
       "      <th>Crop Type</th>\n",
       "      <th>Fertilizer Name</th>\n",
       "    </tr>\n",
       "  </thead>\n",
       "  <tbody>\n",
       "    <tr>\n",
       "      <th>0</th>\n",
       "      <td>Clayey</td>\n",
       "      <td>Sugarcane</td>\n",
       "      <td>28-28</td>\n",
       "    </tr>\n",
       "    <tr>\n",
       "      <th>1</th>\n",
       "      <td>Sandy</td>\n",
       "      <td>Millets</td>\n",
       "      <td>28-28</td>\n",
       "    </tr>\n",
       "    <tr>\n",
       "      <th>2</th>\n",
       "      <td>Sandy</td>\n",
       "      <td>Millets</td>\n",
       "      <td>17-17-17</td>\n",
       "    </tr>\n",
       "    <tr>\n",
       "      <th>3</th>\n",
       "      <td>Sandy</td>\n",
       "      <td>Barley</td>\n",
       "      <td>10-26-26</td>\n",
       "    </tr>\n",
       "    <tr>\n",
       "      <th>4</th>\n",
       "      <td>Red</td>\n",
       "      <td>Paddy</td>\n",
       "      <td>DAP</td>\n",
       "    </tr>\n",
       "  </tbody>\n",
       "</table>\n",
       "</div>"
      ],
      "text/plain": [
       "  Soil Type  Crop Type Fertilizer Name\n",
       "0    Clayey  Sugarcane           28-28\n",
       "1     Sandy    Millets           28-28\n",
       "2     Sandy    Millets        17-17-17\n",
       "3     Sandy     Barley        10-26-26\n",
       "4       Red      Paddy             DAP"
      ]
     },
     "execution_count": 6,
     "metadata": {},
     "output_type": "execute_result"
    }
   ],
   "source": [
    "df.cat.head()"
   ]
  },
  {
   "cell_type": "code",
   "execution_count": 7,
   "id": "71e3fda5-e642-4221-9094-f1fb8c4a1bbd",
   "metadata": {},
   "outputs": [],
   "source": [
    "from sklearn.preprocessing import LabelEncoder"
   ]
  },
  {
   "cell_type": "code",
   "execution_count": 8,
   "id": "ab007587-9eba-4fad-a25b-a3c159e21865",
   "metadata": {},
   "outputs": [],
   "source": [
    "le = LabelEncoder()"
   ]
  },
  {
   "cell_type": "code",
   "execution_count": 9,
   "id": "3f77f871-a90f-494a-9a22-a933079dab1e",
   "metadata": {},
   "outputs": [],
   "source": [
    "df.cat[\"Soil Type\"] = le.fit_transform(df.cat[\"Soil Type\"])"
   ]
  },
  {
   "cell_type": "code",
   "execution_count": 10,
   "id": "b61886f5-2d05-4c90-8c5a-1ebd479ee610",
   "metadata": {},
   "outputs": [
    {
     "data": {
      "text/html": [
       "<div>\n",
       "<style scoped>\n",
       "    .dataframe tbody tr th:only-of-type {\n",
       "        vertical-align: middle;\n",
       "    }\n",
       "\n",
       "    .dataframe tbody tr th {\n",
       "        vertical-align: top;\n",
       "    }\n",
       "\n",
       "    .dataframe thead th {\n",
       "        text-align: right;\n",
       "    }\n",
       "</style>\n",
       "<table border=\"1\" class=\"dataframe\">\n",
       "  <thead>\n",
       "    <tr style=\"text-align: right;\">\n",
       "      <th></th>\n",
       "      <th>Soil Type</th>\n",
       "      <th>Crop Type</th>\n",
       "      <th>Fertilizer Name</th>\n",
       "    </tr>\n",
       "  </thead>\n",
       "  <tbody>\n",
       "    <tr>\n",
       "      <th>0</th>\n",
       "      <td>1</td>\n",
       "      <td>Sugarcane</td>\n",
       "      <td>28-28</td>\n",
       "    </tr>\n",
       "    <tr>\n",
       "      <th>1</th>\n",
       "      <td>4</td>\n",
       "      <td>Millets</td>\n",
       "      <td>28-28</td>\n",
       "    </tr>\n",
       "    <tr>\n",
       "      <th>2</th>\n",
       "      <td>4</td>\n",
       "      <td>Millets</td>\n",
       "      <td>17-17-17</td>\n",
       "    </tr>\n",
       "    <tr>\n",
       "      <th>3</th>\n",
       "      <td>4</td>\n",
       "      <td>Barley</td>\n",
       "      <td>10-26-26</td>\n",
       "    </tr>\n",
       "    <tr>\n",
       "      <th>4</th>\n",
       "      <td>3</td>\n",
       "      <td>Paddy</td>\n",
       "      <td>DAP</td>\n",
       "    </tr>\n",
       "  </tbody>\n",
       "</table>\n",
       "</div>"
      ],
      "text/plain": [
       "   Soil Type  Crop Type Fertilizer Name\n",
       "0          1  Sugarcane           28-28\n",
       "1          4    Millets           28-28\n",
       "2          4    Millets        17-17-17\n",
       "3          4     Barley        10-26-26\n",
       "4          3      Paddy             DAP"
      ]
     },
     "execution_count": 10,
     "metadata": {},
     "output_type": "execute_result"
    }
   ],
   "source": [
    "df.cat.head()"
   ]
  },
  {
   "cell_type": "code",
   "execution_count": 11,
   "id": "a7be9f2c-2e19-41b6-85e1-d2dc3fa224ac",
   "metadata": {},
   "outputs": [],
   "source": [
    "df.cat[\"Crop Type\"] = le.fit_transform(df.cat[\"Crop Type\"])"
   ]
  },
  {
   "cell_type": "code",
   "execution_count": 12,
   "id": "c4586ad6-0938-4e6a-8806-617fb926c384",
   "metadata": {},
   "outputs": [
    {
     "data": {
      "text/html": [
       "<div>\n",
       "<style scoped>\n",
       "    .dataframe tbody tr th:only-of-type {\n",
       "        vertical-align: middle;\n",
       "    }\n",
       "\n",
       "    .dataframe tbody tr th {\n",
       "        vertical-align: top;\n",
       "    }\n",
       "\n",
       "    .dataframe thead th {\n",
       "        text-align: right;\n",
       "    }\n",
       "</style>\n",
       "<table border=\"1\" class=\"dataframe\">\n",
       "  <thead>\n",
       "    <tr style=\"text-align: right;\">\n",
       "      <th></th>\n",
       "      <th>Soil Type</th>\n",
       "      <th>Crop Type</th>\n",
       "      <th>Fertilizer Name</th>\n",
       "    </tr>\n",
       "  </thead>\n",
       "  <tbody>\n",
       "    <tr>\n",
       "      <th>0</th>\n",
       "      <td>1</td>\n",
       "      <td>8</td>\n",
       "      <td>28-28</td>\n",
       "    </tr>\n",
       "    <tr>\n",
       "      <th>1</th>\n",
       "      <td>4</td>\n",
       "      <td>4</td>\n",
       "      <td>28-28</td>\n",
       "    </tr>\n",
       "    <tr>\n",
       "      <th>2</th>\n",
       "      <td>4</td>\n",
       "      <td>4</td>\n",
       "      <td>17-17-17</td>\n",
       "    </tr>\n",
       "    <tr>\n",
       "      <th>3</th>\n",
       "      <td>4</td>\n",
       "      <td>0</td>\n",
       "      <td>10-26-26</td>\n",
       "    </tr>\n",
       "    <tr>\n",
       "      <th>4</th>\n",
       "      <td>3</td>\n",
       "      <td>6</td>\n",
       "      <td>DAP</td>\n",
       "    </tr>\n",
       "  </tbody>\n",
       "</table>\n",
       "</div>"
      ],
      "text/plain": [
       "   Soil Type  Crop Type Fertilizer Name\n",
       "0          1          8           28-28\n",
       "1          4          4           28-28\n",
       "2          4          4        17-17-17\n",
       "3          4          0        10-26-26\n",
       "4          3          6             DAP"
      ]
     },
     "execution_count": 12,
     "metadata": {},
     "output_type": "execute_result"
    }
   ],
   "source": [
    "df.cat.head()"
   ]
  },
  {
   "cell_type": "code",
   "execution_count": 13,
   "id": "15540c14-b0d0-436b-b6aa-c6458d247f8e",
   "metadata": {},
   "outputs": [],
   "source": [
    "df.cat[\"Fertilizer Name\"] = le.fit_transform(df.cat[\"Fertilizer Name\"])"
   ]
  },
  {
   "cell_type": "code",
   "execution_count": 14,
   "id": "9dbe8011-a833-4fdf-9167-576c235988a7",
   "metadata": {},
   "outputs": [
    {
     "data": {
      "text/html": [
       "<div>\n",
       "<style scoped>\n",
       "    .dataframe tbody tr th:only-of-type {\n",
       "        vertical-align: middle;\n",
       "    }\n",
       "\n",
       "    .dataframe tbody tr th {\n",
       "        vertical-align: top;\n",
       "    }\n",
       "\n",
       "    .dataframe thead th {\n",
       "        text-align: right;\n",
       "    }\n",
       "</style>\n",
       "<table border=\"1\" class=\"dataframe\">\n",
       "  <thead>\n",
       "    <tr style=\"text-align: right;\">\n",
       "      <th></th>\n",
       "      <th>Soil Type</th>\n",
       "      <th>Crop Type</th>\n",
       "      <th>Fertilizer Name</th>\n",
       "    </tr>\n",
       "  </thead>\n",
       "  <tbody>\n",
       "    <tr>\n",
       "      <th>0</th>\n",
       "      <td>1</td>\n",
       "      <td>8</td>\n",
       "      <td>4</td>\n",
       "    </tr>\n",
       "    <tr>\n",
       "      <th>1</th>\n",
       "      <td>4</td>\n",
       "      <td>4</td>\n",
       "      <td>4</td>\n",
       "    </tr>\n",
       "    <tr>\n",
       "      <th>2</th>\n",
       "      <td>4</td>\n",
       "      <td>4</td>\n",
       "      <td>2</td>\n",
       "    </tr>\n",
       "    <tr>\n",
       "      <th>3</th>\n",
       "      <td>4</td>\n",
       "      <td>0</td>\n",
       "      <td>0</td>\n",
       "    </tr>\n",
       "    <tr>\n",
       "      <th>4</th>\n",
       "      <td>3</td>\n",
       "      <td>6</td>\n",
       "      <td>5</td>\n",
       "    </tr>\n",
       "  </tbody>\n",
       "</table>\n",
       "</div>"
      ],
      "text/plain": [
       "   Soil Type  Crop Type  Fertilizer Name\n",
       "0          1          8                4\n",
       "1          4          4                4\n",
       "2          4          4                2\n",
       "3          4          0                0\n",
       "4          3          6                5"
      ]
     },
     "execution_count": 14,
     "metadata": {},
     "output_type": "execute_result"
    }
   ],
   "source": [
    "df.cat.head()"
   ]
  },
  {
   "cell_type": "code",
   "execution_count": 15,
   "id": "430b4c21-e56b-4d3b-9ba3-3785d078e20f",
   "metadata": {},
   "outputs": [],
   "source": [
    "df_train = pd.concat([df.num,df.cat],axis=1)"
   ]
  },
  {
   "cell_type": "code",
   "execution_count": 16,
   "id": "119ac2d0-f109-4176-9c56-81db5cbacfe1",
   "metadata": {},
   "outputs": [
    {
     "data": {
      "text/html": [
       "<div>\n",
       "<style scoped>\n",
       "    .dataframe tbody tr th:only-of-type {\n",
       "        vertical-align: middle;\n",
       "    }\n",
       "\n",
       "    .dataframe tbody tr th {\n",
       "        vertical-align: top;\n",
       "    }\n",
       "\n",
       "    .dataframe thead th {\n",
       "        text-align: right;\n",
       "    }\n",
       "</style>\n",
       "<table border=\"1\" class=\"dataframe\">\n",
       "  <thead>\n",
       "    <tr style=\"text-align: right;\">\n",
       "      <th></th>\n",
       "      <th>id</th>\n",
       "      <th>Temparature</th>\n",
       "      <th>Humidity</th>\n",
       "      <th>Moisture</th>\n",
       "      <th>Nitrogen</th>\n",
       "      <th>Potassium</th>\n",
       "      <th>Phosphorous</th>\n",
       "      <th>Soil Type</th>\n",
       "      <th>Crop Type</th>\n",
       "      <th>Fertilizer Name</th>\n",
       "    </tr>\n",
       "  </thead>\n",
       "  <tbody>\n",
       "    <tr>\n",
       "      <th>749995</th>\n",
       "      <td>749995</td>\n",
       "      <td>25</td>\n",
       "      <td>69</td>\n",
       "      <td>30</td>\n",
       "      <td>8</td>\n",
       "      <td>16</td>\n",
       "      <td>6</td>\n",
       "      <td>1</td>\n",
       "      <td>3</td>\n",
       "      <td>4</td>\n",
       "    </tr>\n",
       "    <tr>\n",
       "      <th>749996</th>\n",
       "      <td>749996</td>\n",
       "      <td>37</td>\n",
       "      <td>64</td>\n",
       "      <td>58</td>\n",
       "      <td>38</td>\n",
       "      <td>8</td>\n",
       "      <td>20</td>\n",
       "      <td>2</td>\n",
       "      <td>8</td>\n",
       "      <td>2</td>\n",
       "    </tr>\n",
       "    <tr>\n",
       "      <th>749997</th>\n",
       "      <td>749997</td>\n",
       "      <td>35</td>\n",
       "      <td>68</td>\n",
       "      <td>59</td>\n",
       "      <td>6</td>\n",
       "      <td>11</td>\n",
       "      <td>29</td>\n",
       "      <td>4</td>\n",
       "      <td>2</td>\n",
       "      <td>0</td>\n",
       "    </tr>\n",
       "    <tr>\n",
       "      <th>749998</th>\n",
       "      <td>749998</td>\n",
       "      <td>31</td>\n",
       "      <td>68</td>\n",
       "      <td>29</td>\n",
       "      <td>9</td>\n",
       "      <td>11</td>\n",
       "      <td>12</td>\n",
       "      <td>3</td>\n",
       "      <td>1</td>\n",
       "      <td>3</td>\n",
       "    </tr>\n",
       "    <tr>\n",
       "      <th>749999</th>\n",
       "      <td>749999</td>\n",
       "      <td>33</td>\n",
       "      <td>55</td>\n",
       "      <td>29</td>\n",
       "      <td>4</td>\n",
       "      <td>10</td>\n",
       "      <td>9</td>\n",
       "      <td>2</td>\n",
       "      <td>1</td>\n",
       "      <td>6</td>\n",
       "    </tr>\n",
       "  </tbody>\n",
       "</table>\n",
       "</div>"
      ],
      "text/plain": [
       "            id  Temparature  Humidity  Moisture  Nitrogen  Potassium  \\\n",
       "749995  749995           25        69        30         8         16   \n",
       "749996  749996           37        64        58        38          8   \n",
       "749997  749997           35        68        59         6         11   \n",
       "749998  749998           31        68        29         9         11   \n",
       "749999  749999           33        55        29         4         10   \n",
       "\n",
       "        Phosphorous  Soil Type  Crop Type  Fertilizer Name  \n",
       "749995            6          1          3                4  \n",
       "749996           20          2          8                2  \n",
       "749997           29          4          2                0  \n",
       "749998           12          3          1                3  \n",
       "749999            9          2          1                6  "
      ]
     },
     "execution_count": 16,
     "metadata": {},
     "output_type": "execute_result"
    }
   ],
   "source": [
    "df_train.tail()"
   ]
  },
  {
   "cell_type": "code",
   "execution_count": 17,
   "id": "f0dbc797-0134-40ef-a32c-83a6a077f7f6",
   "metadata": {},
   "outputs": [],
   "source": [
    "matrix=df_train.corr()"
   ]
  },
  {
   "cell_type": "code",
   "execution_count": 18,
   "id": "bf7e4903-f69b-4883-83f9-15074d6eaf4b",
   "metadata": {},
   "outputs": [
    {
     "data": {
      "text/html": [
       "<div>\n",
       "<style scoped>\n",
       "    .dataframe tbody tr th:only-of-type {\n",
       "        vertical-align: middle;\n",
       "    }\n",
       "\n",
       "    .dataframe tbody tr th {\n",
       "        vertical-align: top;\n",
       "    }\n",
       "\n",
       "    .dataframe thead th {\n",
       "        text-align: right;\n",
       "    }\n",
       "</style>\n",
       "<table border=\"1\" class=\"dataframe\">\n",
       "  <thead>\n",
       "    <tr style=\"text-align: right;\">\n",
       "      <th></th>\n",
       "      <th>id</th>\n",
       "      <th>Temparature</th>\n",
       "      <th>Humidity</th>\n",
       "      <th>Moisture</th>\n",
       "      <th>Nitrogen</th>\n",
       "      <th>Potassium</th>\n",
       "      <th>Phosphorous</th>\n",
       "      <th>Soil Type</th>\n",
       "      <th>Crop Type</th>\n",
       "      <th>Fertilizer Name</th>\n",
       "    </tr>\n",
       "  </thead>\n",
       "  <tbody>\n",
       "    <tr>\n",
       "      <th>id</th>\n",
       "      <td>1.000000</td>\n",
       "      <td>-0.001069</td>\n",
       "      <td>-0.000310</td>\n",
       "      <td>0.001752</td>\n",
       "      <td>0.001505</td>\n",
       "      <td>-0.000375</td>\n",
       "      <td>-0.001234</td>\n",
       "      <td>0.002831</td>\n",
       "      <td>-0.000953</td>\n",
       "      <td>-0.000179</td>\n",
       "    </tr>\n",
       "    <tr>\n",
       "      <th>Temparature</th>\n",
       "      <td>-0.001069</td>\n",
       "      <td>1.000000</td>\n",
       "      <td>0.001758</td>\n",
       "      <td>-0.001633</td>\n",
       "      <td>-0.006073</td>\n",
       "      <td>-0.009913</td>\n",
       "      <td>0.000298</td>\n",
       "      <td>-0.007621</td>\n",
       "      <td>-0.006753</td>\n",
       "      <td>0.001727</td>\n",
       "    </tr>\n",
       "    <tr>\n",
       "      <th>Humidity</th>\n",
       "      <td>-0.000310</td>\n",
       "      <td>0.001758</td>\n",
       "      <td>1.000000</td>\n",
       "      <td>0.003424</td>\n",
       "      <td>0.006502</td>\n",
       "      <td>0.005229</td>\n",
       "      <td>0.002413</td>\n",
       "      <td>0.003921</td>\n",
       "      <td>0.002414</td>\n",
       "      <td>0.010626</td>\n",
       "    </tr>\n",
       "    <tr>\n",
       "      <th>Moisture</th>\n",
       "      <td>0.001752</td>\n",
       "      <td>-0.001633</td>\n",
       "      <td>0.003424</td>\n",
       "      <td>1.000000</td>\n",
       "      <td>0.003016</td>\n",
       "      <td>-0.001931</td>\n",
       "      <td>-0.006735</td>\n",
       "      <td>-0.003941</td>\n",
       "      <td>-0.003400</td>\n",
       "      <td>0.011493</td>\n",
       "    </tr>\n",
       "    <tr>\n",
       "      <th>Nitrogen</th>\n",
       "      <td>0.001505</td>\n",
       "      <td>-0.006073</td>\n",
       "      <td>0.006502</td>\n",
       "      <td>0.003016</td>\n",
       "      <td>1.000000</td>\n",
       "      <td>0.000543</td>\n",
       "      <td>-0.005464</td>\n",
       "      <td>-0.000650</td>\n",
       "      <td>0.001611</td>\n",
       "      <td>-0.004725</td>\n",
       "    </tr>\n",
       "    <tr>\n",
       "      <th>Potassium</th>\n",
       "      <td>-0.000375</td>\n",
       "      <td>-0.009913</td>\n",
       "      <td>0.005229</td>\n",
       "      <td>-0.001931</td>\n",
       "      <td>0.000543</td>\n",
       "      <td>1.000000</td>\n",
       "      <td>0.000113</td>\n",
       "      <td>0.005314</td>\n",
       "      <td>-0.003748</td>\n",
       "      <td>-0.010872</td>\n",
       "    </tr>\n",
       "    <tr>\n",
       "      <th>Phosphorous</th>\n",
       "      <td>-0.001234</td>\n",
       "      <td>0.000298</td>\n",
       "      <td>0.002413</td>\n",
       "      <td>-0.006735</td>\n",
       "      <td>-0.005464</td>\n",
       "      <td>0.000113</td>\n",
       "      <td>1.000000</td>\n",
       "      <td>-0.000275</td>\n",
       "      <td>0.000694</td>\n",
       "      <td>-0.006127</td>\n",
       "    </tr>\n",
       "    <tr>\n",
       "      <th>Soil Type</th>\n",
       "      <td>0.002831</td>\n",
       "      <td>-0.007621</td>\n",
       "      <td>0.003921</td>\n",
       "      <td>-0.003941</td>\n",
       "      <td>-0.000650</td>\n",
       "      <td>0.005314</td>\n",
       "      <td>-0.000275</td>\n",
       "      <td>1.000000</td>\n",
       "      <td>-0.006213</td>\n",
       "      <td>0.016576</td>\n",
       "    </tr>\n",
       "    <tr>\n",
       "      <th>Crop Type</th>\n",
       "      <td>-0.000953</td>\n",
       "      <td>-0.006753</td>\n",
       "      <td>0.002414</td>\n",
       "      <td>-0.003400</td>\n",
       "      <td>0.001611</td>\n",
       "      <td>-0.003748</td>\n",
       "      <td>0.000694</td>\n",
       "      <td>-0.006213</td>\n",
       "      <td>1.000000</td>\n",
       "      <td>-0.013041</td>\n",
       "    </tr>\n",
       "    <tr>\n",
       "      <th>Fertilizer Name</th>\n",
       "      <td>-0.000179</td>\n",
       "      <td>0.001727</td>\n",
       "      <td>0.010626</td>\n",
       "      <td>0.011493</td>\n",
       "      <td>-0.004725</td>\n",
       "      <td>-0.010872</td>\n",
       "      <td>-0.006127</td>\n",
       "      <td>0.016576</td>\n",
       "      <td>-0.013041</td>\n",
       "      <td>1.000000</td>\n",
       "    </tr>\n",
       "  </tbody>\n",
       "</table>\n",
       "</div>"
      ],
      "text/plain": [
       "                       id  Temparature  Humidity  Moisture  Nitrogen  \\\n",
       "id               1.000000    -0.001069 -0.000310  0.001752  0.001505   \n",
       "Temparature     -0.001069     1.000000  0.001758 -0.001633 -0.006073   \n",
       "Humidity        -0.000310     0.001758  1.000000  0.003424  0.006502   \n",
       "Moisture         0.001752    -0.001633  0.003424  1.000000  0.003016   \n",
       "Nitrogen         0.001505    -0.006073  0.006502  0.003016  1.000000   \n",
       "Potassium       -0.000375    -0.009913  0.005229 -0.001931  0.000543   \n",
       "Phosphorous     -0.001234     0.000298  0.002413 -0.006735 -0.005464   \n",
       "Soil Type        0.002831    -0.007621  0.003921 -0.003941 -0.000650   \n",
       "Crop Type       -0.000953    -0.006753  0.002414 -0.003400  0.001611   \n",
       "Fertilizer Name -0.000179     0.001727  0.010626  0.011493 -0.004725   \n",
       "\n",
       "                 Potassium  Phosphorous  Soil Type  Crop Type  Fertilizer Name  \n",
       "id               -0.000375    -0.001234   0.002831  -0.000953        -0.000179  \n",
       "Temparature      -0.009913     0.000298  -0.007621  -0.006753         0.001727  \n",
       "Humidity          0.005229     0.002413   0.003921   0.002414         0.010626  \n",
       "Moisture         -0.001931    -0.006735  -0.003941  -0.003400         0.011493  \n",
       "Nitrogen          0.000543    -0.005464  -0.000650   0.001611        -0.004725  \n",
       "Potassium         1.000000     0.000113   0.005314  -0.003748        -0.010872  \n",
       "Phosphorous       0.000113     1.000000  -0.000275   0.000694        -0.006127  \n",
       "Soil Type         0.005314    -0.000275   1.000000  -0.006213         0.016576  \n",
       "Crop Type        -0.003748     0.000694  -0.006213   1.000000        -0.013041  \n",
       "Fertilizer Name  -0.010872    -0.006127   0.016576  -0.013041         1.000000  "
      ]
     },
     "execution_count": 18,
     "metadata": {},
     "output_type": "execute_result"
    }
   ],
   "source": [
    "matrix"
   ]
  },
  {
   "cell_type": "code",
   "execution_count": 19,
   "id": "eedb7bc7-2cf8-425d-9f71-15fa09d23b60",
   "metadata": {},
   "outputs": [],
   "source": [
    "import tensorflow as tf"
   ]
  },
  {
   "cell_type": "code",
   "execution_count": 20,
   "id": "5d535466-9c65-4ad7-9ab7-6c3f4971fb1c",
   "metadata": {},
   "outputs": [],
   "source": [
    "from tensorflow import keras"
   ]
  },
  {
   "cell_type": "code",
   "execution_count": 21,
   "id": "a9b24b62-3324-482a-93c7-2a5378cd701f",
   "metadata": {},
   "outputs": [],
   "source": [
    "X = df_train[[\"Nitrogen\",\"Potassium\",\"Phosphorous\",\"Temparature\",\"Humidity\",\"Moisture\",\"Soil Type\"]]"
   ]
  },
  {
   "cell_type": "code",
   "execution_count": 22,
   "id": "13941295-408d-4692-af7c-5a40fe83eb55",
   "metadata": {},
   "outputs": [],
   "source": [
    "y = df_train[[\"Fertilizer Name\"]]"
   ]
  },
  {
   "cell_type": "code",
   "execution_count": 23,
   "id": "691d68cb-873b-48f4-af2b-55de796d1fe6",
   "metadata": {},
   "outputs": [],
   "source": [
    "from tensorflow.keras.optimizers import RMSprop"
   ]
  },
  {
   "cell_type": "code",
   "execution_count": 24,
   "id": "c4c3374c-400e-4473-8a10-2857753efb89",
   "metadata": {},
   "outputs": [],
   "source": [
    "from sklearn.preprocessing import MinMaxScaler\n"
   ]
  },
  {
   "cell_type": "code",
   "execution_count": 25,
   "id": "afb9c10f-e573-463c-b4b9-bd5474d867dc",
   "metadata": {},
   "outputs": [],
   "source": [
    "import pandas as pd\n",
    "import numpy as np\n",
    "\n",
    "def create_classwise_batches(df_train, Soil_Type_col, batch_size):\n",
    "    batches = []\n",
    "    grouped = df.groupby('Soil Type')\n",
    "\n",
    "    for class_label, group in grouped:\n",
    "        group = group.sample(frac=1).reset_index(drop=True)  # Shuffle\n",
    "        for i in range(0, len(group), batch_size):\n",
    "            batch = group.iloc[i:i + batch_size]\n",
    "            batches.append(batch)\n",
    "\n",
    "    return batches\n",
    "\n",
    "# Example usage\n",
    "df = df_train\n",
    "batches = create_classwise_batches(df, Soil_Type_col='Soil Type', batch_size=32)\n",
    "\n",
    "# Access a batch\n",
    "First_batch = batches[1]"
   ]
  },
  {
   "cell_type": "code",
   "execution_count": 26,
   "id": "3034323b-8c82-402c-90cb-6a42a2c1eafc",
   "metadata": {},
   "outputs": [],
   "source": [
    "Soil_Type_col = 'Soil Type'  # Make sure this matches exactly\n",
    "grouped = df_train.groupby(Soil_Type_col)"
   ]
  },
  {
   "cell_type": "code",
   "execution_count": 27,
   "id": "9b4859fb-aced-422d-953d-cd740a44c52c",
   "metadata": {},
   "outputs": [
    {
     "name": "stdout",
     "output_type": "stream",
     "text": [
      "Total batches created: 23440\n",
      "         id  Temparature  Humidity  Moisture  Nitrogen  Potassium  \\\n",
      "640   38387           29        68        65        12         11   \n",
      "641  476400           33        71        60        25          0   \n",
      "642  181932           36        58        38         4         18   \n",
      "643  491716           35        56        37        39         17   \n",
      "644  560007           38        61        36        29         15   \n",
      "645  639162           38        52        36        31         15   \n",
      "646  417887           27        50        38        13         14   \n",
      "647  148280           35        72        36         9          9   \n",
      "648  129814           32        53        34         5          6   \n",
      "649  372450           31        56        61         6         15   \n",
      "\n",
      "     Phosphorous  Soil Type  Crop Type  Fertilizer Name  \n",
      "640           23          0          2                1  \n",
      "641           20          0          8                0  \n",
      "642           22          0          6                0  \n",
      "643           19          0          6                2  \n",
      "644           42          0          2                6  \n",
      "645           26          0          5                1  \n",
      "646           18          0          6                3  \n",
      "647           21          0          0                2  \n",
      "648           27          0          4                5  \n",
      "649           41          0          7                1  \n"
     ]
    }
   ],
   "source": [
    "print(f'Total batches created: {len(batches)}')\n",
    "print(batches[20].head(10))  # Preview the first batch"
   ]
  },
  {
   "cell_type": "code",
   "execution_count": 28,
   "id": "7859de92-248c-40b8-aef3-352c0102ae94",
   "metadata": {},
   "outputs": [],
   "source": [
    "X_batches = [batch.drop(columns=['Soil Type']) for batch in batches]\n",
    "y_batches = [batch['Soil Type'] for batch in batches]"
   ]
  },
  {
   "cell_type": "code",
   "execution_count": 29,
   "id": "869fefd7-cb5f-45e1-a19e-da24e45c5b26",
   "metadata": {},
   "outputs": [],
   "source": [
    "import numpy as np\n",
    "\n",
    "X_batches_np = [x.values for x in X_batches]\n",
    "y_batches_np = [y.values for y in y_batches]"
   ]
  },
  {
   "cell_type": "code",
   "execution_count": 30,
   "id": "29985d48-c9f5-42c2-993d-ec3f2b423a62",
   "metadata": {},
   "outputs": [],
   "source": [
    "import numpy as np\n",
    "import tensorflow as tf\n",
    "\n",
    "# Flatten the list of arrays into one big array\n",
    "X_all = np.concatenate(X_batches_np, axis=0)\n",
    "y_all = np.concatenate(y_batches_np, axis=0)\n",
    "\n",
    "# Now create the dataset\n",
    "dataset = tf.data.Dataset.from_tensor_slices((X_all, y_all))\n",
    "dataset = dataset.shuffle(buffer_size=1024).batch(32, drop_remainder=True)"
   ]
  },
  {
   "cell_type": "code",
   "execution_count": 31,
   "id": "ce98fead-04d6-423b-908e-64dd669f4672",
   "metadata": {},
   "outputs": [
    {
     "name": "stdout",
     "output_type": "stream",
     "text": [
      "(array([0, 1, 2, 3, 4]), array([150956, 148382, 145850, 148102, 156710], dtype=int64))\n"
     ]
    }
   ],
   "source": [
    "print(np.unique(y_all, return_counts=True))  # See if one class dominates"
   ]
  },
  {
   "cell_type": "code",
   "execution_count": 32,
   "id": "bfde6567-4a50-42cd-aa90-a8f0cd35c16e",
   "metadata": {},
   "outputs": [
    {
     "name": "stdout",
     "output_type": "stream",
     "text": [
      "<class 'list'>\n",
      "<class 'numpy.ndarray'>\n",
      "(32, 9)\n"
     ]
    }
   ],
   "source": [
    "print(type(X_batches_np))  # Should be <class 'list'>\n",
    "print(type(X_batches_np[0]))  # Should be <class 'numpy.ndarray'>\n",
    "print(X_batches_np[0].shape)  # Should be (batch_size, num_features)"
   ]
  },
  {
   "cell_type": "code",
   "execution_count": 33,
   "id": "9bcf5d95-0196-4651-b518-68115ef88899",
   "metadata": {
    "scrolled": true
   },
   "outputs": [
    {
     "name": "stdout",
     "output_type": "stream",
     "text": [
      "(750000, 9)\n",
      "(750000,)\n"
     ]
    }
   ],
   "source": [
    "import numpy as np\n",
    "\n",
    "X_all = np.concatenate(X_batches_np, axis=0)\n",
    "y_all = np.concatenate(y_batches_np, axis=0)\n",
    "\n",
    "print(X_all.shape)  # Should be (total_samples, num_features)\n",
    "print(y_all.shape)  # Should be (total_samples,)"
   ]
  },
  {
   "cell_type": "code",
   "execution_count": 34,
   "id": "64dc40f1-ba4b-4727-a193-9a75643c587f",
   "metadata": {},
   "outputs": [],
   "source": [
    "X_all = np.array(X_all, dtype=np.float32)\n",
    "y_all = np.array(y_all, dtype=np.int32)"
   ]
  },
  {
   "cell_type": "code",
   "execution_count": 35,
   "id": "ea39420e-c962-4367-863a-f38c1161c5c1",
   "metadata": {},
   "outputs": [],
   "source": [
    "import tensorflow as tf\n",
    "\n",
    "dataset = tf.data.Dataset.from_tensor_slices((X, y))\n",
    "dataset = dataset.shuffle(buffer_size=1024).batch(32, drop_remainder=True)"
   ]
  },
  {
   "cell_type": "code",
   "execution_count": 36,
   "id": "a0364448-6718-4859-8894-0c05bd9ec425",
   "metadata": {},
   "outputs": [],
   "source": [
    "X_np = X.to_numpy()  # Convert DataFrame to NumPy array\n",
    "X_np.setflags(write=1)  # Ensure it's writable\n",
    "X_np = X_np.astype(np.float32)  # Convert to desired dtype"
   ]
  },
  {
   "cell_type": "code",
   "execution_count": 51,
   "id": "ae1628b0-8c7c-41ce-b76f-64b22785c191",
   "metadata": {},
   "outputs": [],
   "source": [
    "from tensorflow.keras.models import Sequential\n",
    "from tensorflow.keras.layers import Dense,Dropout\n",
    "from tensorflow.keras.regularizers import l1, l2\n",
    "from tensorflow.keras.optimizers import SGD\n",
    "\n",
    "model = Sequential([\n",
    "    Dense(64, activation='relu', input_shape=(7,)),\n",
    "    Dropout(0.3),\n",
    "    Dense(32, activation='relu',kernel_regularizer=l2(0.05)),\n",
    "    Dropout(0.3),\n",
    "    Dense(10, activation='softmax')  # or 'sigmoid' for binary classification\n",
    "])\n",
    "\n",
    "optimizer = SGD(learning_rate=0.01, momentum=0.9)\n",
    "model.compile(optimizer=optimizer, loss='sparse_categorical_crossentropy', metrics=['accuracy'])"
   ]
  },
  {
   "cell_type": "code",
   "execution_count": 38,
   "id": "0af8c01f-f015-495c-84af-c7bd31a548f9",
   "metadata": {},
   "outputs": [
    {
     "name": "stdout",
     "output_type": "stream",
     "text": [
      "Epoch 1/10\n",
      "\u001b[1m23437/23437\u001b[0m \u001b[32m━━━━━━━━━━━━━━━━━━━━\u001b[0m\u001b[37m\u001b[0m \u001b[1m48s\u001b[0m 2ms/step - accuracy: 0.1508 - loss: 1.9933\n",
      "Epoch 2/10\n",
      "\u001b[1m23437/23437\u001b[0m \u001b[32m━━━━━━━━━━━━━━━━━━━━\u001b[0m\u001b[37m\u001b[0m \u001b[1m50s\u001b[0m 2ms/step - accuracy: 0.1515 - loss: 1.9449\n",
      "Epoch 3/10\n",
      "\u001b[1m23437/23437\u001b[0m \u001b[32m━━━━━━━━━━━━━━━━━━━━\u001b[0m\u001b[37m\u001b[0m \u001b[1m51s\u001b[0m 2ms/step - accuracy: 0.1514 - loss: 1.9442\n",
      "Epoch 4/10\n",
      "\u001b[1m23437/23437\u001b[0m \u001b[32m━━━━━━━━━━━━━━━━━━━━\u001b[0m\u001b[37m\u001b[0m \u001b[1m50s\u001b[0m 2ms/step - accuracy: 0.1521 - loss: 1.9439\n",
      "Epoch 5/10\n",
      "\u001b[1m23437/23437\u001b[0m \u001b[32m━━━━━━━━━━━━━━━━━━━━\u001b[0m\u001b[37m\u001b[0m \u001b[1m48s\u001b[0m 2ms/step - accuracy: 0.1526 - loss: 1.9436\n",
      "Epoch 6/10\n",
      "\u001b[1m23437/23437\u001b[0m \u001b[32m━━━━━━━━━━━━━━━━━━━━\u001b[0m\u001b[37m\u001b[0m \u001b[1m53s\u001b[0m 2ms/step - accuracy: 0.1522 - loss: 1.9435\n",
      "Epoch 7/10\n",
      "\u001b[1m23437/23437\u001b[0m \u001b[32m━━━━━━━━━━━━━━━━━━━━\u001b[0m\u001b[37m\u001b[0m \u001b[1m53s\u001b[0m 2ms/step - accuracy: 0.1531 - loss: 1.9433\n",
      "Epoch 8/10\n",
      "\u001b[1m23437/23437\u001b[0m \u001b[32m━━━━━━━━━━━━━━━━━━━━\u001b[0m\u001b[37m\u001b[0m \u001b[1m54s\u001b[0m 2ms/step - accuracy: 0.1527 - loss: 1.9432\n",
      "Epoch 9/10\n",
      "\u001b[1m23437/23437\u001b[0m \u001b[32m━━━━━━━━━━━━━━━━━━━━\u001b[0m\u001b[37m\u001b[0m \u001b[1m51s\u001b[0m 2ms/step - accuracy: 0.1524 - loss: 1.9432\n",
      "Epoch 10/10\n",
      "\u001b[1m23437/23437\u001b[0m \u001b[32m━━━━━━━━━━━━━━━━━━━━\u001b[0m\u001b[37m\u001b[0m \u001b[1m50s\u001b[0m 2ms/step - accuracy: 0.1529 - loss: 1.9431\n"
     ]
    },
    {
     "data": {
      "text/plain": [
       "<keras.src.callbacks.history.History at 0x1336632eb40>"
      ]
     },
     "execution_count": 38,
     "metadata": {},
     "output_type": "execute_result"
    }
   ],
   "source": [
    "model.fit(dataset, epochs=10)"
   ]
  },
  {
   "cell_type": "code",
   "execution_count": 39,
   "id": "11809361-19fc-479d-bfca-7fb76fdbdd3c",
   "metadata": {},
   "outputs": [
    {
     "name": "stdout",
     "output_type": "stream",
     "text": [
      "\u001b[1m23437/23437\u001b[0m \u001b[32m━━━━━━━━━━━━━━━━━━━━\u001b[0m\u001b[37m\u001b[0m \u001b[1m48s\u001b[0m 2ms/step - accuracy: 0.1497 - loss: 1.9435\n",
      "[1.9434595108032227, 0.14993919432163239]\n"
     ]
    }
   ],
   "source": [
    "results = model.evaluate(dataset)\n",
    "print(results)"
   ]
  },
  {
   "cell_type": "code",
   "execution_count": 52,
   "id": "f60ad6e7-344d-4812-8e14-705c04851342",
   "metadata": {},
   "outputs": [
    {
     "name": "stdout",
     "output_type": "stream",
     "text": [
      "(array([0, 1, 2, 3, 4, 5, 6]), array([113887, 114436, 112453, 110889, 111158,  94860,  92317],\n",
      "      dtype=int64))\n",
      "\u001b[1m1/1\u001b[0m \u001b[32m━━━━━━━━━━━━━━━━━━━━\u001b[0m\u001b[37m\u001b[0m \u001b[1m0s\u001b[0m 73ms/step\n",
      "Predictions: [6 6 6 6 6 6 6 6 6 6 6 6 6 6 6 6 6 6 6 6 6 6 6 6 6 6]\n"
     ]
    }
   ],
   "source": [
    "# Sanity check on label spread\n",
    "print(np.unique(y, return_counts=True))\n",
    "\n",
    "# Try predicting from untrained model\n",
    "sample_preds = model.predict(X[:26])\n",
    "print(\"Predictions:\", sample_preds.argmax(axis=1))"
   ]
  },
  {
   "cell_type": "code",
   "execution_count": null,
   "id": "79227a3e-e57a-4375-9f11-6adf093f0812",
   "metadata": {},
   "outputs": [],
   "source": []
  }
 ],
 "metadata": {
  "kernelspec": {
   "display_name": "Python 3 (ipykernel)",
   "language": "python",
   "name": "python3"
  },
  "language_info": {
   "codemirror_mode": {
    "name": "ipython",
    "version": 3
   },
   "file_extension": ".py",
   "mimetype": "text/x-python",
   "name": "python",
   "nbconvert_exporter": "python",
   "pygments_lexer": "ipython3",
   "version": "3.12.7"
  }
 },
 "nbformat": 4,
 "nbformat_minor": 5
}
