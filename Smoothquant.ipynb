{
 "cells": [
  {
   "cell_type": "code",
   "execution_count": 1,
   "id": "0b689cfa-a65f-4e0c-9218-776ab23f665d",
   "metadata": {},
   "outputs": [],
   "source": [
    "import pandas as pd"
   ]
  },
  {
   "cell_type": "code",
   "execution_count": 2,
   "id": "7611f969-84bd-4f77-b2c2-ab568a027ed6",
   "metadata": {},
   "outputs": [],
   "source": [
    "import numpy as np"
   ]
  },
  {
   "cell_type": "code",
   "execution_count": 3,
   "id": "eeb49b6d-a430-4357-933c-c564dd4f31c5",
   "metadata": {},
   "outputs": [],
   "source": [
    "df = pd.read_csv(\"C:/Users/pkitt/Downloads/playground-series-s5e6/train.csv\")"
   ]
  },
  {
   "cell_type": "code",
   "execution_count": 4,
   "id": "651f655e-8117-4657-8f06-7a02009018a9",
   "metadata": {},
   "outputs": [
    {
     "name": "stderr",
     "output_type": "stream",
     "text": [
      "C:\\Users\\pkitt\\AppData\\Local\\Temp\\ipykernel_23372\\1653857449.py:1: UserWarning: Pandas doesn't allow columns to be created via a new attribute name - see https://pandas.pydata.org/pandas-docs/stable/indexing.html#attribute-access\n",
      "  df.cat =df.select_dtypes(include=[object])\n"
     ]
    }
   ],
   "source": [
    "df.cat =df.select_dtypes(include=[object]) "
   ]
  },
  {
   "cell_type": "code",
   "execution_count": 5,
   "id": "784a3209-d06b-4cf1-a1f8-4aa924d0f3c3",
   "metadata": {},
   "outputs": [
    {
     "name": "stderr",
     "output_type": "stream",
     "text": [
      "C:\\Users\\pkitt\\AppData\\Local\\Temp\\ipykernel_23372\\610118065.py:1: UserWarning: Pandas doesn't allow columns to be created via a new attribute name - see https://pandas.pydata.org/pandas-docs/stable/indexing.html#attribute-access\n",
      "  df.num=df.select_dtypes(include=[np.number])\n"
     ]
    }
   ],
   "source": [
    "df.num=df.select_dtypes(include=[np.number])"
   ]
  },
  {
   "cell_type": "code",
   "execution_count": 6,
   "id": "fd52a9ef-afc4-48a5-87e1-0918790fd049",
   "metadata": {},
   "outputs": [
    {
     "data": {
      "text/html": [
       "<div>\n",
       "<style scoped>\n",
       "    .dataframe tbody tr th:only-of-type {\n",
       "        vertical-align: middle;\n",
       "    }\n",
       "\n",
       "    .dataframe tbody tr th {\n",
       "        vertical-align: top;\n",
       "    }\n",
       "\n",
       "    .dataframe thead th {\n",
       "        text-align: right;\n",
       "    }\n",
       "</style>\n",
       "<table border=\"1\" class=\"dataframe\">\n",
       "  <thead>\n",
       "    <tr style=\"text-align: right;\">\n",
       "      <th></th>\n",
       "      <th>Soil Type</th>\n",
       "      <th>Crop Type</th>\n",
       "      <th>Fertilizer Name</th>\n",
       "    </tr>\n",
       "  </thead>\n",
       "  <tbody>\n",
       "    <tr>\n",
       "      <th>0</th>\n",
       "      <td>Clayey</td>\n",
       "      <td>Sugarcane</td>\n",
       "      <td>28-28</td>\n",
       "    </tr>\n",
       "    <tr>\n",
       "      <th>1</th>\n",
       "      <td>Sandy</td>\n",
       "      <td>Millets</td>\n",
       "      <td>28-28</td>\n",
       "    </tr>\n",
       "    <tr>\n",
       "      <th>2</th>\n",
       "      <td>Sandy</td>\n",
       "      <td>Millets</td>\n",
       "      <td>17-17-17</td>\n",
       "    </tr>\n",
       "    <tr>\n",
       "      <th>3</th>\n",
       "      <td>Sandy</td>\n",
       "      <td>Barley</td>\n",
       "      <td>10-26-26</td>\n",
       "    </tr>\n",
       "    <tr>\n",
       "      <th>4</th>\n",
       "      <td>Red</td>\n",
       "      <td>Paddy</td>\n",
       "      <td>DAP</td>\n",
       "    </tr>\n",
       "  </tbody>\n",
       "</table>\n",
       "</div>"
      ],
      "text/plain": [
       "  Soil Type  Crop Type Fertilizer Name\n",
       "0    Clayey  Sugarcane           28-28\n",
       "1     Sandy    Millets           28-28\n",
       "2     Sandy    Millets        17-17-17\n",
       "3     Sandy     Barley        10-26-26\n",
       "4       Red      Paddy             DAP"
      ]
     },
     "execution_count": 6,
     "metadata": {},
     "output_type": "execute_result"
    }
   ],
   "source": [
    "df.cat.head()"
   ]
  },
  {
   "cell_type": "code",
   "execution_count": 7,
   "id": "c76f84b4-283c-4d21-9a0c-c96637f73c7e",
   "metadata": {},
   "outputs": [],
   "source": [
    "from sklearn.preprocessing import LabelEncoder"
   ]
  },
  {
   "cell_type": "code",
   "execution_count": 8,
   "id": "8e8c89e6-e7e8-4381-8d6d-f581a84c3909",
   "metadata": {},
   "outputs": [],
   "source": [
    "le = LabelEncoder()"
   ]
  },
  {
   "cell_type": "code",
   "execution_count": 9,
   "id": "5797c7bc-02c3-4950-998f-c81b80a31b17",
   "metadata": {},
   "outputs": [],
   "source": [
    "df.cat[\"Soil Type\"] = le.fit_transform(df.cat[\"Soil Type\"])"
   ]
  },
  {
   "cell_type": "code",
   "execution_count": 10,
   "id": "19871d5f-39f0-449c-abfa-97eb620ba7b9",
   "metadata": {},
   "outputs": [],
   "source": [
    "df.cat[\"Crop Type\"] = le.fit_transform(df.cat[\"Crop Type\"])"
   ]
  },
  {
   "cell_type": "code",
   "execution_count": 11,
   "id": "7cf11e62-a448-4e5a-a90b-242637706c16",
   "metadata": {},
   "outputs": [],
   "source": [
    "df.cat[\"Fertilizer Name\"] = le.fit_transform(df.cat[\"Fertilizer Name\"])"
   ]
  },
  {
   "cell_type": "code",
   "execution_count": 12,
   "id": "a822553b-5664-428d-822a-566c9d0a72ba",
   "metadata": {},
   "outputs": [
    {
     "data": {
      "text/html": [
       "<div>\n",
       "<style scoped>\n",
       "    .dataframe tbody tr th:only-of-type {\n",
       "        vertical-align: middle;\n",
       "    }\n",
       "\n",
       "    .dataframe tbody tr th {\n",
       "        vertical-align: top;\n",
       "    }\n",
       "\n",
       "    .dataframe thead th {\n",
       "        text-align: right;\n",
       "    }\n",
       "</style>\n",
       "<table border=\"1\" class=\"dataframe\">\n",
       "  <thead>\n",
       "    <tr style=\"text-align: right;\">\n",
       "      <th></th>\n",
       "      <th>Soil Type</th>\n",
       "      <th>Crop Type</th>\n",
       "      <th>Fertilizer Name</th>\n",
       "    </tr>\n",
       "  </thead>\n",
       "  <tbody>\n",
       "    <tr>\n",
       "      <th>749980</th>\n",
       "      <td>0</td>\n",
       "      <td>10</td>\n",
       "      <td>5</td>\n",
       "    </tr>\n",
       "    <tr>\n",
       "      <th>749981</th>\n",
       "      <td>2</td>\n",
       "      <td>2</td>\n",
       "      <td>2</td>\n",
       "    </tr>\n",
       "    <tr>\n",
       "      <th>749982</th>\n",
       "      <td>3</td>\n",
       "      <td>8</td>\n",
       "      <td>0</td>\n",
       "    </tr>\n",
       "    <tr>\n",
       "      <th>749983</th>\n",
       "      <td>4</td>\n",
       "      <td>3</td>\n",
       "      <td>2</td>\n",
       "    </tr>\n",
       "    <tr>\n",
       "      <th>749984</th>\n",
       "      <td>4</td>\n",
       "      <td>6</td>\n",
       "      <td>1</td>\n",
       "    </tr>\n",
       "    <tr>\n",
       "      <th>749985</th>\n",
       "      <td>3</td>\n",
       "      <td>3</td>\n",
       "      <td>0</td>\n",
       "    </tr>\n",
       "    <tr>\n",
       "      <th>749986</th>\n",
       "      <td>0</td>\n",
       "      <td>10</td>\n",
       "      <td>3</td>\n",
       "    </tr>\n",
       "    <tr>\n",
       "      <th>749987</th>\n",
       "      <td>3</td>\n",
       "      <td>3</td>\n",
       "      <td>6</td>\n",
       "    </tr>\n",
       "    <tr>\n",
       "      <th>749988</th>\n",
       "      <td>0</td>\n",
       "      <td>3</td>\n",
       "      <td>1</td>\n",
       "    </tr>\n",
       "    <tr>\n",
       "      <th>749989</th>\n",
       "      <td>0</td>\n",
       "      <td>4</td>\n",
       "      <td>4</td>\n",
       "    </tr>\n",
       "    <tr>\n",
       "      <th>749990</th>\n",
       "      <td>2</td>\n",
       "      <td>6</td>\n",
       "      <td>4</td>\n",
       "    </tr>\n",
       "    <tr>\n",
       "      <th>749991</th>\n",
       "      <td>4</td>\n",
       "      <td>7</td>\n",
       "      <td>4</td>\n",
       "    </tr>\n",
       "    <tr>\n",
       "      <th>749992</th>\n",
       "      <td>3</td>\n",
       "      <td>10</td>\n",
       "      <td>3</td>\n",
       "    </tr>\n",
       "    <tr>\n",
       "      <th>749993</th>\n",
       "      <td>0</td>\n",
       "      <td>9</td>\n",
       "      <td>6</td>\n",
       "    </tr>\n",
       "    <tr>\n",
       "      <th>749994</th>\n",
       "      <td>0</td>\n",
       "      <td>2</td>\n",
       "      <td>1</td>\n",
       "    </tr>\n",
       "    <tr>\n",
       "      <th>749995</th>\n",
       "      <td>1</td>\n",
       "      <td>3</td>\n",
       "      <td>4</td>\n",
       "    </tr>\n",
       "    <tr>\n",
       "      <th>749996</th>\n",
       "      <td>2</td>\n",
       "      <td>8</td>\n",
       "      <td>2</td>\n",
       "    </tr>\n",
       "    <tr>\n",
       "      <th>749997</th>\n",
       "      <td>4</td>\n",
       "      <td>2</td>\n",
       "      <td>0</td>\n",
       "    </tr>\n",
       "    <tr>\n",
       "      <th>749998</th>\n",
       "      <td>3</td>\n",
       "      <td>1</td>\n",
       "      <td>3</td>\n",
       "    </tr>\n",
       "    <tr>\n",
       "      <th>749999</th>\n",
       "      <td>2</td>\n",
       "      <td>1</td>\n",
       "      <td>6</td>\n",
       "    </tr>\n",
       "  </tbody>\n",
       "</table>\n",
       "</div>"
      ],
      "text/plain": [
       "        Soil Type  Crop Type  Fertilizer Name\n",
       "749980          0         10                5\n",
       "749981          2          2                2\n",
       "749982          3          8                0\n",
       "749983          4          3                2\n",
       "749984          4          6                1\n",
       "749985          3          3                0\n",
       "749986          0         10                3\n",
       "749987          3          3                6\n",
       "749988          0          3                1\n",
       "749989          0          4                4\n",
       "749990          2          6                4\n",
       "749991          4          7                4\n",
       "749992          3         10                3\n",
       "749993          0          9                6\n",
       "749994          0          2                1\n",
       "749995          1          3                4\n",
       "749996          2          8                2\n",
       "749997          4          2                0\n",
       "749998          3          1                3\n",
       "749999          2          1                6"
      ]
     },
     "execution_count": 12,
     "metadata": {},
     "output_type": "execute_result"
    }
   ],
   "source": [
    "df.cat.tail(20)"
   ]
  },
  {
   "cell_type": "code",
   "execution_count": 13,
   "id": "2bcae4d0-4d48-44cb-9795-382f180a68cc",
   "metadata": {},
   "outputs": [],
   "source": [
    "df_train = pd.concat([df.num,df.cat],axis=1)"
   ]
  },
  {
   "cell_type": "code",
   "execution_count": 14,
   "id": "d0ff38e2-88ab-4b25-9e75-227b42451aa5",
   "metadata": {},
   "outputs": [],
   "source": [
    "matrix=df_train.corr()"
   ]
  },
  {
   "cell_type": "code",
   "execution_count": 15,
   "id": "078c04ed-44ff-44c2-9382-7cab17c2d8da",
   "metadata": {},
   "outputs": [
    {
     "data": {
      "text/html": [
       "<div>\n",
       "<style scoped>\n",
       "    .dataframe tbody tr th:only-of-type {\n",
       "        vertical-align: middle;\n",
       "    }\n",
       "\n",
       "    .dataframe tbody tr th {\n",
       "        vertical-align: top;\n",
       "    }\n",
       "\n",
       "    .dataframe thead th {\n",
       "        text-align: right;\n",
       "    }\n",
       "</style>\n",
       "<table border=\"1\" class=\"dataframe\">\n",
       "  <thead>\n",
       "    <tr style=\"text-align: right;\">\n",
       "      <th></th>\n",
       "      <th>id</th>\n",
       "      <th>Temparature</th>\n",
       "      <th>Humidity</th>\n",
       "      <th>Moisture</th>\n",
       "      <th>Nitrogen</th>\n",
       "      <th>Potassium</th>\n",
       "      <th>Phosphorous</th>\n",
       "      <th>Soil Type</th>\n",
       "      <th>Crop Type</th>\n",
       "      <th>Fertilizer Name</th>\n",
       "    </tr>\n",
       "  </thead>\n",
       "  <tbody>\n",
       "    <tr>\n",
       "      <th>id</th>\n",
       "      <td>1.000000</td>\n",
       "      <td>-0.001069</td>\n",
       "      <td>-0.000310</td>\n",
       "      <td>0.001752</td>\n",
       "      <td>0.001505</td>\n",
       "      <td>-0.000375</td>\n",
       "      <td>-0.001234</td>\n",
       "      <td>0.002831</td>\n",
       "      <td>-0.000953</td>\n",
       "      <td>-0.000179</td>\n",
       "    </tr>\n",
       "    <tr>\n",
       "      <th>Temparature</th>\n",
       "      <td>-0.001069</td>\n",
       "      <td>1.000000</td>\n",
       "      <td>0.001758</td>\n",
       "      <td>-0.001633</td>\n",
       "      <td>-0.006073</td>\n",
       "      <td>-0.009913</td>\n",
       "      <td>0.000298</td>\n",
       "      <td>-0.007621</td>\n",
       "      <td>-0.006753</td>\n",
       "      <td>0.001727</td>\n",
       "    </tr>\n",
       "    <tr>\n",
       "      <th>Humidity</th>\n",
       "      <td>-0.000310</td>\n",
       "      <td>0.001758</td>\n",
       "      <td>1.000000</td>\n",
       "      <td>0.003424</td>\n",
       "      <td>0.006502</td>\n",
       "      <td>0.005229</td>\n",
       "      <td>0.002413</td>\n",
       "      <td>0.003921</td>\n",
       "      <td>0.002414</td>\n",
       "      <td>0.010626</td>\n",
       "    </tr>\n",
       "    <tr>\n",
       "      <th>Moisture</th>\n",
       "      <td>0.001752</td>\n",
       "      <td>-0.001633</td>\n",
       "      <td>0.003424</td>\n",
       "      <td>1.000000</td>\n",
       "      <td>0.003016</td>\n",
       "      <td>-0.001931</td>\n",
       "      <td>-0.006735</td>\n",
       "      <td>-0.003941</td>\n",
       "      <td>-0.003400</td>\n",
       "      <td>0.011493</td>\n",
       "    </tr>\n",
       "    <tr>\n",
       "      <th>Nitrogen</th>\n",
       "      <td>0.001505</td>\n",
       "      <td>-0.006073</td>\n",
       "      <td>0.006502</td>\n",
       "      <td>0.003016</td>\n",
       "      <td>1.000000</td>\n",
       "      <td>0.000543</td>\n",
       "      <td>-0.005464</td>\n",
       "      <td>-0.000650</td>\n",
       "      <td>0.001611</td>\n",
       "      <td>-0.004725</td>\n",
       "    </tr>\n",
       "    <tr>\n",
       "      <th>Potassium</th>\n",
       "      <td>-0.000375</td>\n",
       "      <td>-0.009913</td>\n",
       "      <td>0.005229</td>\n",
       "      <td>-0.001931</td>\n",
       "      <td>0.000543</td>\n",
       "      <td>1.000000</td>\n",
       "      <td>0.000113</td>\n",
       "      <td>0.005314</td>\n",
       "      <td>-0.003748</td>\n",
       "      <td>-0.010872</td>\n",
       "    </tr>\n",
       "    <tr>\n",
       "      <th>Phosphorous</th>\n",
       "      <td>-0.001234</td>\n",
       "      <td>0.000298</td>\n",
       "      <td>0.002413</td>\n",
       "      <td>-0.006735</td>\n",
       "      <td>-0.005464</td>\n",
       "      <td>0.000113</td>\n",
       "      <td>1.000000</td>\n",
       "      <td>-0.000275</td>\n",
       "      <td>0.000694</td>\n",
       "      <td>-0.006127</td>\n",
       "    </tr>\n",
       "    <tr>\n",
       "      <th>Soil Type</th>\n",
       "      <td>0.002831</td>\n",
       "      <td>-0.007621</td>\n",
       "      <td>0.003921</td>\n",
       "      <td>-0.003941</td>\n",
       "      <td>-0.000650</td>\n",
       "      <td>0.005314</td>\n",
       "      <td>-0.000275</td>\n",
       "      <td>1.000000</td>\n",
       "      <td>-0.006213</td>\n",
       "      <td>0.016576</td>\n",
       "    </tr>\n",
       "    <tr>\n",
       "      <th>Crop Type</th>\n",
       "      <td>-0.000953</td>\n",
       "      <td>-0.006753</td>\n",
       "      <td>0.002414</td>\n",
       "      <td>-0.003400</td>\n",
       "      <td>0.001611</td>\n",
       "      <td>-0.003748</td>\n",
       "      <td>0.000694</td>\n",
       "      <td>-0.006213</td>\n",
       "      <td>1.000000</td>\n",
       "      <td>-0.013041</td>\n",
       "    </tr>\n",
       "    <tr>\n",
       "      <th>Fertilizer Name</th>\n",
       "      <td>-0.000179</td>\n",
       "      <td>0.001727</td>\n",
       "      <td>0.010626</td>\n",
       "      <td>0.011493</td>\n",
       "      <td>-0.004725</td>\n",
       "      <td>-0.010872</td>\n",
       "      <td>-0.006127</td>\n",
       "      <td>0.016576</td>\n",
       "      <td>-0.013041</td>\n",
       "      <td>1.000000</td>\n",
       "    </tr>\n",
       "  </tbody>\n",
       "</table>\n",
       "</div>"
      ],
      "text/plain": [
       "                       id  Temparature  Humidity  Moisture  Nitrogen  \\\n",
       "id               1.000000    -0.001069 -0.000310  0.001752  0.001505   \n",
       "Temparature     -0.001069     1.000000  0.001758 -0.001633 -0.006073   \n",
       "Humidity        -0.000310     0.001758  1.000000  0.003424  0.006502   \n",
       "Moisture         0.001752    -0.001633  0.003424  1.000000  0.003016   \n",
       "Nitrogen         0.001505    -0.006073  0.006502  0.003016  1.000000   \n",
       "Potassium       -0.000375    -0.009913  0.005229 -0.001931  0.000543   \n",
       "Phosphorous     -0.001234     0.000298  0.002413 -0.006735 -0.005464   \n",
       "Soil Type        0.002831    -0.007621  0.003921 -0.003941 -0.000650   \n",
       "Crop Type       -0.000953    -0.006753  0.002414 -0.003400  0.001611   \n",
       "Fertilizer Name -0.000179     0.001727  0.010626  0.011493 -0.004725   \n",
       "\n",
       "                 Potassium  Phosphorous  Soil Type  Crop Type  Fertilizer Name  \n",
       "id               -0.000375    -0.001234   0.002831  -0.000953        -0.000179  \n",
       "Temparature      -0.009913     0.000298  -0.007621  -0.006753         0.001727  \n",
       "Humidity          0.005229     0.002413   0.003921   0.002414         0.010626  \n",
       "Moisture         -0.001931    -0.006735  -0.003941  -0.003400         0.011493  \n",
       "Nitrogen          0.000543    -0.005464  -0.000650   0.001611        -0.004725  \n",
       "Potassium         1.000000     0.000113   0.005314  -0.003748        -0.010872  \n",
       "Phosphorous       0.000113     1.000000  -0.000275   0.000694        -0.006127  \n",
       "Soil Type         0.005314    -0.000275   1.000000  -0.006213         0.016576  \n",
       "Crop Type        -0.003748     0.000694  -0.006213   1.000000        -0.013041  \n",
       "Fertilizer Name  -0.010872    -0.006127   0.016576  -0.013041         1.000000  "
      ]
     },
     "execution_count": 15,
     "metadata": {},
     "output_type": "execute_result"
    }
   ],
   "source": [
    "matrix"
   ]
  },
  {
   "cell_type": "code",
   "execution_count": 16,
   "id": "4d87f43b-bbfc-4daf-80d6-b4cdffe3f82f",
   "metadata": {},
   "outputs": [],
   "source": [
    "X = df_train[[\"Temparature\",\"Humidity\",\"Moisture\",\"Crop Type\",\"Soil Type\"]]"
   ]
  },
  {
   "cell_type": "code",
   "execution_count": 17,
   "id": "8fa578fb-d3f4-4b65-a6c9-4d9a08ecc834",
   "metadata": {},
   "outputs": [],
   "source": [
    "y = df_train[[\"Fertilizer Name\"]]"
   ]
  },
  {
   "cell_type": "code",
   "execution_count": 18,
   "id": "c76a4a88-c55f-4213-bc02-1527c68abab4",
   "metadata": {},
   "outputs": [],
   "source": [
    "from sklearn.model_selection import train_test_split\n",
    "X_train, X_test, y_train, y_test = train_test_split(X, y, test_size=0.2, random_state=42)"
   ]
  },
  {
   "cell_type": "code",
   "execution_count": 19,
   "id": "16adc0bb-5258-43b3-b038-b114c4bc886d",
   "metadata": {},
   "outputs": [],
   "source": [
    "import torch\n",
    "import torch.nn as nn\n",
    "device = torch.device(\"cuda\" if torch.cuda.is_available() else \"cpu\")\n",
    "from torch.utils.data import Dataset\n",
    "\n",
    "class FeatureTokenizer(nn.Module):\n",
    "    def __init__(self, num_numeric, cat_cardinalities, embed_dim):\n",
    "        super().__init__()\n",
    "        self.num_linear = nn.Linear(num_numeric, embed_dim)\n",
    "        self.cat_embeds = nn.ModuleList([\n",
    "            nn.Embedding(cardinality, embed_dim) for cardinality in cat_cardinalities\n",
    "        ])\n",
    "        self.cls_token = nn.Parameter(torch.randn(1, 1, embed_dim))\n",
    "\n",
    "    def forward(self, x_num, x_cat):\n",
    "        # Sanity check\n",
    "        assert x_cat.shape[1] == len(self.cat_embeds), (\n",
    "            f\"x_cat has {x_cat.shape[1]} columns, but cat_embeds has {len(self.cat_embeds)} embeddings\"\n",
    "        )\n",
    "\n",
    "        # Project numerical features\n",
    "        num_tokens = self.num_linear(x_num).unsqueeze(1)  # [B, 1, D]\n",
    "\n",
    "        # Clamp categorical indices to valid range\n",
    "        x_cat_clamped = torch.stack([\n",
    "            torch.clamp(x_cat[:, i], max=self.cat_embeds[i].num_embeddings - 1)\n",
    "            for i in range(x_cat.shape[1])\n",
    "        ], dim=1)\n",
    "\n",
    "        # Embed categorical features\n",
    "        cat_tokens = [embed(x_cat_clamped[:, i])[:, None, :] for i, embed in enumerate(self.cat_embeds)]\n",
    "\n",
    "        # Concatenate [CLS] + categorical + numerical tokens\n",
    "        tokens = torch.cat(\n",
    "            [self.cls_token.expand(x_num.size(0), -1, -1)] + cat_tokens + [num_tokens],\n",
    "            dim=1\n",
    "        )  # [B, T, D]\n",
    "\n",
    "        return tokens"
   ]
  },
  {
   "cell_type": "code",
   "execution_count": 20,
   "id": "f9643251-157c-4f72-b508-3cad52dd9e4e",
   "metadata": {},
   "outputs": [],
   "source": [
    "import torch\n",
    "import torch.nn as nn\n",
    "device = torch.device(\"cuda\" if torch.cuda.is_available() else \"cpu\")\n",
    "from torch.utils.data import Dataset\n",
    "class FTTransformer(nn.Module):\n",
    "    def __init__(self, num_numeric, cat_cardinalities, embed_dim=32, num_heads=4, num_layers=2, num_classes=7):\n",
    "        super().__init__()\n",
    "        cat_cardinalities = [\n",
    "    df[\"Soil Type\"].nunique(),\n",
    "    df[\"Crop Type\"].nunique()]\n",
    "        self.tokenizer = FeatureTokenizer(num_numeric=3, cat_cardinalities=cat_cardinalities, embed_dim=embed_dim)\n",
    "        encoder_layer = nn.TransformerEncoderLayer(d_model=embed_dim, nhead=num_heads, batch_first=True)\n",
    "        self.transformer = nn.TransformerEncoder(encoder_layer, num_layers=num_layers)\n",
    "        self.head = nn.Sequential(\n",
    "            nn.LayerNorm(embed_dim),\n",
    "            nn.Linear(embed_dim, num_classes)\n",
    "        )\n",
    "\n",
    "    def forward(self, x_num, x_cat):\n",
    "        tokens = self.tokenizer(x_num, x_cat)          # includes [CLS] token already\n",
    "        encoded = self.transformer(tokens)\n",
    "        return self.head(encoded[:, 0, :])              # pull [CLS] token output"
   ]
  },
  {
   "cell_type": "code",
   "execution_count": 21,
   "id": "886161ff-1db5-4a51-bb3f-8dd9976b77fb",
   "metadata": {},
   "outputs": [],
   "source": [
    "class FTTransformer(nn.Module):\n",
    "    def __init__(self, num_numeric, cat_cardinalities, embed_dim=64, num_heads=4, num_layers=4, num_classes=7):\n",
    "        super().__init__()\n",
    "        self.tokenizer = FeatureTokenizer(num_numeric, cat_cardinalities, embed_dim)\n",
    "#PyTorch uses the Post-LN Transformer architecture:\n",
    "#It adds residual connections around both the multi-head attention and feedforward blocks.\n",
    "#It applies layer normalization after each residual connection.\n",
    "\n",
    "        encoder_layer = nn.TransformerEncoderLayer(\n",
    "            d_model=embed_dim,\n",
    "            nhead=num_heads,\n",
    "            batch_first=True,\n",
    "            activation='gelu'  # smoother gradients than ReLU\n",
    "        )\n",
    "        self.transformer = nn.TransformerEncoder(encoder_layer, num_layers=num_layers)\n",
    "\n",
    "        self.head = nn.Sequential(\n",
    "            nn.LayerNorm(embed_dim),\n",
    "            nn.Linear(embed_dim, num_classes)\n",
    "        )\n",
    "\n",
    "    def forward(self, x_num, x_cat):\n",
    "        tokens = self.tokenizer(x_num, x_cat)  # [B, T, D] with [CLS] already included\n",
    "        encoded = self.transformer(tokens)\n",
    "        return self.head(encoded[:, 0, :])     # pull from [CLS] token"
   ]
  },
  {
   "cell_type": "code",
   "execution_count": 22,
   "id": "a1a797ee-95d4-4960-a02a-6cf437cb72c0",
   "metadata": {},
   "outputs": [],
   "source": [
    "numeric_features = [\"Temperature\", \"Humidity\", \"Moisture\"]  # update as needed\n",
    "num_numeric = len(numeric_features)"
   ]
  },
  {
   "cell_type": "code",
   "execution_count": 23,
   "id": "1b2d46bd-5323-48ce-bfa2-9e20beabb18b",
   "metadata": {},
   "outputs": [],
   "source": [
    "cat_cardinalities = [\n",
    "    df[\"Soil Type\"].nunique(),\n",
    "    df[\"Crop Type\"].nunique()\n",
    "]\n",
    "# Encode string categories if not already done\n",
    "df[\"Soil Type\"] = df[\"Soil Type\"].astype(\"category\").cat.codes\n",
    "df[\"Crop Type\"] = df[\"Crop Type\"].astype(\"category\").cat.codes\n",
    "df[\"Fertilizer Name\"] = df[\"Fertilizer Name\"].astype(\"category\").cat.codes\n",
    "# Create the categorical tensor\n",
    "x_cat_tensor = torch.tensor(df[[\"Soil Type\", \"Crop Type\"]].values, dtype=torch.long)\n",
    "y_tensor = torch.tensor(df[[\"Fertilizer Name\"]].values, dtype=torch.long)"
   ]
  },
  {
   "cell_type": "code",
   "execution_count": 24,
   "id": "609ec748-803e-4971-94e5-54d59717c507",
   "metadata": {},
   "outputs": [],
   "source": [
    "model = FTTransformer(\n",
    "    num_numeric=num_numeric,\n",
    "    cat_cardinalities=cat_cardinalities,\n",
    "    embed_dim=64,\n",
    "    num_heads=4,\n",
    "    num_layers=4,\n",
    "    num_classes=7\n",
    ").to(device)"
   ]
  },
  {
   "cell_type": "code",
   "execution_count": 25,
   "id": "a95b6a56-61ea-4e96-870d-bd0d096f3100",
   "metadata": {},
   "outputs": [],
   "source": [
    "# Features\n",
    "x_cat_tensor = torch.tensor(df[[\"Soil Type\", \"Crop Type\"]].values, dtype=torch.long)\n",
    "x_num_tensor = torch.tensor(df[[\"Temparature\", \"Humidity\", \"Moisture\"]].values, dtype=torch.float32)\n",
    "# Target\n",
    "y_train = torch.tensor(df[\"Fertilizer Name\"].values, dtype=torch.long)"
   ]
  },
  {
   "cell_type": "code",
   "execution_count": 26,
   "id": "6a2f0881-d029-44ba-8721-efa7f4d2c220",
   "metadata": {},
   "outputs": [],
   "source": [
    "y_tensor = y_train.squeeze()  # shape: [750000]"
   ]
  },
  {
   "cell_type": "code",
   "execution_count": 27,
   "id": "ca3fe520-fbac-4e0e-a7c0-4acc67917286",
   "metadata": {},
   "outputs": [],
   "source": [
    "#fertilizer_classes = pd.Categorical(df[\"Fertilizer Name\"]).categories.tolist()"
   ]
  },
  {
   "cell_type": "code",
   "execution_count": 28,
   "id": "de14c810-f353-4c8f-9d00-c422d019af5a",
   "metadata": {},
   "outputs": [
    {
     "name": "stdout",
     "output_type": "stream",
     "text": [
      "x_num: torch.Size([750000, 3])\n",
      "x_cat: torch.Size([750000, 2])\n",
      "y_cat: torch.Size([750000])\n"
     ]
    }
   ],
   "source": [
    "\n",
    "print(\"x_num:\", x_num_tensor.shape)\n",
    "print(\"x_cat:\", x_cat_tensor.shape)\n",
    "print(\"y_cat:\", y_tensor.shape)"
   ]
  },
  {
   "cell_type": "code",
   "execution_count": 29,
   "id": "029a954c-9c86-4776-98a2-f0f8892f1dc1",
   "metadata": {},
   "outputs": [],
   "source": [
    "criterion = torch.nn.CrossEntropyLoss()"
   ]
  },
  {
   "cell_type": "code",
   "execution_count": 30,
   "id": "59936ad7-f8d3-4178-aebc-0283b58ff25d",
   "metadata": {},
   "outputs": [
    {
     "name": "stderr",
     "output_type": "stream",
     "text": [
      "C:\\Users\\pkitt\\anaconda3\\Lib\\site-packages\\transformers\\utils\\generic.py:441: UserWarning: torch.utils._pytree._register_pytree_node is deprecated. Please use torch.utils._pytree.register_pytree_node instead.\n",
      "  _torch_pytree._register_pytree_node(\n"
     ]
    }
   ],
   "source": [
    "optimizer = torch.optim.Adam(model.parameters(), lr=1e-3)"
   ]
  },
  {
   "cell_type": "code",
   "execution_count": 31,
   "id": "dc1d73f5-f73d-4fdc-96c5-b4e63829bc17",
   "metadata": {},
   "outputs": [
    {
     "name": "stdout",
     "output_type": "stream",
     "text": [
      "<class 'torch.Tensor'> <class 'torch.Tensor'> <class 'torch.Tensor'>\n"
     ]
    }
   ],
   "source": [
    "print(type(x_num_tensor), type(x_cat_tensor), type(y_tensor))"
   ]
  },
  {
   "cell_type": "code",
   "execution_count": 32,
   "id": "cd1bf9b7-3ad6-4fdc-bca7-c24920892eee",
   "metadata": {},
   "outputs": [],
   "source": [
    "\n",
    "class FertilizerDataset(Dataset):\n",
    "    def __init__(self, x_num, x_cat, y):\n",
    "        self.x_num = x_num\n",
    "        self.x_cat = x_cat\n",
    "        self.y = y  # y must be a LongTensor\n",
    "\n",
    "    def __len__(self):\n",
    "        return len(self.y)\n",
    "\n",
    "    def __getitem__(self, idx):\n",
    "        # ✅ Return three tensors — no tuple wrapping!\n",
    "        return self.x_num[idx], self.x_cat[idx], self.y[idx]"
   ]
  },
  {
   "cell_type": "code",
   "execution_count": 33,
   "id": "a3c5d706-a956-4e50-a2cb-c04b3d39f930",
   "metadata": {},
   "outputs": [],
   "source": [
    "from torch.utils.data import DataLoader\n",
    "\n",
    "dataset = FertilizerDataset(x_num_tensor, x_cat_tensor, y_tensor)  # make sure y_train is aligned\n",
    "train_loader = DataLoader(dataset, batch_size=64, shuffle=True)"
   ]
  },
  {
   "cell_type": "code",
   "execution_count": 34,
   "id": "1c5d452d-90dc-4c18-b287-ec98a058d030",
   "metadata": {},
   "outputs": [],
   "source": [
    "#1. Prep: Activation Stats Collecto\n",
    "from collections import defaultdict\n",
    "\n",
    "activation_stats = defaultdict(list)\n",
    "\n",
    "def record_activation(name):\n",
    "    def hook(module, input, output):\n",
    "        activation_stats[name].append(output.detach().abs().max(dim=0).values)\n",
    "    return hook"
   ]
  },
  {
   "cell_type": "code",
   "execution_count": 35,
   "id": "92231dba-7ee0-4d74-89bf-244d3e70ddc2",
   "metadata": {},
   "outputs": [],
   "source": [
    "#Auto-Hook Target Layer\n",
    "def hook_transformer_layers(model):\n",
    "    for i, layer in enumerate(model.transformer.layers):\n",
    "        layer.linear1.register_forward_hook(record_activation(f\"layer_{i}_linear1\"))\n",
    "        layer.linear2.register_forward_hook(record_activation(f\"layer_{i}_linear2\"))\n",
    "        layer.self_attn.out_proj.register_forward_hook(record_activation(f\"layer_{i}_attn_out\"))"
   ]
  },
  {
   "cell_type": "code",
   "execution_count": 36,
   "id": "2a2b4500-249c-435a-8c2f-196029802f2c",
   "metadata": {},
   "outputs": [],
   "source": [
    "# collect stacks from callibration data\n",
    "def run_calibration(model, dataloader, num_batches=4):\n",
    "    model.eval()\n",
    "    with torch.no_grad():\n",
    "        for i, (x, _) in enumerate(dataloader):\n",
    "            if i >= num_batches: break\n",
    "            _ = model(x)"
   ]
  },
  {
   "cell_type": "code",
   "execution_count": 37,
   "id": "3b0e7f6d-ef99-4b2b-8d91-319e23863788",
   "metadata": {},
   "outputs": [],
   "source": [
    "# computing scaling factors\n",
    "def compute_scaling_factors(alpha=0.5, eps=1e-6):\n",
    "    scaling_factors = {}\n",
    "    for name, acts in activation_stats.items():\n",
    "        max_act = torch.stack(acts).max(dim=0).values\n",
    "        scaling_factors[name] = max_act.pow(alpha) + eps\n",
    "    return scaling_factors"
   ]
  },
  {
   "cell_type": "code",
   "execution_count": 38,
   "id": "a534099a-d201-4e19-b424-7214abda673a",
   "metadata": {},
   "outputs": [],
   "source": [
    "# smoothquant Wrapper\n",
    "class SmoothQuantWrapper(torch.nn.Module):\n",
    "    def __init__(self, linear, scale):\n",
    "        super().__init__()\n",
    "        self.linear = linear\n",
    "        self.register_buffer(\"scale\", scale)\n",
    "\n",
    "    def forward(self, x):\n",
    "        x = x / self.scale\n",
    "        W = self.linear.weight * self.scale.unsqueeze(0)\n",
    "        return torch.nn.functional.linear(x, W, self.linear.bias)"
   ]
  },
  {
   "cell_type": "code",
   "execution_count": 39,
   "id": "260e2d99-9570-4655-8d89-719161600303",
   "metadata": {},
   "outputs": [],
   "source": [
    "# wrap target layer\n",
    "def apply_smoothquant(model, scaling_factors):\n",
    "    for i, layer in enumerate(model.transformer.layers):\n",
    "        for tag in [\"linear1\", \"linear2\", \"attn_out\"]:\n",
    "            name = f\"layer_{i}_{tag}\"\n",
    "            if name in scaling_factors:\n",
    "                scale = scaling_factors[name]\n",
    "                linear_layer = getattr(layer, tag) if tag != \"attn_out\" else layer.self_attn.out_proj\n",
    "                wrapped = SmoothQuantWrapper(linear_layer, scale)\n",
    "                if tag == \"attn_out\":\n",
    "                    layer.self_attn.out_proj = wrapped\n",
    "                else:\n",
    "                    setattr(layer, tag, wrapped)"
   ]
  },
  {
   "cell_type": "code",
   "execution_count": 40,
   "id": "7b686cc4-6bbe-4245-b9a7-ee252bb877e8",
   "metadata": {},
   "outputs": [],
   "source": [
    "import pandas as pd\n",
    "import torch\n",
    "from torch.utils.data import TensorDataset, DataLoader, Subset\n",
    "import random\n",
    "\n",
    "# Load and preprocess\n",
    "df = pd.read_csv(\"C:/Users/pkitt/Downloads/playground-series-s5e6/train.csv\")\n",
    "# Fix column name typo and ensure list format\n",
    "feature_cols = [\"Temparature\", \"Humidity\", \"Moisture\", \"Crop Type\", \"Soil Type\"]\n",
    "X_df = df[feature_cols]\n",
    "X_encoded = pd.get_dummies(X_df)  # one-hot encode categorical inputs\n",
    "\n",
    "from sklearn.preprocessing import LabelEncoder\n",
    "\n",
    "# Label encode the fertilizer names (target)\n",
    "label_encoder = LabelEncoder()\n",
    "y_encoded = label_encoder.fit_transform(df[\"Fertilizer Name\"])  # ← now this is numeric\n",
    "\n",
    "X_encoded = X_encoded.astype(\"float32\")  # Ensures correct dtype\n",
    "# Convert to tensors\n",
    "X_tensor = torch.tensor(X_encoded.values, dtype=torch.float32)\n",
    "y_tensor = torch.tensor(y_encoded, dtype=torch.long)\n",
    "\n",
    "# Create the dataset and loader\n",
    "full_dataset = TensorDataset(X_tensor, y_tensor)\n",
    "calibration_indices = random.sample(range(len(full_dataset)), 512)\n",
    "calibration_dataset = Subset(full_dataset, calibration_indices)\n",
    "calibration_loader = DataLoader(calibration_dataset, batch_size=64, shuffle=False)\n"
   ]
  },
  {
   "cell_type": "code",
   "execution_count": 41,
   "id": "6c69dcc9-50c5-4834-991d-104c1dd6708b",
   "metadata": {},
   "outputs": [],
   "source": [
    "from collections import defaultdict\n",
    "\n",
    "activation_stats = defaultdict(list)\n",
    "\n",
    "def record_activation(name):\n",
    "    def hook(module, input, output):\n",
    "        activation_stats[name].append(output.detach().abs().max(dim=0).values)\n",
    "    return hook\n",
    "\n",
    "def hook_transformer_layers(model):\n",
    "    for i, layer in enumerate(model.transformer.layers):\n",
    "        layer.linear1.register_forward_hook(record_activation(f\"layer_{i}_linear1\"))\n",
    "        layer.linear2.register_forward_hook(record_activation(f\"layer_{i}_linear2\"))\n",
    "        layer.self_attn.out_proj.register_forward_hook(record_activation(f\"layer_{i}_attn_out\"))"
   ]
  },
  {
   "cell_type": "code",
   "execution_count": 42,
   "id": "2415b53c-d442-4058-b9bc-fc180cba8204",
   "metadata": {},
   "outputs": [],
   "source": [
    "def run_calibration(model, dataloader, num_batches=4):\n",
    "    model.eval()\n",
    "    with torch.no_grad():\n",
    "        for i, (inputs, _) in enumerate(dataloader):\n",
    "            if i >= num_batches:\n",
    "                break\n",
    "            x_num, x_cat = inputs[0], inputs[1]  # <- unpacking the list\n",
    "            _ = model(x_num, x_cat)"
   ]
  },
  {
   "cell_type": "code",
   "execution_count": 43,
   "id": "70809bdb-0069-41dc-b1a7-0921752f3baf",
   "metadata": {},
   "outputs": [],
   "source": [
    "def compute_scaling_factors(alpha=0.5, eps=1e-6):\n",
    "    scaling_factors = {}\n",
    "    for name, acts in activation_stats.items():\n",
    "        max_act = torch.stack(acts).max(dim=0).values\n",
    "        scaling_factors[name] = max_act.pow(alpha) + eps\n",
    "    return scaling_factors"
   ]
  },
  {
   "cell_type": "code",
   "execution_count": 44,
   "id": "2fbff667-613d-4c38-94c5-af50471226b4",
   "metadata": {},
   "outputs": [],
   "source": [
    "class SmoothQuantWrapper(torch.nn.Module):\n",
    "    def __init__(self, linear, scale):\n",
    "        super().__init__()\n",
    "        self.linear = linear\n",
    "        self.register_buffer(\"scale\", scale)\n",
    "\n",
    "    def forward(self, x):\n",
    "        x = x / self.scale\n",
    "        W = self.linear.weight * self.scale.unsqueeze(0)\n",
    "        return torch.nn.functional.linear(x, W, self.linear.bias)\n",
    "\n",
    "def apply_smoothquant(model, scaling_factors):\n",
    "    for i, layer in enumerate(model.transformer.layers):\n",
    "        for tag in [\"linear1\", \"linear2\", \"attn_out\"]:\n",
    "            name = f\"layer_{i}_{tag}\"\n",
    "            if name in scaling_factors:\n",
    "                scale = scaling_factors[name]\n",
    "                target_layer = layer.self_attn.out_proj if tag == \"attn_out\" else getattr(layer, tag)\n",
    "                wrapper = SmoothQuantWrapper(target_layer, scale)\n",
    "                if tag == \"attn_out\":\n",
    "                    layer.self_attn.out_proj = wrapper\n",
    "                else:\n",
    "                    setattr(layer, tag, wrapper)"
   ]
  },
  {
   "cell_type": "code",
   "execution_count": 45,
   "id": "cc0ade75-a7f4-42c2-beda-06a0bd259e44",
   "metadata": {},
   "outputs": [],
   "source": [
    "# Separate numerical and categorical features\n",
    "num_features = [\"Temparature\", \"Humidity\", \"Moisture\"]\n",
    "cat_features = [\"Crop Type\", \"Soil Type\"]\n",
    "\n",
    "# Encode categorical as integer indices\n",
    "df_cat = df[cat_features].astype(\"category\")\n",
    "X_cat_tensor = torch.tensor(df_cat.apply(lambda col: col.cat.codes).values, dtype=torch.long)\n",
    "\n",
    "# Numerical inputs\n",
    "X_num_tensor = torch.tensor(df[num_features].values, dtype=torch.float32)\n",
    "\n",
    "# Label encode the targets\n",
    "from sklearn.preprocessing import LabelEncoder\n",
    "label_encoder = LabelEncoder()\n",
    "y_tensor = torch.tensor(label_encoder.fit_transform(df[\"Fertilizer Name\"]), dtype=torch.long)\n",
    "\n",
    "# Wrap in a custom tuple-returning dataset\n",
    "from torch.utils.data import TensorDataset, Subset, DataLoader\n",
    "full_dataset = TensorDataset(X_num_tensor, X_cat_tensor, y_tensor)"
   ]
  },
  {
   "cell_type": "code",
   "execution_count": 46,
   "id": "02b21cc6-7edc-4b83-8bc0-7434bcfade95",
   "metadata": {},
   "outputs": [],
   "source": [
    "import random\n",
    "calibration_indices = random.sample(range(len(full_dataset)), 512)\n",
    "\n",
    "# Wrap with a loader that returns (x_num, x_cat), y\n",
    "class FTWrapper(torch.utils.data.Dataset):\n",
    "    def __init__(self, dataset):\n",
    "        self.dataset = dataset\n",
    "    def __len__(self):\n",
    "        return len(self.dataset)\n",
    "    def __getitem__(self, idx):\n",
    "        x_num, x_cat, y = self.dataset[idx]\n",
    "        return (x_num, x_cat), y\n",
    "\n",
    "calibration_dataset = FTWrapper(Subset(full_dataset, calibration_indices))\n",
    "calibration_loader = DataLoader(calibration_dataset, batch_size=64, shuffle=False)"
   ]
  },
  {
   "cell_type": "code",
   "execution_count": 47,
   "id": "81795921-8f1c-4056-9d54-47415eab4dd2",
   "metadata": {},
   "outputs": [],
   "source": [
    "# Hook layers\n",
    "hook_transformer_layers(model)\n",
    "\n",
    "# Run on calibration data\n",
    "run_calibration(model, calibration_loader)\n",
    "\n",
    "# Get scaling factors\n",
    "factors = compute_scaling_factors(alpha=0.5)\n",
    "\n",
    "# Replace with scaled modules\n",
    "apply_smoothquant(model, factors)"
   ]
  },
  {
   "cell_type": "code",
   "execution_count": 48,
   "id": "0715a199-bce9-41b3-ace4-220297e8adc6",
   "metadata": {},
   "outputs": [],
   "source": [
    "def evaluate_model(model, dataloader):\n",
    "    model.eval()\n",
    "    all_preds, all_labels = [], []\n",
    "\n",
    "    with torch.no_grad():\n",
    "        for x_input, y in dataloader:\n",
    "            # If x_input is already a tuple of (x_num, x_cat), unpack it\n",
    "            if isinstance(x_input, (list, tuple)) and len(x_input) == 2:\n",
    "                x_num, x_cat = x_input\n",
    "            else:\n",
    "                raise ValueError(\"Expected input as (x_num, x_cat), but got single tensor.\")\n",
    "\n",
    "            logits = model(x_num, x_cat)\n",
    "            preds = torch.argmax(logits, dim=1)\n",
    "            all_preds.append(preds)\n",
    "            all_labels.append(y)\n",
    "\n",
    "    all_preds = torch.cat(all_preds)\n",
    "    all_labels = torch.cat(all_labels)\n",
    "    return accuracy_score(all_labels.cpu(), all_preds.cpu())"
   ]
  },
  {
   "cell_type": "code",
   "execution_count": 49,
   "id": "0b5bbd1c-453b-4c77-9076-e5dcc2980106",
   "metadata": {},
   "outputs": [],
   "source": [
    "from sklearn.model_selection import train_test_split\n",
    "from torch.utils.data import Subset\n",
    "\n",
    "# Split raw dataframe first (so both num + cat stay aligned)\n",
    "df_train, df_test = train_test_split(df, test_size=0.2, random_state=42, stratify=df[\"Fertilizer Name\"])"
   ]
  },
  {
   "cell_type": "code",
   "execution_count": 50,
   "id": "9b74e544-61cd-4f0a-97b4-02a2b3eb4401",
   "metadata": {},
   "outputs": [],
   "source": [
    "class FTFertilizerDataset(torch.utils.data.Dataset):\n",
    "    def __init__(self, df, num_cols, cat_cols, label_col):\n",
    "        self.x_num = torch.tensor(df[num_cols].values, dtype=torch.float32)\n",
    "        df_cat = df[cat_cols].astype(\"category\")\n",
    "        self.x_cat = torch.tensor(df_cat.apply(lambda col: col.cat.codes).values, dtype=torch.long)\n",
    "        self.y = torch.tensor(LabelEncoder().fit_transform(df[label_col]), dtype=torch.long)\n",
    "\n",
    "    def __len__(self):\n",
    "        return len(self.y)\n",
    "\n",
    "    def __getitem__(self, idx):\n",
    "        return (self.x_num[idx], self.x_cat[idx]), self.y[idx]"
   ]
  },
  {
   "cell_type": "code",
   "execution_count": 51,
   "id": "790c0aaf-0521-4ca0-b9fd-f5216e001d12",
   "metadata": {},
   "outputs": [],
   "source": [
    "num_cols = [\"Temparature\", \"Humidity\", \"Moisture\"]\n",
    "cat_cols = [\"Crop Type\", \"Soil Type\"]\n",
    "\n",
    "test_dataset = FTFertilizerDataset(df_test, num_cols, cat_cols, \"Fertilizer Name\")\n",
    "test_loader = DataLoader(test_dataset, batch_size=64, shuffle=False)"
   ]
  },
  {
   "cell_type": "code",
   "execution_count": 53,
   "id": "aac30643-3f74-4758-99d6-d8652e2c85d1",
   "metadata": {},
   "outputs": [
    {
     "name": "stdout",
     "output_type": "stream",
     "text": [
      "🎯 Accuracy after SmoothQuant: 0.1472\n"
     ]
    }
   ],
   "source": [
    "from sklearn.metrics import accuracy_score\n",
    "acc_post_quant = evaluate_model(model, test_loader)\n",
    "print(f\"🎯 Accuracy after SmoothQuant: {acc_post_quant:.4f}\")"
   ]
  }
 ],
 "metadata": {
  "kernelspec": {
   "display_name": "Python 3 (ipykernel)",
   "language": "python",
   "name": "python3"
  },
  "language_info": {
   "codemirror_mode": {
    "name": "ipython",
    "version": 3
   },
   "file_extension": ".py",
   "mimetype": "text/x-python",
   "name": "python",
   "nbconvert_exporter": "python",
   "pygments_lexer": "ipython3",
   "version": "3.12.7"
  }
 },
 "nbformat": 4,
 "nbformat_minor": 5
}
