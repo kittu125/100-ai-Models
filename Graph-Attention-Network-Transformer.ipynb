{
 "cells": [
  {
   "cell_type": "code",
   "execution_count": 1,
   "id": "0b689cfa-a65f-4e0c-9218-776ab23f665d",
   "metadata": {},
   "outputs": [],
   "source": [
    "import pandas as pd"
   ]
  },
  {
   "cell_type": "code",
   "execution_count": 2,
   "id": "7611f969-84bd-4f77-b2c2-ab568a027ed6",
   "metadata": {},
   "outputs": [],
   "source": [
    "import numpy as np"
   ]
  },
  {
   "cell_type": "code",
   "execution_count": 3,
   "id": "eeb49b6d-a430-4357-933c-c564dd4f31c5",
   "metadata": {},
   "outputs": [],
   "source": [
    "df = pd.read_csv(\"C:/Users/pkitt/Downloads/playground-series-s5e6/train.csv\")"
   ]
  },
  {
   "cell_type": "code",
   "execution_count": 4,
   "id": "651f655e-8117-4657-8f06-7a02009018a9",
   "metadata": {},
   "outputs": [
    {
     "name": "stderr",
     "output_type": "stream",
     "text": [
      "C:\\Users\\pkitt\\AppData\\Local\\Temp\\ipykernel_19928\\1653857449.py:1: UserWarning: Pandas doesn't allow columns to be created via a new attribute name - see https://pandas.pydata.org/pandas-docs/stable/indexing.html#attribute-access\n",
      "  df.cat =df.select_dtypes(include=[object])\n"
     ]
    }
   ],
   "source": [
    "df.cat =df.select_dtypes(include=[object]) "
   ]
  },
  {
   "cell_type": "code",
   "execution_count": 5,
   "id": "784a3209-d06b-4cf1-a1f8-4aa924d0f3c3",
   "metadata": {},
   "outputs": [
    {
     "name": "stderr",
     "output_type": "stream",
     "text": [
      "C:\\Users\\pkitt\\AppData\\Local\\Temp\\ipykernel_19928\\610118065.py:1: UserWarning: Pandas doesn't allow columns to be created via a new attribute name - see https://pandas.pydata.org/pandas-docs/stable/indexing.html#attribute-access\n",
      "  df.num=df.select_dtypes(include=[np.number])\n"
     ]
    }
   ],
   "source": [
    "df.num=df.select_dtypes(include=[np.number])"
   ]
  },
  {
   "cell_type": "code",
   "execution_count": 6,
   "id": "fd52a9ef-afc4-48a5-87e1-0918790fd049",
   "metadata": {},
   "outputs": [
    {
     "data": {
      "text/html": [
       "<div>\n",
       "<style scoped>\n",
       "    .dataframe tbody tr th:only-of-type {\n",
       "        vertical-align: middle;\n",
       "    }\n",
       "\n",
       "    .dataframe tbody tr th {\n",
       "        vertical-align: top;\n",
       "    }\n",
       "\n",
       "    .dataframe thead th {\n",
       "        text-align: right;\n",
       "    }\n",
       "</style>\n",
       "<table border=\"1\" class=\"dataframe\">\n",
       "  <thead>\n",
       "    <tr style=\"text-align: right;\">\n",
       "      <th></th>\n",
       "      <th>Soil Type</th>\n",
       "      <th>Crop Type</th>\n",
       "      <th>Fertilizer Name</th>\n",
       "    </tr>\n",
       "  </thead>\n",
       "  <tbody>\n",
       "    <tr>\n",
       "      <th>0</th>\n",
       "      <td>Clayey</td>\n",
       "      <td>Sugarcane</td>\n",
       "      <td>28-28</td>\n",
       "    </tr>\n",
       "    <tr>\n",
       "      <th>1</th>\n",
       "      <td>Sandy</td>\n",
       "      <td>Millets</td>\n",
       "      <td>28-28</td>\n",
       "    </tr>\n",
       "    <tr>\n",
       "      <th>2</th>\n",
       "      <td>Sandy</td>\n",
       "      <td>Millets</td>\n",
       "      <td>17-17-17</td>\n",
       "    </tr>\n",
       "    <tr>\n",
       "      <th>3</th>\n",
       "      <td>Sandy</td>\n",
       "      <td>Barley</td>\n",
       "      <td>10-26-26</td>\n",
       "    </tr>\n",
       "    <tr>\n",
       "      <th>4</th>\n",
       "      <td>Red</td>\n",
       "      <td>Paddy</td>\n",
       "      <td>DAP</td>\n",
       "    </tr>\n",
       "  </tbody>\n",
       "</table>\n",
       "</div>"
      ],
      "text/plain": [
       "  Soil Type  Crop Type Fertilizer Name\n",
       "0    Clayey  Sugarcane           28-28\n",
       "1     Sandy    Millets           28-28\n",
       "2     Sandy    Millets        17-17-17\n",
       "3     Sandy     Barley        10-26-26\n",
       "4       Red      Paddy             DAP"
      ]
     },
     "execution_count": 6,
     "metadata": {},
     "output_type": "execute_result"
    }
   ],
   "source": [
    "df.cat.head()"
   ]
  },
  {
   "cell_type": "code",
   "execution_count": 7,
   "id": "c76f84b4-283c-4d21-9a0c-c96637f73c7e",
   "metadata": {},
   "outputs": [],
   "source": [
    "from sklearn.preprocessing import LabelEncoder"
   ]
  },
  {
   "cell_type": "code",
   "execution_count": 8,
   "id": "8e8c89e6-e7e8-4381-8d6d-f581a84c3909",
   "metadata": {},
   "outputs": [],
   "source": [
    "le = LabelEncoder()"
   ]
  },
  {
   "cell_type": "code",
   "execution_count": 9,
   "id": "5797c7bc-02c3-4950-998f-c81b80a31b17",
   "metadata": {},
   "outputs": [],
   "source": [
    "df.cat[\"Soil Type\"] = le.fit_transform(df.cat[\"Soil Type\"])"
   ]
  },
  {
   "cell_type": "code",
   "execution_count": 10,
   "id": "19871d5f-39f0-449c-abfa-97eb620ba7b9",
   "metadata": {},
   "outputs": [],
   "source": [
    "df.cat[\"Crop Type\"] = le.fit_transform(df.cat[\"Crop Type\"])"
   ]
  },
  {
   "cell_type": "code",
   "execution_count": 11,
   "id": "7cf11e62-a448-4e5a-a90b-242637706c16",
   "metadata": {},
   "outputs": [],
   "source": [
    "df.cat[\"Fertilizer Name\"] = le.fit_transform(df.cat[\"Fertilizer Name\"])"
   ]
  },
  {
   "cell_type": "code",
   "execution_count": 12,
   "id": "a822553b-5664-428d-822a-566c9d0a72ba",
   "metadata": {},
   "outputs": [
    {
     "data": {
      "text/html": [
       "<div>\n",
       "<style scoped>\n",
       "    .dataframe tbody tr th:only-of-type {\n",
       "        vertical-align: middle;\n",
       "    }\n",
       "\n",
       "    .dataframe tbody tr th {\n",
       "        vertical-align: top;\n",
       "    }\n",
       "\n",
       "    .dataframe thead th {\n",
       "        text-align: right;\n",
       "    }\n",
       "</style>\n",
       "<table border=\"1\" class=\"dataframe\">\n",
       "  <thead>\n",
       "    <tr style=\"text-align: right;\">\n",
       "      <th></th>\n",
       "      <th>Soil Type</th>\n",
       "      <th>Crop Type</th>\n",
       "      <th>Fertilizer Name</th>\n",
       "    </tr>\n",
       "  </thead>\n",
       "  <tbody>\n",
       "    <tr>\n",
       "      <th>749980</th>\n",
       "      <td>0</td>\n",
       "      <td>10</td>\n",
       "      <td>5</td>\n",
       "    </tr>\n",
       "    <tr>\n",
       "      <th>749981</th>\n",
       "      <td>2</td>\n",
       "      <td>2</td>\n",
       "      <td>2</td>\n",
       "    </tr>\n",
       "    <tr>\n",
       "      <th>749982</th>\n",
       "      <td>3</td>\n",
       "      <td>8</td>\n",
       "      <td>0</td>\n",
       "    </tr>\n",
       "    <tr>\n",
       "      <th>749983</th>\n",
       "      <td>4</td>\n",
       "      <td>3</td>\n",
       "      <td>2</td>\n",
       "    </tr>\n",
       "    <tr>\n",
       "      <th>749984</th>\n",
       "      <td>4</td>\n",
       "      <td>6</td>\n",
       "      <td>1</td>\n",
       "    </tr>\n",
       "    <tr>\n",
       "      <th>749985</th>\n",
       "      <td>3</td>\n",
       "      <td>3</td>\n",
       "      <td>0</td>\n",
       "    </tr>\n",
       "    <tr>\n",
       "      <th>749986</th>\n",
       "      <td>0</td>\n",
       "      <td>10</td>\n",
       "      <td>3</td>\n",
       "    </tr>\n",
       "    <tr>\n",
       "      <th>749987</th>\n",
       "      <td>3</td>\n",
       "      <td>3</td>\n",
       "      <td>6</td>\n",
       "    </tr>\n",
       "    <tr>\n",
       "      <th>749988</th>\n",
       "      <td>0</td>\n",
       "      <td>3</td>\n",
       "      <td>1</td>\n",
       "    </tr>\n",
       "    <tr>\n",
       "      <th>749989</th>\n",
       "      <td>0</td>\n",
       "      <td>4</td>\n",
       "      <td>4</td>\n",
       "    </tr>\n",
       "    <tr>\n",
       "      <th>749990</th>\n",
       "      <td>2</td>\n",
       "      <td>6</td>\n",
       "      <td>4</td>\n",
       "    </tr>\n",
       "    <tr>\n",
       "      <th>749991</th>\n",
       "      <td>4</td>\n",
       "      <td>7</td>\n",
       "      <td>4</td>\n",
       "    </tr>\n",
       "    <tr>\n",
       "      <th>749992</th>\n",
       "      <td>3</td>\n",
       "      <td>10</td>\n",
       "      <td>3</td>\n",
       "    </tr>\n",
       "    <tr>\n",
       "      <th>749993</th>\n",
       "      <td>0</td>\n",
       "      <td>9</td>\n",
       "      <td>6</td>\n",
       "    </tr>\n",
       "    <tr>\n",
       "      <th>749994</th>\n",
       "      <td>0</td>\n",
       "      <td>2</td>\n",
       "      <td>1</td>\n",
       "    </tr>\n",
       "    <tr>\n",
       "      <th>749995</th>\n",
       "      <td>1</td>\n",
       "      <td>3</td>\n",
       "      <td>4</td>\n",
       "    </tr>\n",
       "    <tr>\n",
       "      <th>749996</th>\n",
       "      <td>2</td>\n",
       "      <td>8</td>\n",
       "      <td>2</td>\n",
       "    </tr>\n",
       "    <tr>\n",
       "      <th>749997</th>\n",
       "      <td>4</td>\n",
       "      <td>2</td>\n",
       "      <td>0</td>\n",
       "    </tr>\n",
       "    <tr>\n",
       "      <th>749998</th>\n",
       "      <td>3</td>\n",
       "      <td>1</td>\n",
       "      <td>3</td>\n",
       "    </tr>\n",
       "    <tr>\n",
       "      <th>749999</th>\n",
       "      <td>2</td>\n",
       "      <td>1</td>\n",
       "      <td>6</td>\n",
       "    </tr>\n",
       "  </tbody>\n",
       "</table>\n",
       "</div>"
      ],
      "text/plain": [
       "        Soil Type  Crop Type  Fertilizer Name\n",
       "749980          0         10                5\n",
       "749981          2          2                2\n",
       "749982          3          8                0\n",
       "749983          4          3                2\n",
       "749984          4          6                1\n",
       "749985          3          3                0\n",
       "749986          0         10                3\n",
       "749987          3          3                6\n",
       "749988          0          3                1\n",
       "749989          0          4                4\n",
       "749990          2          6                4\n",
       "749991          4          7                4\n",
       "749992          3         10                3\n",
       "749993          0          9                6\n",
       "749994          0          2                1\n",
       "749995          1          3                4\n",
       "749996          2          8                2\n",
       "749997          4          2                0\n",
       "749998          3          1                3\n",
       "749999          2          1                6"
      ]
     },
     "execution_count": 12,
     "metadata": {},
     "output_type": "execute_result"
    }
   ],
   "source": [
    "df.cat.tail(20)"
   ]
  },
  {
   "cell_type": "code",
   "execution_count": 13,
   "id": "2bcae4d0-4d48-44cb-9795-382f180a68cc",
   "metadata": {},
   "outputs": [],
   "source": [
    "df_train = pd.concat([df.num,df.cat],axis=1)"
   ]
  },
  {
   "cell_type": "code",
   "execution_count": 14,
   "id": "d0ff38e2-88ab-4b25-9e75-227b42451aa5",
   "metadata": {},
   "outputs": [],
   "source": [
    "matrix=df_train.corr()"
   ]
  },
  {
   "cell_type": "code",
   "execution_count": 15,
   "id": "078c04ed-44ff-44c2-9382-7cab17c2d8da",
   "metadata": {
    "scrolled": true
   },
   "outputs": [
    {
     "data": {
      "text/html": [
       "<div>\n",
       "<style scoped>\n",
       "    .dataframe tbody tr th:only-of-type {\n",
       "        vertical-align: middle;\n",
       "    }\n",
       "\n",
       "    .dataframe tbody tr th {\n",
       "        vertical-align: top;\n",
       "    }\n",
       "\n",
       "    .dataframe thead th {\n",
       "        text-align: right;\n",
       "    }\n",
       "</style>\n",
       "<table border=\"1\" class=\"dataframe\">\n",
       "  <thead>\n",
       "    <tr style=\"text-align: right;\">\n",
       "      <th></th>\n",
       "      <th>id</th>\n",
       "      <th>Temparature</th>\n",
       "      <th>Humidity</th>\n",
       "      <th>Moisture</th>\n",
       "      <th>Nitrogen</th>\n",
       "      <th>Potassium</th>\n",
       "      <th>Phosphorous</th>\n",
       "      <th>Soil Type</th>\n",
       "      <th>Crop Type</th>\n",
       "      <th>Fertilizer Name</th>\n",
       "    </tr>\n",
       "  </thead>\n",
       "  <tbody>\n",
       "    <tr>\n",
       "      <th>id</th>\n",
       "      <td>1.000000</td>\n",
       "      <td>-0.001069</td>\n",
       "      <td>-0.000310</td>\n",
       "      <td>0.001752</td>\n",
       "      <td>0.001505</td>\n",
       "      <td>-0.000375</td>\n",
       "      <td>-0.001234</td>\n",
       "      <td>0.002831</td>\n",
       "      <td>-0.000953</td>\n",
       "      <td>-0.000179</td>\n",
       "    </tr>\n",
       "    <tr>\n",
       "      <th>Temparature</th>\n",
       "      <td>-0.001069</td>\n",
       "      <td>1.000000</td>\n",
       "      <td>0.001758</td>\n",
       "      <td>-0.001633</td>\n",
       "      <td>-0.006073</td>\n",
       "      <td>-0.009913</td>\n",
       "      <td>0.000298</td>\n",
       "      <td>-0.007621</td>\n",
       "      <td>-0.006753</td>\n",
       "      <td>0.001727</td>\n",
       "    </tr>\n",
       "    <tr>\n",
       "      <th>Humidity</th>\n",
       "      <td>-0.000310</td>\n",
       "      <td>0.001758</td>\n",
       "      <td>1.000000</td>\n",
       "      <td>0.003424</td>\n",
       "      <td>0.006502</td>\n",
       "      <td>0.005229</td>\n",
       "      <td>0.002413</td>\n",
       "      <td>0.003921</td>\n",
       "      <td>0.002414</td>\n",
       "      <td>0.010626</td>\n",
       "    </tr>\n",
       "    <tr>\n",
       "      <th>Moisture</th>\n",
       "      <td>0.001752</td>\n",
       "      <td>-0.001633</td>\n",
       "      <td>0.003424</td>\n",
       "      <td>1.000000</td>\n",
       "      <td>0.003016</td>\n",
       "      <td>-0.001931</td>\n",
       "      <td>-0.006735</td>\n",
       "      <td>-0.003941</td>\n",
       "      <td>-0.003400</td>\n",
       "      <td>0.011493</td>\n",
       "    </tr>\n",
       "    <tr>\n",
       "      <th>Nitrogen</th>\n",
       "      <td>0.001505</td>\n",
       "      <td>-0.006073</td>\n",
       "      <td>0.006502</td>\n",
       "      <td>0.003016</td>\n",
       "      <td>1.000000</td>\n",
       "      <td>0.000543</td>\n",
       "      <td>-0.005464</td>\n",
       "      <td>-0.000650</td>\n",
       "      <td>0.001611</td>\n",
       "      <td>-0.004725</td>\n",
       "    </tr>\n",
       "    <tr>\n",
       "      <th>Potassium</th>\n",
       "      <td>-0.000375</td>\n",
       "      <td>-0.009913</td>\n",
       "      <td>0.005229</td>\n",
       "      <td>-0.001931</td>\n",
       "      <td>0.000543</td>\n",
       "      <td>1.000000</td>\n",
       "      <td>0.000113</td>\n",
       "      <td>0.005314</td>\n",
       "      <td>-0.003748</td>\n",
       "      <td>-0.010872</td>\n",
       "    </tr>\n",
       "    <tr>\n",
       "      <th>Phosphorous</th>\n",
       "      <td>-0.001234</td>\n",
       "      <td>0.000298</td>\n",
       "      <td>0.002413</td>\n",
       "      <td>-0.006735</td>\n",
       "      <td>-0.005464</td>\n",
       "      <td>0.000113</td>\n",
       "      <td>1.000000</td>\n",
       "      <td>-0.000275</td>\n",
       "      <td>0.000694</td>\n",
       "      <td>-0.006127</td>\n",
       "    </tr>\n",
       "    <tr>\n",
       "      <th>Soil Type</th>\n",
       "      <td>0.002831</td>\n",
       "      <td>-0.007621</td>\n",
       "      <td>0.003921</td>\n",
       "      <td>-0.003941</td>\n",
       "      <td>-0.000650</td>\n",
       "      <td>0.005314</td>\n",
       "      <td>-0.000275</td>\n",
       "      <td>1.000000</td>\n",
       "      <td>-0.006213</td>\n",
       "      <td>0.016576</td>\n",
       "    </tr>\n",
       "    <tr>\n",
       "      <th>Crop Type</th>\n",
       "      <td>-0.000953</td>\n",
       "      <td>-0.006753</td>\n",
       "      <td>0.002414</td>\n",
       "      <td>-0.003400</td>\n",
       "      <td>0.001611</td>\n",
       "      <td>-0.003748</td>\n",
       "      <td>0.000694</td>\n",
       "      <td>-0.006213</td>\n",
       "      <td>1.000000</td>\n",
       "      <td>-0.013041</td>\n",
       "    </tr>\n",
       "    <tr>\n",
       "      <th>Fertilizer Name</th>\n",
       "      <td>-0.000179</td>\n",
       "      <td>0.001727</td>\n",
       "      <td>0.010626</td>\n",
       "      <td>0.011493</td>\n",
       "      <td>-0.004725</td>\n",
       "      <td>-0.010872</td>\n",
       "      <td>-0.006127</td>\n",
       "      <td>0.016576</td>\n",
       "      <td>-0.013041</td>\n",
       "      <td>1.000000</td>\n",
       "    </tr>\n",
       "  </tbody>\n",
       "</table>\n",
       "</div>"
      ],
      "text/plain": [
       "                       id  Temparature  Humidity  Moisture  Nitrogen  \\\n",
       "id               1.000000    -0.001069 -0.000310  0.001752  0.001505   \n",
       "Temparature     -0.001069     1.000000  0.001758 -0.001633 -0.006073   \n",
       "Humidity        -0.000310     0.001758  1.000000  0.003424  0.006502   \n",
       "Moisture         0.001752    -0.001633  0.003424  1.000000  0.003016   \n",
       "Nitrogen         0.001505    -0.006073  0.006502  0.003016  1.000000   \n",
       "Potassium       -0.000375    -0.009913  0.005229 -0.001931  0.000543   \n",
       "Phosphorous     -0.001234     0.000298  0.002413 -0.006735 -0.005464   \n",
       "Soil Type        0.002831    -0.007621  0.003921 -0.003941 -0.000650   \n",
       "Crop Type       -0.000953    -0.006753  0.002414 -0.003400  0.001611   \n",
       "Fertilizer Name -0.000179     0.001727  0.010626  0.011493 -0.004725   \n",
       "\n",
       "                 Potassium  Phosphorous  Soil Type  Crop Type  Fertilizer Name  \n",
       "id               -0.000375    -0.001234   0.002831  -0.000953        -0.000179  \n",
       "Temparature      -0.009913     0.000298  -0.007621  -0.006753         0.001727  \n",
       "Humidity          0.005229     0.002413   0.003921   0.002414         0.010626  \n",
       "Moisture         -0.001931    -0.006735  -0.003941  -0.003400         0.011493  \n",
       "Nitrogen          0.000543    -0.005464  -0.000650   0.001611        -0.004725  \n",
       "Potassium         1.000000     0.000113   0.005314  -0.003748        -0.010872  \n",
       "Phosphorous       0.000113     1.000000  -0.000275   0.000694        -0.006127  \n",
       "Soil Type         0.005314    -0.000275   1.000000  -0.006213         0.016576  \n",
       "Crop Type        -0.003748     0.000694  -0.006213   1.000000        -0.013041  \n",
       "Fertilizer Name  -0.010872    -0.006127   0.016576  -0.013041         1.000000  "
      ]
     },
     "execution_count": 15,
     "metadata": {},
     "output_type": "execute_result"
    }
   ],
   "source": [
    "matrix"
   ]
  },
  {
   "cell_type": "code",
   "execution_count": 16,
   "id": "4d87f43b-bbfc-4daf-80d6-b4cdffe3f82f",
   "metadata": {},
   "outputs": [],
   "source": [
    "X = df_train[[\"Temparature\",\"Humidity\",\"Moisture\",\"Crop Type\",\"Soil Type\"]]"
   ]
  },
  {
   "cell_type": "code",
   "execution_count": 17,
   "id": "8fa578fb-d3f4-4b65-a6c9-4d9a08ecc834",
   "metadata": {},
   "outputs": [],
   "source": [
    "y = df_train[[\"Fertilizer Name\"]]"
   ]
  },
  {
   "cell_type": "code",
   "execution_count": 18,
   "id": "c76a4a88-c55f-4213-bc02-1527c68abab4",
   "metadata": {},
   "outputs": [],
   "source": [
    "from sklearn.model_selection import train_test_split\n",
    "X_train, X_test, y_train, y_test = train_test_split(X, y, test_size=0.2, random_state=42)"
   ]
  },
  {
   "cell_type": "code",
   "execution_count": 19,
   "id": "16adc0bb-5258-43b3-b038-b114c4bc886d",
   "metadata": {},
   "outputs": [],
   "source": [
    "import torch\n",
    "import torch.nn as nn\n",
    "from torch_geometric.nn import GATConv\n",
    "from torch.nn import TransformerEncoderLayer, TransformerEncoder\n",
    "device = torch.device(\"cuda\" if torch.cuda.is_available() else \"cpu\")\n",
    "from torch.utils.data import Dataset\n",
    "class GATTransformer(nn.Module):\n",
    "    def __init__(self, in_channels, num_numeric, cat_cardinalities, embed_dim=64, num_heads=4, num_layers=2, num_classes=7):\n",
    "        super().__init__()\n",
    "\n",
    "    \n",
    "        self.gat = GATConv(in_channels=12, out_channels=embed_dim, heads=1, concat=False)\n",
    "        self.tokenizer = FeatureTokenizer(num_numeric, cat_cardinalities, embed_dim)\n",
    "\n",
    "        encoder_layer = TransformerEncoderLayer(\n",
    "            d_model=embed_dim,\n",
    "            nhead=num_heads,\n",
    "            batch_first=True\n",
    "        )\n",
    "        self.transformer = TransformerEncoder(encoder_layer, num_layers=num_layers)\n",
    "\n",
    "        self.head = nn.Sequential(\n",
    "            nn.LayerNorm(embed_dim),\n",
    "            nn.Linear(embed_dim, num_classes)\n",
    "        )\n",
    "\n",
    "    def forward(self, x_numeric, x_cat, edge_index):  # 👈 Now inside the class!\n",
    "        x_token = self.tokenizer(x_numeric, x_cat)        # [batch, seq_len, embed_dim]\n",
    "        x_encoded = self.transformer(x_token)             # [batch, seq_len, embed_dim]\n",
    "        x_pooled = x_encoded.mean(dim=1)                  # [batch, embed_dim]\n",
    "        x_graph = self.gat(x_pooled, edge_index)          # [nodes, embed_dim]\n",
    "        out = self.head(x_graph)                          # [nodes, num_classes]\n",
    "        return out"
   ]
  },
  {
   "cell_type": "code",
   "execution_count": 20,
   "id": "a1a797ee-95d4-4960-a02a-6cf437cb72c0",
   "metadata": {},
   "outputs": [],
   "source": [
    "numeric_features = [\"Temperature\", \"Humidity\", \"Moisture\"]  # update as needed\n",
    "num_numeric = len(numeric_features)"
   ]
  },
  {
   "cell_type": "code",
   "execution_count": 21,
   "id": "1b2d46bd-5323-48ce-bfa2-9e20beabb18b",
   "metadata": {},
   "outputs": [],
   "source": [
    "cat_cardinalities = [\n",
    "    df[\"Soil Type\"].nunique(),\n",
    "    df[\"Crop Type\"].nunique()\n",
    "]\n",
    "# Encode string categories if not already done\n",
    "df[\"Soil Type\"] = df[\"Soil Type\"].astype(\"category\").cat.codes\n",
    "df[\"Crop Type\"] = df[\"Crop Type\"].astype(\"category\").cat.codes\n",
    "df[\"Fertilizer Name\"] = df[\"Fertilizer Name\"].astype(\"category\").cat.codes\n",
    "# Create the categorical tensor\n",
    "x_cat_tensor = torch.tensor(df[[\"Soil Type\", \"Crop Type\"]].values, dtype=torch.long)\n",
    "y_tensor = torch.tensor(df[[\"Fertilizer Name\"]].values, dtype=torch.long)"
   ]
  },
  {
   "cell_type": "code",
   "execution_count": 22,
   "id": "32a0a835-9ab7-4295-a1bd-919761973a57",
   "metadata": {},
   "outputs": [],
   "source": [
    "\n",
    "class FertilizerDataset(Dataset):\n",
    "    def __init__(self, x_num, x_cat, y):\n",
    "        self.x_num = x_num\n",
    "        self.x_cat = x_cat\n",
    "        self.y = y  # y must be a LongTensor\n",
    "\n",
    "    def __len__(self):\n",
    "        return len(self.y)\n",
    "\n",
    "    def __getitem__(self, idx):\n",
    "        # ✅ Return three tensors — no tuple wrapping!\n",
    "        return self.x_num[idx], self.x_cat[idx], self.y[idx]"
   ]
  },
  {
   "cell_type": "code",
   "execution_count": 23,
   "id": "1f71a251-d9cc-491f-8eb2-bfe52f808897",
   "metadata": {},
   "outputs": [],
   "source": [
    "import torch\n",
    "import torch.nn as nn\n",
    "\n",
    "class FeatureTokenizer(nn.Module):\n",
    "    def __init__(self, num_numeric, cat_cardinalities, embed_dim):\n",
    "        super().__init__()\n",
    "        self.num_numeric = num_numeric\n",
    "\n",
    "        # Linear transformation for numeric features\n",
    "        self.numeric_proj = nn.Linear(num_numeric, embed_dim)\n",
    "\n",
    "        # Embedding layers for categorical features\n",
    "        self.cat_embeddings = nn.ModuleList([\n",
    "            nn.Embedding(cardinality, embed_dim) for cardinality in cat_cardinalities\n",
    "        ])\n",
    "\n",
    "    def forward(self, x_numeric, x_cat):\n",
    "        # x_numeric: [batch_size, num_numeric]\n",
    "        # x_cat: [batch_size, num_categorical]\n",
    "\n",
    "        # Numeric: project to embed_dim\n",
    "        num_tok = self.numeric_proj(x_numeric).unsqueeze(1)  # shape: [batch_size, 1, embed_dim]\n",
    "\n",
    "        # Categorical: embed and stack\n",
    "        cat_toks = [emb(x_cat[:, i]) for i, emb in enumerate(self.cat_embeddings)]\n",
    "        cat_tok = torch.stack(cat_toks, dim=1)  # shape: [batch_size, num_categorical, embed_dim]\n",
    "\n",
    "        # Concatenate numeric and categorical tokens\n",
    "        tokens = torch.cat([num_tok, cat_tok], dim=1)  # shape: [batch_size, 1 + num_categorical, embed_dim]\n",
    "        return tokens"
   ]
  },
  {
   "cell_type": "code",
   "execution_count": 24,
   "id": "609ec748-803e-4971-94e5-54d59717c507",
   "metadata": {
    "scrolled": true
   },
   "outputs": [],
   "source": [
    "model = GATTransformer(\n",
    "    in_channels=num_numeric,  # or whatever matches your input feature size\n",
    "    num_numeric=num_numeric,\n",
    "    cat_cardinalities=cat_cardinalities,\n",
    "    embed_dim=12,\n",
    "    num_heads=4,\n",
    "    num_layers=4,\n",
    "    num_classes=7\n",
    ").to(device)"
   ]
  },
  {
   "cell_type": "code",
   "execution_count": 25,
   "id": "a95b6a56-61ea-4e96-870d-bd0d096f3100",
   "metadata": {},
   "outputs": [],
   "source": [
    "# Features\n",
    "x_cat_tensor = torch.tensor(df[[\"Soil Type\", \"Crop Type\"]].values, dtype=torch.long)\n",
    "x_num_tensor = torch.tensor(df[[\"Temparature\", \"Humidity\", \"Moisture\"]].values, dtype=torch.float)\n",
    "# Target\n",
    "y_train = torch.tensor(df[\"Fertilizer Name\"].values, dtype=torch.long)"
   ]
  },
  {
   "cell_type": "code",
   "execution_count": 26,
   "id": "aec8d1e5-5b14-44a1-880b-c3e1ed124fea",
   "metadata": {},
   "outputs": [],
   "source": [
    "y_tensor = y_tensor.squeeze()  "
   ]
  },
  {
   "cell_type": "code",
   "execution_count": 27,
   "id": "a31878e7-9a7e-4898-aebe-2f754349a8d0",
   "metadata": {},
   "outputs": [],
   "source": [
    "x_fused = torch.cat([x_num_tensor, x_cat_tensor], dim=1)  # Final GCN input"
   ]
  },
  {
   "cell_type": "code",
   "execution_count": 28,
   "id": "a3c5d706-a956-4e50-a2cb-c04b3d39f930",
   "metadata": {},
   "outputs": [],
   "source": [
    "from torch.utils.data import DataLoader\n",
    "\n",
    "dataset = FertilizerDataset(x_num_tensor, x_cat_tensor, y_tensor)  # make sure y_train is aligned\n",
    "train_loader = DataLoader(dataset, batch_size=32, shuffle=True)"
   ]
  },
  {
   "cell_type": "code",
   "execution_count": 29,
   "id": "dcc0cbb8-2288-4db2-95d3-5562a86b3c49",
   "metadata": {},
   "outputs": [],
   "source": [
    "optimizer = torch.optim.Adam(model.parameters(), lr=0.001)"
   ]
  },
  {
   "cell_type": "code",
   "execution_count": 30,
   "id": "d0d27f21-41e5-4c3b-accf-f348377ac636",
   "metadata": {},
   "outputs": [],
   "source": [
    "import numpy as np\n",
    "import torch\n",
    "from sklearn.neighbors import NearestNeighbors\n",
    "import matplotlib.pyplot as plt\n",
    "import networkx as nx\n",
    "from torch_sparse import SparseTensor\n",
    "\n",
    "# Step 1: Prepare features\n",
    "X_np = x_fused.detach().cpu().numpy()\n",
    "X_np = X_np[:75000]  # Subsample to reduce memory\n",
    "num_nodes = X_np.shape[0]\n",
    "\n",
    "# Step 2: Build k-NN graph\n",
    "nbrs = NearestNeighbors(n_neighbors=5, algorithm='ball_tree').fit(X_np)\n",
    "_, indices = nbrs.kneighbors(X_np)\n",
    "\n",
    "rows = np.repeat(np.arange(num_nodes), indices.shape[1])\n",
    "cols = indices.flatten()\n",
    "edge_index_np = np.stack([rows, cols], axis=0)\n",
    "edge_index = torch.from_numpy(edge_index_np).long()\n",
    "\n",
    " "
   ]
  },
  {
   "cell_type": "code",
   "execution_count": 31,
   "id": "0b661926-41b1-4eca-823e-5ff630427a1d",
   "metadata": {},
   "outputs": [
    {
     "name": "stdout",
     "output_type": "stream",
     "text": [
      "Epoch 0: Loss = 2.1796\n",
      "Epoch 1: Loss = 2.0898\n",
      "Epoch 2: Loss = 2.0705\n",
      "Epoch 3: Loss = 2.0436\n",
      "Epoch 4: Loss = 1.9991\n",
      "Epoch 5: Loss = 1.9597\n",
      "Epoch 6: Loss = 1.9531\n",
      "Epoch 7: Loss = 1.9556\n"
     ]
    }
   ],
   "source": [
    "# Step 3: Convert to SparseTensor\n",
    "adj_t = SparseTensor.from_edge_index(edge_index, sparse_sizes=(num_nodes, num_nodes))\n",
    "\n",
    "# Step 4: Training loop\n",
    "loss_history = []\n",
    "x_num_tensor = x_num_tensor[:75000]\n",
    "x_cat_tensor = x_cat_tensor[:75000]\n",
    "y_tensor = y_tensor[:75000]\n",
    "\n",
    "for epoch in range(8):\n",
    "    model.train()\n",
    "    optimizer.zero_grad()\n",
    "    out = model(x_num_tensor, x_cat_tensor, adj_t)\n",
    "    loss_fn = nn.CrossEntropyLoss()\n",
    "    loss = loss_fn(out, y_tensor)\n",
    "    loss.backward()\n",
    "    optimizer.step()\n",
    "    loss_history.append(loss.item())\n",
    "\n",
    "    if epoch % 1 == 0:\n",
    "        print(f\"Epoch {epoch}: Loss = {loss.item():.4f}\")\n"
   ]
  },
  {
   "cell_type": "code",
   "execution_count": 32,
   "id": "62e23ce3-0db0-4673-8dd5-951befd8e3c9",
   "metadata": {},
   "outputs": [
    {
     "name": "stdout",
     "output_type": "stream",
     "text": [
      "Accuracy: 14.93%\n"
     ]
    }
   ],
   "source": [
    "with torch.no_grad():\n",
    "    model.eval()\n",
    "    preds = model(x_num_tensor, x_cat_tensor, adj_t)\n",
    "    predicted_classes = preds.argmax(dim=1)  # get class with highest logit\n",
    "    y_true = y_tensor.squeeze()              # ensure it's 1D\n",
    "    accuracy = (predicted_classes == y_true).float().mean().item()\n",
    "    print(f\"Accuracy: {accuracy * 100:.2f}%\")"
   ]
  },
  {
   "cell_type": "code",
   "execution_count": 34,
   "id": "a560e211-d5a3-4038-81d8-f50d389e4bf5",
   "metadata": {},
   "outputs": [
    {
     "ename": "KeyboardInterrupt",
     "evalue": "",
     "output_type": "error",
     "traceback": [
      "\u001b[1;31m---------------------------------------------------------------------------\u001b[0m",
      "\u001b[1;31mKeyboardInterrupt\u001b[0m                         Traceback (most recent call last)",
      "Cell \u001b[1;32mIn[34], line 11\u001b[0m\n\u001b[0;32m      8\u001b[0m out \u001b[38;5;241m=\u001b[39m model(x_num_tensor, x_cat_tensor, edge_index)         \u001b[38;5;66;03m# fresh forward pass\u001b[39;00m\n\u001b[0;32m      9\u001b[0m loss \u001b[38;5;241m=\u001b[39m loss_fn(out, y_tensor)              \u001b[38;5;66;03m# fresh loss computation\u001b[39;00m\n\u001b[1;32m---> 11\u001b[0m loss\u001b[38;5;241m.\u001b[39mbackward()                            \u001b[38;5;66;03m# single backward pass\u001b[39;00m\n\u001b[0;32m     12\u001b[0m optimizer\u001b[38;5;241m.\u001b[39mstep()\n\u001b[0;32m     14\u001b[0m loss_history\u001b[38;5;241m.\u001b[39mappend(loss\u001b[38;5;241m.\u001b[39mitem())\n",
      "File \u001b[1;32m~\\anaconda3\\Lib\\site-packages\\torch\\_tensor.py:581\u001b[0m, in \u001b[0;36mTensor.backward\u001b[1;34m(self, gradient, retain_graph, create_graph, inputs)\u001b[0m\n\u001b[0;32m    571\u001b[0m \u001b[38;5;28;01mif\u001b[39;00m has_torch_function_unary(\u001b[38;5;28mself\u001b[39m):\n\u001b[0;32m    572\u001b[0m     \u001b[38;5;28;01mreturn\u001b[39;00m handle_torch_function(\n\u001b[0;32m    573\u001b[0m         Tensor\u001b[38;5;241m.\u001b[39mbackward,\n\u001b[0;32m    574\u001b[0m         (\u001b[38;5;28mself\u001b[39m,),\n\u001b[1;32m   (...)\u001b[0m\n\u001b[0;32m    579\u001b[0m         inputs\u001b[38;5;241m=\u001b[39minputs,\n\u001b[0;32m    580\u001b[0m     )\n\u001b[1;32m--> 581\u001b[0m torch\u001b[38;5;241m.\u001b[39mautograd\u001b[38;5;241m.\u001b[39mbackward(\n\u001b[0;32m    582\u001b[0m     \u001b[38;5;28mself\u001b[39m, gradient, retain_graph, create_graph, inputs\u001b[38;5;241m=\u001b[39minputs\n\u001b[0;32m    583\u001b[0m )\n",
      "File \u001b[1;32m~\\anaconda3\\Lib\\site-packages\\torch\\autograd\\__init__.py:347\u001b[0m, in \u001b[0;36mbackward\u001b[1;34m(tensors, grad_tensors, retain_graph, create_graph, grad_variables, inputs)\u001b[0m\n\u001b[0;32m    342\u001b[0m     retain_graph \u001b[38;5;241m=\u001b[39m create_graph\n\u001b[0;32m    344\u001b[0m \u001b[38;5;66;03m# The reason we repeat the same comment below is that\u001b[39;00m\n\u001b[0;32m    345\u001b[0m \u001b[38;5;66;03m# some Python versions print out the first line of a multi-line function\u001b[39;00m\n\u001b[0;32m    346\u001b[0m \u001b[38;5;66;03m# calls in the traceback and some print out the last line\u001b[39;00m\n\u001b[1;32m--> 347\u001b[0m _engine_run_backward(\n\u001b[0;32m    348\u001b[0m     tensors,\n\u001b[0;32m    349\u001b[0m     grad_tensors_,\n\u001b[0;32m    350\u001b[0m     retain_graph,\n\u001b[0;32m    351\u001b[0m     create_graph,\n\u001b[0;32m    352\u001b[0m     inputs,\n\u001b[0;32m    353\u001b[0m     allow_unreachable\u001b[38;5;241m=\u001b[39m\u001b[38;5;28;01mTrue\u001b[39;00m,\n\u001b[0;32m    354\u001b[0m     accumulate_grad\u001b[38;5;241m=\u001b[39m\u001b[38;5;28;01mTrue\u001b[39;00m,\n\u001b[0;32m    355\u001b[0m )\n",
      "File \u001b[1;32m~\\anaconda3\\Lib\\site-packages\\torch\\autograd\\graph.py:825\u001b[0m, in \u001b[0;36m_engine_run_backward\u001b[1;34m(t_outputs, *args, **kwargs)\u001b[0m\n\u001b[0;32m    823\u001b[0m     unregister_hooks \u001b[38;5;241m=\u001b[39m _register_logging_hooks_on_whole_graph(t_outputs)\n\u001b[0;32m    824\u001b[0m \u001b[38;5;28;01mtry\u001b[39;00m:\n\u001b[1;32m--> 825\u001b[0m     \u001b[38;5;28;01mreturn\u001b[39;00m Variable\u001b[38;5;241m.\u001b[39m_execution_engine\u001b[38;5;241m.\u001b[39mrun_backward(  \u001b[38;5;66;03m# Calls into the C++ engine to run the backward pass\u001b[39;00m\n\u001b[0;32m    826\u001b[0m         t_outputs, \u001b[38;5;241m*\u001b[39margs, \u001b[38;5;241m*\u001b[39m\u001b[38;5;241m*\u001b[39mkwargs\n\u001b[0;32m    827\u001b[0m     )  \u001b[38;5;66;03m# Calls into the C++ engine to run the backward pass\u001b[39;00m\n\u001b[0;32m    828\u001b[0m \u001b[38;5;28;01mfinally\u001b[39;00m:\n\u001b[0;32m    829\u001b[0m     \u001b[38;5;28;01mif\u001b[39;00m attach_logging_hooks:\n",
      "\u001b[1;31mKeyboardInterrupt\u001b[0m: "
     ]
    }
   ],
   "source": [
    "loss_history = []\n",
    "\n",
    "for epoch in range(5):\n",
    "    model.train()\n",
    "    optimizer.zero_grad()\n",
    "    \n",
    "\n",
    "    out = model(x_num_tensor, x_cat_tensor, edge_index)         # fresh forward pass\n",
    "    loss = loss_fn(out, y_tensor)              # fresh loss computation\n",
    "\n",
    "    loss.backward()                            # single backward pass\n",
    "    optimizer.step()\n",
    "\n",
    "    loss_history.append(loss.item())\n",
    "\n",
    "    if epoch % 10 == 0:\n",
    "        print(f\"Epoch {epoch}: Loss = {loss.item():.4f}\")"
   ]
  },
  {
   "cell_type": "code",
   "execution_count": null,
   "id": "484354d6-1e42-4231-904d-f0bae0fb9875",
   "metadata": {},
   "outputs": [],
   "source": []
  }
 ],
 "metadata": {
  "kernelspec": {
   "display_name": "Python 3 (ipykernel)",
   "language": "python",
   "name": "python3"
  },
  "language_info": {
   "codemirror_mode": {
    "name": "ipython",
    "version": 3
   },
   "file_extension": ".py",
   "mimetype": "text/x-python",
   "name": "python",
   "nbconvert_exporter": "python",
   "pygments_lexer": "ipython3",
   "version": "3.12.7"
  }
 },
 "nbformat": 4,
 "nbformat_minor": 5
}
