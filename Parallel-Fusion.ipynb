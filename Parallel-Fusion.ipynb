{
 "cells": [
  {
   "cell_type": "code",
   "execution_count": 1,
   "id": "0b689cfa-a65f-4e0c-9218-776ab23f665d",
   "metadata": {},
   "outputs": [],
   "source": [
    "import pandas as pd"
   ]
  },
  {
   "cell_type": "code",
   "execution_count": 2,
   "id": "7611f969-84bd-4f77-b2c2-ab568a027ed6",
   "metadata": {},
   "outputs": [],
   "source": [
    "import numpy as np"
   ]
  },
  {
   "cell_type": "code",
   "execution_count": 3,
   "id": "eeb49b6d-a430-4357-933c-c564dd4f31c5",
   "metadata": {},
   "outputs": [],
   "source": [
    "df = pd.read_csv(\"C:/Users/pkitt/Downloads/playground-series-s5e6/train.csv\")"
   ]
  },
  {
   "cell_type": "code",
   "execution_count": 4,
   "id": "651f655e-8117-4657-8f06-7a02009018a9",
   "metadata": {},
   "outputs": [
    {
     "name": "stderr",
     "output_type": "stream",
     "text": [
      "C:\\Users\\pkitt\\AppData\\Local\\Temp\\ipykernel_18232\\1653857449.py:1: UserWarning: Pandas doesn't allow columns to be created via a new attribute name - see https://pandas.pydata.org/pandas-docs/stable/indexing.html#attribute-access\n",
      "  df.cat =df.select_dtypes(include=[object])\n"
     ]
    }
   ],
   "source": [
    "df.cat =df.select_dtypes(include=[object]) "
   ]
  },
  {
   "cell_type": "code",
   "execution_count": 5,
   "id": "784a3209-d06b-4cf1-a1f8-4aa924d0f3c3",
   "metadata": {},
   "outputs": [
    {
     "name": "stderr",
     "output_type": "stream",
     "text": [
      "C:\\Users\\pkitt\\AppData\\Local\\Temp\\ipykernel_18232\\610118065.py:1: UserWarning: Pandas doesn't allow columns to be created via a new attribute name - see https://pandas.pydata.org/pandas-docs/stable/indexing.html#attribute-access\n",
      "  df.num=df.select_dtypes(include=[np.number])\n"
     ]
    }
   ],
   "source": [
    "df.num=df.select_dtypes(include=[np.number])"
   ]
  },
  {
   "cell_type": "code",
   "execution_count": 6,
   "id": "fd52a9ef-afc4-48a5-87e1-0918790fd049",
   "metadata": {},
   "outputs": [
    {
     "data": {
      "text/html": [
       "<div>\n",
       "<style scoped>\n",
       "    .dataframe tbody tr th:only-of-type {\n",
       "        vertical-align: middle;\n",
       "    }\n",
       "\n",
       "    .dataframe tbody tr th {\n",
       "        vertical-align: top;\n",
       "    }\n",
       "\n",
       "    .dataframe thead th {\n",
       "        text-align: right;\n",
       "    }\n",
       "</style>\n",
       "<table border=\"1\" class=\"dataframe\">\n",
       "  <thead>\n",
       "    <tr style=\"text-align: right;\">\n",
       "      <th></th>\n",
       "      <th>Soil Type</th>\n",
       "      <th>Crop Type</th>\n",
       "      <th>Fertilizer Name</th>\n",
       "    </tr>\n",
       "  </thead>\n",
       "  <tbody>\n",
       "    <tr>\n",
       "      <th>0</th>\n",
       "      <td>Clayey</td>\n",
       "      <td>Sugarcane</td>\n",
       "      <td>28-28</td>\n",
       "    </tr>\n",
       "    <tr>\n",
       "      <th>1</th>\n",
       "      <td>Sandy</td>\n",
       "      <td>Millets</td>\n",
       "      <td>28-28</td>\n",
       "    </tr>\n",
       "    <tr>\n",
       "      <th>2</th>\n",
       "      <td>Sandy</td>\n",
       "      <td>Millets</td>\n",
       "      <td>17-17-17</td>\n",
       "    </tr>\n",
       "    <tr>\n",
       "      <th>3</th>\n",
       "      <td>Sandy</td>\n",
       "      <td>Barley</td>\n",
       "      <td>10-26-26</td>\n",
       "    </tr>\n",
       "    <tr>\n",
       "      <th>4</th>\n",
       "      <td>Red</td>\n",
       "      <td>Paddy</td>\n",
       "      <td>DAP</td>\n",
       "    </tr>\n",
       "  </tbody>\n",
       "</table>\n",
       "</div>"
      ],
      "text/plain": [
       "  Soil Type  Crop Type Fertilizer Name\n",
       "0    Clayey  Sugarcane           28-28\n",
       "1     Sandy    Millets           28-28\n",
       "2     Sandy    Millets        17-17-17\n",
       "3     Sandy     Barley        10-26-26\n",
       "4       Red      Paddy             DAP"
      ]
     },
     "execution_count": 6,
     "metadata": {},
     "output_type": "execute_result"
    }
   ],
   "source": [
    "df.cat.head()"
   ]
  },
  {
   "cell_type": "code",
   "execution_count": 7,
   "id": "3cf872f9-6ee4-4486-b301-520c88ccf838",
   "metadata": {},
   "outputs": [
    {
     "data": {
      "text/html": [
       "<div>\n",
       "<style scoped>\n",
       "    .dataframe tbody tr th:only-of-type {\n",
       "        vertical-align: middle;\n",
       "    }\n",
       "\n",
       "    .dataframe tbody tr th {\n",
       "        vertical-align: top;\n",
       "    }\n",
       "\n",
       "    .dataframe thead th {\n",
       "        text-align: right;\n",
       "    }\n",
       "</style>\n",
       "<table border=\"1\" class=\"dataframe\">\n",
       "  <thead>\n",
       "    <tr style=\"text-align: right;\">\n",
       "      <th></th>\n",
       "      <th>id</th>\n",
       "      <th>Temparature</th>\n",
       "      <th>Humidity</th>\n",
       "      <th>Moisture</th>\n",
       "      <th>Nitrogen</th>\n",
       "      <th>Potassium</th>\n",
       "      <th>Phosphorous</th>\n",
       "    </tr>\n",
       "  </thead>\n",
       "  <tbody>\n",
       "    <tr>\n",
       "      <th>0</th>\n",
       "      <td>0</td>\n",
       "      <td>37</td>\n",
       "      <td>70</td>\n",
       "      <td>36</td>\n",
       "      <td>36</td>\n",
       "      <td>4</td>\n",
       "      <td>5</td>\n",
       "    </tr>\n",
       "    <tr>\n",
       "      <th>1</th>\n",
       "      <td>1</td>\n",
       "      <td>27</td>\n",
       "      <td>69</td>\n",
       "      <td>65</td>\n",
       "      <td>30</td>\n",
       "      <td>6</td>\n",
       "      <td>18</td>\n",
       "    </tr>\n",
       "    <tr>\n",
       "      <th>2</th>\n",
       "      <td>2</td>\n",
       "      <td>29</td>\n",
       "      <td>63</td>\n",
       "      <td>32</td>\n",
       "      <td>24</td>\n",
       "      <td>12</td>\n",
       "      <td>16</td>\n",
       "    </tr>\n",
       "    <tr>\n",
       "      <th>3</th>\n",
       "      <td>3</td>\n",
       "      <td>35</td>\n",
       "      <td>62</td>\n",
       "      <td>54</td>\n",
       "      <td>39</td>\n",
       "      <td>12</td>\n",
       "      <td>4</td>\n",
       "    </tr>\n",
       "    <tr>\n",
       "      <th>4</th>\n",
       "      <td>4</td>\n",
       "      <td>35</td>\n",
       "      <td>58</td>\n",
       "      <td>43</td>\n",
       "      <td>37</td>\n",
       "      <td>2</td>\n",
       "      <td>16</td>\n",
       "    </tr>\n",
       "  </tbody>\n",
       "</table>\n",
       "</div>"
      ],
      "text/plain": [
       "   id  Temparature  Humidity  Moisture  Nitrogen  Potassium  Phosphorous\n",
       "0   0           37        70        36        36          4            5\n",
       "1   1           27        69        65        30          6           18\n",
       "2   2           29        63        32        24         12           16\n",
       "3   3           35        62        54        39         12            4\n",
       "4   4           35        58        43        37          2           16"
      ]
     },
     "execution_count": 7,
     "metadata": {},
     "output_type": "execute_result"
    }
   ],
   "source": [
    "df.num.head()"
   ]
  },
  {
   "cell_type": "code",
   "execution_count": 8,
   "id": "c76f84b4-283c-4d21-9a0c-c96637f73c7e",
   "metadata": {},
   "outputs": [],
   "source": [
    "from sklearn.preprocessing import LabelEncoder"
   ]
  },
  {
   "cell_type": "code",
   "execution_count": 9,
   "id": "8e8c89e6-e7e8-4381-8d6d-f581a84c3909",
   "metadata": {},
   "outputs": [],
   "source": [
    "le = LabelEncoder()"
   ]
  },
  {
   "cell_type": "code",
   "execution_count": 10,
   "id": "5797c7bc-02c3-4950-998f-c81b80a31b17",
   "metadata": {},
   "outputs": [],
   "source": [
    "df.cat[\"Soil Type\"] = le.fit_transform(df.cat[\"Soil Type\"])"
   ]
  },
  {
   "cell_type": "code",
   "execution_count": 11,
   "id": "19871d5f-39f0-449c-abfa-97eb620ba7b9",
   "metadata": {},
   "outputs": [],
   "source": [
    "df.cat[\"Crop Type\"] = le.fit_transform(df.cat[\"Crop Type\"])"
   ]
  },
  {
   "cell_type": "code",
   "execution_count": 12,
   "id": "7cf11e62-a448-4e5a-a90b-242637706c16",
   "metadata": {},
   "outputs": [],
   "source": [
    "df.cat[\"Fertilizer Name\"] = le.fit_transform(df.cat[\"Fertilizer Name\"])"
   ]
  },
  {
   "cell_type": "code",
   "execution_count": 13,
   "id": "a822553b-5664-428d-822a-566c9d0a72ba",
   "metadata": {},
   "outputs": [
    {
     "data": {
      "text/html": [
       "<div>\n",
       "<style scoped>\n",
       "    .dataframe tbody tr th:only-of-type {\n",
       "        vertical-align: middle;\n",
       "    }\n",
       "\n",
       "    .dataframe tbody tr th {\n",
       "        vertical-align: top;\n",
       "    }\n",
       "\n",
       "    .dataframe thead th {\n",
       "        text-align: right;\n",
       "    }\n",
       "</style>\n",
       "<table border=\"1\" class=\"dataframe\">\n",
       "  <thead>\n",
       "    <tr style=\"text-align: right;\">\n",
       "      <th></th>\n",
       "      <th>Soil Type</th>\n",
       "      <th>Crop Type</th>\n",
       "      <th>Fertilizer Name</th>\n",
       "    </tr>\n",
       "  </thead>\n",
       "  <tbody>\n",
       "    <tr>\n",
       "      <th>0</th>\n",
       "      <td>1</td>\n",
       "      <td>8</td>\n",
       "      <td>4</td>\n",
       "    </tr>\n",
       "    <tr>\n",
       "      <th>1</th>\n",
       "      <td>4</td>\n",
       "      <td>4</td>\n",
       "      <td>4</td>\n",
       "    </tr>\n",
       "    <tr>\n",
       "      <th>2</th>\n",
       "      <td>4</td>\n",
       "      <td>4</td>\n",
       "      <td>2</td>\n",
       "    </tr>\n",
       "    <tr>\n",
       "      <th>3</th>\n",
       "      <td>4</td>\n",
       "      <td>0</td>\n",
       "      <td>0</td>\n",
       "    </tr>\n",
       "    <tr>\n",
       "      <th>4</th>\n",
       "      <td>3</td>\n",
       "      <td>6</td>\n",
       "      <td>5</td>\n",
       "    </tr>\n",
       "  </tbody>\n",
       "</table>\n",
       "</div>"
      ],
      "text/plain": [
       "   Soil Type  Crop Type  Fertilizer Name\n",
       "0          1          8                4\n",
       "1          4          4                4\n",
       "2          4          4                2\n",
       "3          4          0                0\n",
       "4          3          6                5"
      ]
     },
     "execution_count": 13,
     "metadata": {},
     "output_type": "execute_result"
    }
   ],
   "source": [
    "df.cat.head()"
   ]
  },
  {
   "cell_type": "code",
   "execution_count": 14,
   "id": "2bcae4d0-4d48-44cb-9795-382f180a68cc",
   "metadata": {},
   "outputs": [],
   "source": [
    "df_train = pd.concat([df.num,df.cat],axis=1)"
   ]
  },
  {
   "cell_type": "code",
   "execution_count": 15,
   "id": "4d87f43b-bbfc-4daf-80d6-b4cdffe3f82f",
   "metadata": {},
   "outputs": [],
   "source": [
    "X = df_train[[\"Temparature\",\"Humidity\",\"Moisture\",\"Crop Type\",\"Soil Type\"]]"
   ]
  },
  {
   "cell_type": "code",
   "execution_count": 16,
   "id": "8fa578fb-d3f4-4b65-a6c9-4d9a08ecc834",
   "metadata": {},
   "outputs": [],
   "source": [
    "y = df_train[[\"Fertilizer Name\"]]"
   ]
  },
  {
   "cell_type": "code",
   "execution_count": 17,
   "id": "7786edf1-ad07-41f5-b92c-33ad025880fb",
   "metadata": {},
   "outputs": [],
   "source": [
    "from sklearn.model_selection import train_test_split\n",
    "X_train, X_test, y_train, y_test = train_test_split(X, y, test_size=0.2, random_state=42)"
   ]
  },
  {
   "cell_type": "code",
   "execution_count": 18,
   "id": "eca983c0-aaef-4ac6-8107-381ebed0d0b6",
   "metadata": {},
   "outputs": [],
   "source": [
    "import torch\n",
    "import torch.nn as nn\n",
    "from pytorch_tabnet.tab_network import TabNet\n",
    "\n",
    "class FusionModel(nn.Module):\n",
    "    def __init__(self, num_input_dim, cat_input_dim, tabnet_dim, transformer_dim, num_classes, cat_dims, cat_idxs, cat_emb_dim):\n",
    "        super().__init__()\n",
    "        self.embedding_proj = nn.Linear(num_input_dim, transformer_dim)\n",
    "        self.transformer = nn.TransformerEncoder(\n",
    "            nn.TransformerEncoderLayer(d_model=transformer_dim, nhead=4, batch_first=True),\n",
    "            num_layers=2\n",
    "        )\n",
    "        self.tabnet = TabNet(\n",
    "            input_dim=cat_input_dim,\n",
    "            output_dim=tabnet_dim,\n",
    "            n_d=tabnet_dim,\n",
    "            n_a=tabnet_dim,\n",
    "            n_steps=3,\n",
    "            gamma=1.5,\n",
    "            n_independent=2,\n",
    "            n_shared=2,\n",
    "            virtual_batch_size=128,\n",
    "            momentum=0.02,\n",
    "            mask_type=\"entmax\",\n",
    "            cat_dims=cat_dims,\n",
    "            cat_idxs=cat_idxs,\n",
    "            cat_emb_dim=cat_emb_dim\n",
    "        )\n",
    "        self.fusion = nn.Sequential(\n",
    "            nn.Linear(transformer_dim + tabnet_dim, 128),\n",
    "            nn.ReLU(),\n",
    "            nn.Linear(128, num_classes)\n",
    "        )\n",
    "\n",
    "    def forward(self, x_num, x_cat):\n",
    "        x_proj = self.embedding_proj(x_num)              # [B, 64]\n",
    "        x_seq = x_proj.unsqueeze(1)                      # [B, 1, 64]\n",
    "        x_trans = self.transformer(x_seq).squeeze(1)     # [B, 64]\n",
    "        x_tabnet, _ = self.tabnet(x_cat)                 # [B, tabnet_dim]\n",
    "        x_fused = torch.cat([x_trans, x_tabnet], dim=1)  # [B, combined_dim]\n",
    "        return self.fusion(x_fused)"
   ]
  },
  {
   "cell_type": "code",
   "execution_count": 20,
   "id": "b7e9f532-7e9b-4085-a5e7-fe7c6adbe492",
   "metadata": {},
   "outputs": [],
   "source": [
    "categorical_cols = ['Soil Type', 'Crop Type']  # or whatever your actual column names are"
   ]
  },
  {
   "cell_type": "code",
   "execution_count": 21,
   "id": "6a75eb3c-b201-4888-bcc3-a52f10010cc2",
   "metadata": {},
   "outputs": [],
   "source": [
    "cat_idxs = [df.columns.get_loc(col) for col in categorical_cols]\n",
    "cat_dims = [len(df[col].unique()) for col in categorical_cols]\n",
    "cat_emb_dim = [min(50, (dim + 1) // 2) for dim in cat_dims]"
   ]
  },
  {
   "cell_type": "code",
   "execution_count": 22,
   "id": "75b4b34e-df10-4dab-bc6a-93dc63394411",
   "metadata": {},
   "outputs": [
    {
     "ename": "NameError",
     "evalue": "name 'X_num' is not defined",
     "output_type": "error",
     "traceback": [
      "\u001b[1;31m---------------------------------------------------------------------------\u001b[0m",
      "\u001b[1;31mNameError\u001b[0m                                 Traceback (most recent call last)",
      "Cell \u001b[1;32mIn[22], line 3\u001b[0m\n\u001b[0;32m      1\u001b[0m \u001b[38;5;28;01mfrom\u001b[39;00m \u001b[38;5;21;01mtorch\u001b[39;00m\u001b[38;5;21;01m.\u001b[39;00m\u001b[38;5;21;01mutils\u001b[39;00m\u001b[38;5;21;01m.\u001b[39;00m\u001b[38;5;21;01mdata\u001b[39;00m \u001b[38;5;28;01mimport\u001b[39;00m TensorDataset, DataLoader\n\u001b[1;32m----> 3\u001b[0m dataset \u001b[38;5;241m=\u001b[39m TensorDataset(torch\u001b[38;5;241m.\u001b[39mtensor(X_num\u001b[38;5;241m.\u001b[39mvalues), torch\u001b[38;5;241m.\u001b[39mtensor(X_cat\u001b[38;5;241m.\u001b[39mvalues), torch\u001b[38;5;241m.\u001b[39mtensor(y))\n\u001b[0;32m      4\u001b[0m loader \u001b[38;5;241m=\u001b[39m DataLoader(dataset, batch_size\u001b[38;5;241m=\u001b[39m\u001b[38;5;241m64\u001b[39m, shuffle\u001b[38;5;241m=\u001b[39m\u001b[38;5;28;01mTrue\u001b[39;00m)\n\u001b[0;32m      6\u001b[0m model \u001b[38;5;241m=\u001b[39m FusionModel(\n\u001b[0;32m      7\u001b[0m     num_input_dim\u001b[38;5;241m=\u001b[39mX_num\u001b[38;5;241m.\u001b[39mshape[\u001b[38;5;241m1\u001b[39m],\n\u001b[0;32m      8\u001b[0m     cat_input_dim\u001b[38;5;241m=\u001b[39mX_cat\u001b[38;5;241m.\u001b[39mshape[\u001b[38;5;241m1\u001b[39m],\n\u001b[1;32m   (...)\u001b[0m\n\u001b[0;32m     14\u001b[0m     cat_emb_dim\u001b[38;5;241m=\u001b[39mcat_emb_dim\n\u001b[0;32m     15\u001b[0m )\n",
      "\u001b[1;31mNameError\u001b[0m: name 'X_num' is not defined"
     ]
    }
   ],
   "source": [
    "from torch.utils.data import TensorDataset, DataLoader\n",
    "\n",
    "dataset = TensorDataset(torch.tensor(X_num.values), torch.tensor(X_cat.values), torch.tensor(y))\n",
    "loader = DataLoader(dataset, batch_size=64, shuffle=True)\n",
    "\n",
    "model = FusionModel(\n",
    "    num_input_dim=X_num.shape[1],\n",
    "    cat_input_dim=X_cat.shape[1],\n",
    "    tabnet_dim=32,\n",
    "    transformer_dim=64,\n",
    "    num_classes=num_classes,\n",
    "    cat_dims=cat_dims,\n",
    "    cat_idxs=cat_idxs,\n",
    "    cat_emb_dim=cat_emb_dim\n",
    ")\n",
    "\n",
    "criterion = nn.CrossEntropyLoss()\n",
    "optimizer = torch.optim.Adam(model.parameters(), lr=1e-3)\n",
    "\n",
    "for epoch in range(5):\n",
    "    model.train()\n",
    "    for x_num_batch, x_cat_batch, y_batch in loader:\n",
    "        optimizer.zero_grad()\n",
    "        preds = model(x_num_batch.float(), x_cat_batch.int())\n",
    "        loss = criterion(preds, y_batch)\n",
    "        loss.backward()\n",
    "        optimizer.step()\n",
    "    print(f\"Epoch {epoch+1}, Loss: {loss.item():.4f}\")"
   ]
  },
  {
   "cell_type": "code",
   "execution_count": 1,
   "id": "baac77c7-7a64-4b6b-9e2e-672ab87f9705",
   "metadata": {},
   "outputs": [],
   "source": [
    "import pandas as pd\n",
    "import numpy as np\n",
    "import torch\n",
    "import torch.nn as nn\n",
    "from sklearn.preprocessing import LabelEncoder\n",
    "from torch.utils.data import DataLoader, TensorDataset\n",
    "from pytorch_tabnet.tab_network import TabNet\n",
    "from pytorch_tabnet.tab_network import EmbeddingGenerator\n",
    "\n",
    "# Save the original __init__ only once\n",
    "_original_init = EmbeddingGenerator.__init__\n",
    "\n",
    "def patched_init(self, input_dim, cat_dims, cat_idxs, cat_emb_dims, group_matrix=None):\n",
    "    if group_matrix is None:\n",
    "        # Create a dummy group matrix with shape [1, input_dim]\n",
    "        import torch\n",
    "        group_matrix = torch.zeros((1, input_dim))\n",
    "    # Call the original unpatched __init__\n",
    "    return _original_init(self, input_dim, cat_dims, cat_idxs, cat_emb_dims, group_matrix)\n",
    "\n",
    "# Apply the patch\n",
    "EmbeddingGenerator.__init__ = patched_init\n",
    "\n",
    "# Load your data\n",
    "df = pd.read_csv(\"C:/Users/pkitt/Downloads/playground-series-s5e6/train.csv\")  # adjust path accordingly\n",
    "\n",
    "categorical_cols = ['Crop Type', 'Soil Type']\n",
    "numerical_cols = ['Temparature', 'Humidity', 'Moisture']\n",
    "label_col = 'Fertilizer Name'\n",
    "\n",
    "# Encode categoricals\n",
    "for col in categorical_cols:\n",
    "    df[col] = LabelEncoder().fit_transform(df[col])\n",
    "\n",
    "# Encode label\n",
    "label_encoder = LabelEncoder()\n",
    "df[label_col] = label_encoder.fit_transform(df[label_col])\n",
    "num_classes = len(label_encoder.classes_)\n",
    "\n",
    "# Split features\n",
    "\n",
    "X_cat = df[categorical_cols].astype(np.int32)\n",
    "X_num = df[numerical_cols].astype(np.float32)\n",
    "y = df[label_col].values"
   ]
  },
  {
   "cell_type": "code",
   "execution_count": 2,
   "id": "4baf8eca-fe97-4c9d-81b3-4de27c1ec177",
   "metadata": {},
   "outputs": [],
   "source": [
    "class FusionModel(nn.Module):\n",
    "    def __init__(self, num_features, tabnet_input_dim, tabnet_dim, transformer_dim, num_classes, cat_idxs, cat_dims, cat_emb_dim):\n",
    "        super().__init__()\n",
    "        self.embedding_proj = nn.Linear(num_features, transformer_dim)\n",
    "        self.transformer = nn.TransformerEncoder(\n",
    "            nn.TransformerEncoderLayer(d_model=transformer_dim, nhead=4, batch_first=True),\n",
    "            num_layers=2\n",
    "        )\n",
    "        self.tabnet = TabNet(\n",
    "            input_dim=tabnet_input_dim, # 5 in your case\n",
    "            output_dim=tabnet_dim,         # e.g. 32\n",
    "            n_d=tabnet_dim,\n",
    "            n_a=tabnet_dim,\n",
    "            n_steps=3,\n",
    "            gamma=1.5,\n",
    "            n_independent=2,\n",
    "            n_shared=2,\n",
    "            virtual_batch_size=128,\n",
    "            momentum=0.02,\n",
    "            mask_type='entmax',\n",
    "            cat_idxs=cat_idxs,\n",
    "            cat_dims=cat_dims,\n",
    "            cat_emb_dim=cat_emb_dim,# or use the min(50, (dim+1)//2) rule\n",
    "            group_attention_matrix=None\n",
    "        )\n",
    "        self.fusion = nn.Sequential(\n",
    "            nn.Linear(tabnet_dim + transformer_dim, 128),\n",
    "            nn.ReLU(),\n",
    "            nn.Linear(128, num_classes)\n",
    "        )\n",
    "\n",
    "    def forward(self, x_num, x_cat_full):\n",
    "        x_proj = self.embedding_proj(x_num)\n",
    "        x_seq = x_proj.unsqueeze(1)\n",
    "        x_trans = self.transformer(x_seq).squeeze(1)\n",
    "        x_tabnet, _ = self.tabnet(x_cat_full)\n",
    "        x_fused = torch.cat([x_trans, x_tabnet], dim=1)\n",
    "        return self.fusion(x_fused)"
   ]
  },
  {
   "cell_type": "code",
   "execution_count": 3,
   "id": "23326591-614c-413a-853f-3b2435d48738",
   "metadata": {},
   "outputs": [
    {
     "name": "stdout",
     "output_type": "stream",
     "text": [
      "Epoch 1 | Loss: 1.9431\n",
      "Epoch 2 | Loss: 1.9426\n",
      "Epoch 3 | Loss: 1.9426\n",
      "Epoch 4 | Loss: 1.9426\n",
      "Epoch 5 | Loss: 1.9426\n"
     ]
    }
   ],
   "source": [
    "# Combine for TabNet: numerical + categorical\n",
    "X_tab = pd.concat([X_num, X_cat], axis=1).astype(np.float32)\n",
    "\n",
    "# Define categorical metadata\n",
    "cat_idxs = list(range(X_num.shape[1], X_tab.shape[1]))\n",
    "cat_dims = [len(df[col].unique()) for col in categorical_cols]\n",
    "cat_emb_dim = [min(50, (dim + 1) // 2) for dim in cat_dims]\n",
    "\n",
    "# Create dataset\n",
    "dataset = TensorDataset(\n",
    "    torch.tensor(X_num.values, dtype=torch.float32),\n",
    "    torch.tensor(X_tab.values, dtype=torch.float32),\n",
    "    torch.tensor(y, dtype=torch.long)  # ensure target dtype is correct\n",
    ")\n",
    "loader = DataLoader(dataset, batch_size=64, shuffle=True)\n",
    "\n",
    "# Instantiate model, loss, optimizer\n",
    "model = FusionModel(\n",
    "    num_features=X_num.shape[1],\n",
    "    tabnet_input_dim=X_tab.shape[1],\n",
    "    tabnet_dim=32,\n",
    "    transformer_dim=64,\n",
    "    num_classes=num_classes,\n",
    "    cat_idxs=cat_idxs,\n",
    "    cat_dims=cat_dims,\n",
    "    cat_emb_dim=cat_emb_dim\n",
    ")\n",
    "criterion = torch.nn.CrossEntropyLoss()\n",
    "optimizer = torch.optim.Adam(model.parameters(), lr=1e-3)\n",
    "# Training loop\n",
    "for epoch in range(5):\n",
    "    model.train()\n",
    "    running_loss = 0.0\n",
    "    for xb_num, xb_tab, yb in loader:\n",
    "        optimizer.zero_grad()\n",
    "        outputs = model(xb_num, xb_tab)\n",
    "        loss = criterion(outputs, yb)\n",
    "        loss.backward()\n",
    "        optimizer.step()\n",
    "        running_loss += loss.item()\n",
    "    print(f\"Epoch {epoch+1} | Loss: {running_loss/len(loader):.4f}\")"
   ]
  },
  {
   "cell_type": "code",
   "execution_count": null,
   "id": "4218fef5-f615-43d1-899f-86f538b164f0",
   "metadata": {},
   "outputs": [],
   "source": []
  }
 ],
 "metadata": {
  "kernelspec": {
   "display_name": "Python 3 (ipykernel)",
   "language": "python",
   "name": "python3"
  },
  "language_info": {
   "codemirror_mode": {
    "name": "ipython",
    "version": 3
   },
   "file_extension": ".py",
   "mimetype": "text/x-python",
   "name": "python",
   "nbconvert_exporter": "python",
   "pygments_lexer": "ipython3",
   "version": "3.12.7"
  }
 },
 "nbformat": 4,
 "nbformat_minor": 5
}
