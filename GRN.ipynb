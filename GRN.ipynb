{
 "cells": [
  {
   "cell_type": "code",
   "execution_count": 1,
   "id": "0b689cfa-a65f-4e0c-9218-776ab23f665d",
   "metadata": {},
   "outputs": [],
   "source": [
    "import pandas as pd"
   ]
  },
  {
   "cell_type": "code",
   "execution_count": 2,
   "id": "7611f969-84bd-4f77-b2c2-ab568a027ed6",
   "metadata": {},
   "outputs": [],
   "source": [
    "import numpy as np"
   ]
  },
  {
   "cell_type": "code",
   "execution_count": 3,
   "id": "eeb49b6d-a430-4357-933c-c564dd4f31c5",
   "metadata": {},
   "outputs": [],
   "source": [
    "df = pd.read_csv(\"C:/Users/pkitt/Downloads/playground-series-s5e6/train.csv\")"
   ]
  },
  {
   "cell_type": "code",
   "execution_count": 4,
   "id": "651f655e-8117-4657-8f06-7a02009018a9",
   "metadata": {},
   "outputs": [
    {
     "name": "stderr",
     "output_type": "stream",
     "text": [
      "C:\\Users\\pkitt\\AppData\\Local\\Temp\\ipykernel_19000\\1653857449.py:1: UserWarning: Pandas doesn't allow columns to be created via a new attribute name - see https://pandas.pydata.org/pandas-docs/stable/indexing.html#attribute-access\n",
      "  df.cat =df.select_dtypes(include=[object])\n"
     ]
    }
   ],
   "source": [
    "df.cat =df.select_dtypes(include=[object]) "
   ]
  },
  {
   "cell_type": "code",
   "execution_count": 5,
   "id": "784a3209-d06b-4cf1-a1f8-4aa924d0f3c3",
   "metadata": {},
   "outputs": [
    {
     "name": "stderr",
     "output_type": "stream",
     "text": [
      "C:\\Users\\pkitt\\AppData\\Local\\Temp\\ipykernel_19000\\610118065.py:1: UserWarning: Pandas doesn't allow columns to be created via a new attribute name - see https://pandas.pydata.org/pandas-docs/stable/indexing.html#attribute-access\n",
      "  df.num=df.select_dtypes(include=[np.number])\n"
     ]
    }
   ],
   "source": [
    "df.num=df.select_dtypes(include=[np.number])"
   ]
  },
  {
   "cell_type": "code",
   "execution_count": 6,
   "id": "fd52a9ef-afc4-48a5-87e1-0918790fd049",
   "metadata": {},
   "outputs": [
    {
     "data": {
      "text/html": [
       "<div>\n",
       "<style scoped>\n",
       "    .dataframe tbody tr th:only-of-type {\n",
       "        vertical-align: middle;\n",
       "    }\n",
       "\n",
       "    .dataframe tbody tr th {\n",
       "        vertical-align: top;\n",
       "    }\n",
       "\n",
       "    .dataframe thead th {\n",
       "        text-align: right;\n",
       "    }\n",
       "</style>\n",
       "<table border=\"1\" class=\"dataframe\">\n",
       "  <thead>\n",
       "    <tr style=\"text-align: right;\">\n",
       "      <th></th>\n",
       "      <th>Soil Type</th>\n",
       "      <th>Crop Type</th>\n",
       "      <th>Fertilizer Name</th>\n",
       "    </tr>\n",
       "  </thead>\n",
       "  <tbody>\n",
       "    <tr>\n",
       "      <th>0</th>\n",
       "      <td>Clayey</td>\n",
       "      <td>Sugarcane</td>\n",
       "      <td>28-28</td>\n",
       "    </tr>\n",
       "    <tr>\n",
       "      <th>1</th>\n",
       "      <td>Sandy</td>\n",
       "      <td>Millets</td>\n",
       "      <td>28-28</td>\n",
       "    </tr>\n",
       "    <tr>\n",
       "      <th>2</th>\n",
       "      <td>Sandy</td>\n",
       "      <td>Millets</td>\n",
       "      <td>17-17-17</td>\n",
       "    </tr>\n",
       "    <tr>\n",
       "      <th>3</th>\n",
       "      <td>Sandy</td>\n",
       "      <td>Barley</td>\n",
       "      <td>10-26-26</td>\n",
       "    </tr>\n",
       "    <tr>\n",
       "      <th>4</th>\n",
       "      <td>Red</td>\n",
       "      <td>Paddy</td>\n",
       "      <td>DAP</td>\n",
       "    </tr>\n",
       "  </tbody>\n",
       "</table>\n",
       "</div>"
      ],
      "text/plain": [
       "  Soil Type  Crop Type Fertilizer Name\n",
       "0    Clayey  Sugarcane           28-28\n",
       "1     Sandy    Millets           28-28\n",
       "2     Sandy    Millets        17-17-17\n",
       "3     Sandy     Barley        10-26-26\n",
       "4       Red      Paddy             DAP"
      ]
     },
     "execution_count": 6,
     "metadata": {},
     "output_type": "execute_result"
    }
   ],
   "source": [
    "df.cat.head()"
   ]
  },
  {
   "cell_type": "code",
   "execution_count": 7,
   "id": "c76f84b4-283c-4d21-9a0c-c96637f73c7e",
   "metadata": {},
   "outputs": [],
   "source": [
    "from sklearn.preprocessing import LabelEncoder"
   ]
  },
  {
   "cell_type": "code",
   "execution_count": 8,
   "id": "8e8c89e6-e7e8-4381-8d6d-f581a84c3909",
   "metadata": {},
   "outputs": [],
   "source": [
    "le = LabelEncoder()"
   ]
  },
  {
   "cell_type": "code",
   "execution_count": 9,
   "id": "5797c7bc-02c3-4950-998f-c81b80a31b17",
   "metadata": {},
   "outputs": [],
   "source": [
    "df.cat[\"Soil Type\"] = le.fit_transform(df.cat[\"Soil Type\"])"
   ]
  },
  {
   "cell_type": "code",
   "execution_count": 10,
   "id": "19871d5f-39f0-449c-abfa-97eb620ba7b9",
   "metadata": {},
   "outputs": [],
   "source": [
    "df.cat[\"Crop Type\"] = le.fit_transform(df.cat[\"Crop Type\"])"
   ]
  },
  {
   "cell_type": "code",
   "execution_count": 11,
   "id": "7cf11e62-a448-4e5a-a90b-242637706c16",
   "metadata": {},
   "outputs": [],
   "source": [
    "df.cat[\"Fertilizer Name\"] = le.fit_transform(df.cat[\"Fertilizer Name\"])"
   ]
  },
  {
   "cell_type": "code",
   "execution_count": 12,
   "id": "a822553b-5664-428d-822a-566c9d0a72ba",
   "metadata": {},
   "outputs": [
    {
     "data": {
      "text/html": [
       "<div>\n",
       "<style scoped>\n",
       "    .dataframe tbody tr th:only-of-type {\n",
       "        vertical-align: middle;\n",
       "    }\n",
       "\n",
       "    .dataframe tbody tr th {\n",
       "        vertical-align: top;\n",
       "    }\n",
       "\n",
       "    .dataframe thead th {\n",
       "        text-align: right;\n",
       "    }\n",
       "</style>\n",
       "<table border=\"1\" class=\"dataframe\">\n",
       "  <thead>\n",
       "    <tr style=\"text-align: right;\">\n",
       "      <th></th>\n",
       "      <th>Soil Type</th>\n",
       "      <th>Crop Type</th>\n",
       "      <th>Fertilizer Name</th>\n",
       "    </tr>\n",
       "  </thead>\n",
       "  <tbody>\n",
       "    <tr>\n",
       "      <th>749980</th>\n",
       "      <td>0</td>\n",
       "      <td>10</td>\n",
       "      <td>5</td>\n",
       "    </tr>\n",
       "    <tr>\n",
       "      <th>749981</th>\n",
       "      <td>2</td>\n",
       "      <td>2</td>\n",
       "      <td>2</td>\n",
       "    </tr>\n",
       "    <tr>\n",
       "      <th>749982</th>\n",
       "      <td>3</td>\n",
       "      <td>8</td>\n",
       "      <td>0</td>\n",
       "    </tr>\n",
       "    <tr>\n",
       "      <th>749983</th>\n",
       "      <td>4</td>\n",
       "      <td>3</td>\n",
       "      <td>2</td>\n",
       "    </tr>\n",
       "    <tr>\n",
       "      <th>749984</th>\n",
       "      <td>4</td>\n",
       "      <td>6</td>\n",
       "      <td>1</td>\n",
       "    </tr>\n",
       "    <tr>\n",
       "      <th>749985</th>\n",
       "      <td>3</td>\n",
       "      <td>3</td>\n",
       "      <td>0</td>\n",
       "    </tr>\n",
       "    <tr>\n",
       "      <th>749986</th>\n",
       "      <td>0</td>\n",
       "      <td>10</td>\n",
       "      <td>3</td>\n",
       "    </tr>\n",
       "    <tr>\n",
       "      <th>749987</th>\n",
       "      <td>3</td>\n",
       "      <td>3</td>\n",
       "      <td>6</td>\n",
       "    </tr>\n",
       "    <tr>\n",
       "      <th>749988</th>\n",
       "      <td>0</td>\n",
       "      <td>3</td>\n",
       "      <td>1</td>\n",
       "    </tr>\n",
       "    <tr>\n",
       "      <th>749989</th>\n",
       "      <td>0</td>\n",
       "      <td>4</td>\n",
       "      <td>4</td>\n",
       "    </tr>\n",
       "    <tr>\n",
       "      <th>749990</th>\n",
       "      <td>2</td>\n",
       "      <td>6</td>\n",
       "      <td>4</td>\n",
       "    </tr>\n",
       "    <tr>\n",
       "      <th>749991</th>\n",
       "      <td>4</td>\n",
       "      <td>7</td>\n",
       "      <td>4</td>\n",
       "    </tr>\n",
       "    <tr>\n",
       "      <th>749992</th>\n",
       "      <td>3</td>\n",
       "      <td>10</td>\n",
       "      <td>3</td>\n",
       "    </tr>\n",
       "    <tr>\n",
       "      <th>749993</th>\n",
       "      <td>0</td>\n",
       "      <td>9</td>\n",
       "      <td>6</td>\n",
       "    </tr>\n",
       "    <tr>\n",
       "      <th>749994</th>\n",
       "      <td>0</td>\n",
       "      <td>2</td>\n",
       "      <td>1</td>\n",
       "    </tr>\n",
       "    <tr>\n",
       "      <th>749995</th>\n",
       "      <td>1</td>\n",
       "      <td>3</td>\n",
       "      <td>4</td>\n",
       "    </tr>\n",
       "    <tr>\n",
       "      <th>749996</th>\n",
       "      <td>2</td>\n",
       "      <td>8</td>\n",
       "      <td>2</td>\n",
       "    </tr>\n",
       "    <tr>\n",
       "      <th>749997</th>\n",
       "      <td>4</td>\n",
       "      <td>2</td>\n",
       "      <td>0</td>\n",
       "    </tr>\n",
       "    <tr>\n",
       "      <th>749998</th>\n",
       "      <td>3</td>\n",
       "      <td>1</td>\n",
       "      <td>3</td>\n",
       "    </tr>\n",
       "    <tr>\n",
       "      <th>749999</th>\n",
       "      <td>2</td>\n",
       "      <td>1</td>\n",
       "      <td>6</td>\n",
       "    </tr>\n",
       "  </tbody>\n",
       "</table>\n",
       "</div>"
      ],
      "text/plain": [
       "        Soil Type  Crop Type  Fertilizer Name\n",
       "749980          0         10                5\n",
       "749981          2          2                2\n",
       "749982          3          8                0\n",
       "749983          4          3                2\n",
       "749984          4          6                1\n",
       "749985          3          3                0\n",
       "749986          0         10                3\n",
       "749987          3          3                6\n",
       "749988          0          3                1\n",
       "749989          0          4                4\n",
       "749990          2          6                4\n",
       "749991          4          7                4\n",
       "749992          3         10                3\n",
       "749993          0          9                6\n",
       "749994          0          2                1\n",
       "749995          1          3                4\n",
       "749996          2          8                2\n",
       "749997          4          2                0\n",
       "749998          3          1                3\n",
       "749999          2          1                6"
      ]
     },
     "execution_count": 12,
     "metadata": {},
     "output_type": "execute_result"
    }
   ],
   "source": [
    "df.cat.tail(20)"
   ]
  },
  {
   "cell_type": "code",
   "execution_count": 13,
   "id": "2bcae4d0-4d48-44cb-9795-382f180a68cc",
   "metadata": {},
   "outputs": [],
   "source": [
    "df_train = pd.concat([df.num,df.cat],axis=1)"
   ]
  },
  {
   "cell_type": "code",
   "execution_count": 14,
   "id": "d0ff38e2-88ab-4b25-9e75-227b42451aa5",
   "metadata": {},
   "outputs": [],
   "source": [
    "matrix=df_train.corr()"
   ]
  },
  {
   "cell_type": "code",
   "execution_count": 15,
   "id": "078c04ed-44ff-44c2-9382-7cab17c2d8da",
   "metadata": {},
   "outputs": [
    {
     "data": {
      "text/html": [
       "<div>\n",
       "<style scoped>\n",
       "    .dataframe tbody tr th:only-of-type {\n",
       "        vertical-align: middle;\n",
       "    }\n",
       "\n",
       "    .dataframe tbody tr th {\n",
       "        vertical-align: top;\n",
       "    }\n",
       "\n",
       "    .dataframe thead th {\n",
       "        text-align: right;\n",
       "    }\n",
       "</style>\n",
       "<table border=\"1\" class=\"dataframe\">\n",
       "  <thead>\n",
       "    <tr style=\"text-align: right;\">\n",
       "      <th></th>\n",
       "      <th>id</th>\n",
       "      <th>Temparature</th>\n",
       "      <th>Humidity</th>\n",
       "      <th>Moisture</th>\n",
       "      <th>Nitrogen</th>\n",
       "      <th>Potassium</th>\n",
       "      <th>Phosphorous</th>\n",
       "      <th>Soil Type</th>\n",
       "      <th>Crop Type</th>\n",
       "      <th>Fertilizer Name</th>\n",
       "    </tr>\n",
       "  </thead>\n",
       "  <tbody>\n",
       "    <tr>\n",
       "      <th>id</th>\n",
       "      <td>1.000000</td>\n",
       "      <td>-0.001069</td>\n",
       "      <td>-0.000310</td>\n",
       "      <td>0.001752</td>\n",
       "      <td>0.001505</td>\n",
       "      <td>-0.000375</td>\n",
       "      <td>-0.001234</td>\n",
       "      <td>0.002831</td>\n",
       "      <td>-0.000953</td>\n",
       "      <td>-0.000179</td>\n",
       "    </tr>\n",
       "    <tr>\n",
       "      <th>Temparature</th>\n",
       "      <td>-0.001069</td>\n",
       "      <td>1.000000</td>\n",
       "      <td>0.001758</td>\n",
       "      <td>-0.001633</td>\n",
       "      <td>-0.006073</td>\n",
       "      <td>-0.009913</td>\n",
       "      <td>0.000298</td>\n",
       "      <td>-0.007621</td>\n",
       "      <td>-0.006753</td>\n",
       "      <td>0.001727</td>\n",
       "    </tr>\n",
       "    <tr>\n",
       "      <th>Humidity</th>\n",
       "      <td>-0.000310</td>\n",
       "      <td>0.001758</td>\n",
       "      <td>1.000000</td>\n",
       "      <td>0.003424</td>\n",
       "      <td>0.006502</td>\n",
       "      <td>0.005229</td>\n",
       "      <td>0.002413</td>\n",
       "      <td>0.003921</td>\n",
       "      <td>0.002414</td>\n",
       "      <td>0.010626</td>\n",
       "    </tr>\n",
       "    <tr>\n",
       "      <th>Moisture</th>\n",
       "      <td>0.001752</td>\n",
       "      <td>-0.001633</td>\n",
       "      <td>0.003424</td>\n",
       "      <td>1.000000</td>\n",
       "      <td>0.003016</td>\n",
       "      <td>-0.001931</td>\n",
       "      <td>-0.006735</td>\n",
       "      <td>-0.003941</td>\n",
       "      <td>-0.003400</td>\n",
       "      <td>0.011493</td>\n",
       "    </tr>\n",
       "    <tr>\n",
       "      <th>Nitrogen</th>\n",
       "      <td>0.001505</td>\n",
       "      <td>-0.006073</td>\n",
       "      <td>0.006502</td>\n",
       "      <td>0.003016</td>\n",
       "      <td>1.000000</td>\n",
       "      <td>0.000543</td>\n",
       "      <td>-0.005464</td>\n",
       "      <td>-0.000650</td>\n",
       "      <td>0.001611</td>\n",
       "      <td>-0.004725</td>\n",
       "    </tr>\n",
       "    <tr>\n",
       "      <th>Potassium</th>\n",
       "      <td>-0.000375</td>\n",
       "      <td>-0.009913</td>\n",
       "      <td>0.005229</td>\n",
       "      <td>-0.001931</td>\n",
       "      <td>0.000543</td>\n",
       "      <td>1.000000</td>\n",
       "      <td>0.000113</td>\n",
       "      <td>0.005314</td>\n",
       "      <td>-0.003748</td>\n",
       "      <td>-0.010872</td>\n",
       "    </tr>\n",
       "    <tr>\n",
       "      <th>Phosphorous</th>\n",
       "      <td>-0.001234</td>\n",
       "      <td>0.000298</td>\n",
       "      <td>0.002413</td>\n",
       "      <td>-0.006735</td>\n",
       "      <td>-0.005464</td>\n",
       "      <td>0.000113</td>\n",
       "      <td>1.000000</td>\n",
       "      <td>-0.000275</td>\n",
       "      <td>0.000694</td>\n",
       "      <td>-0.006127</td>\n",
       "    </tr>\n",
       "    <tr>\n",
       "      <th>Soil Type</th>\n",
       "      <td>0.002831</td>\n",
       "      <td>-0.007621</td>\n",
       "      <td>0.003921</td>\n",
       "      <td>-0.003941</td>\n",
       "      <td>-0.000650</td>\n",
       "      <td>0.005314</td>\n",
       "      <td>-0.000275</td>\n",
       "      <td>1.000000</td>\n",
       "      <td>-0.006213</td>\n",
       "      <td>0.016576</td>\n",
       "    </tr>\n",
       "    <tr>\n",
       "      <th>Crop Type</th>\n",
       "      <td>-0.000953</td>\n",
       "      <td>-0.006753</td>\n",
       "      <td>0.002414</td>\n",
       "      <td>-0.003400</td>\n",
       "      <td>0.001611</td>\n",
       "      <td>-0.003748</td>\n",
       "      <td>0.000694</td>\n",
       "      <td>-0.006213</td>\n",
       "      <td>1.000000</td>\n",
       "      <td>-0.013041</td>\n",
       "    </tr>\n",
       "    <tr>\n",
       "      <th>Fertilizer Name</th>\n",
       "      <td>-0.000179</td>\n",
       "      <td>0.001727</td>\n",
       "      <td>0.010626</td>\n",
       "      <td>0.011493</td>\n",
       "      <td>-0.004725</td>\n",
       "      <td>-0.010872</td>\n",
       "      <td>-0.006127</td>\n",
       "      <td>0.016576</td>\n",
       "      <td>-0.013041</td>\n",
       "      <td>1.000000</td>\n",
       "    </tr>\n",
       "  </tbody>\n",
       "</table>\n",
       "</div>"
      ],
      "text/plain": [
       "                       id  Temparature  Humidity  Moisture  Nitrogen  \\\n",
       "id               1.000000    -0.001069 -0.000310  0.001752  0.001505   \n",
       "Temparature     -0.001069     1.000000  0.001758 -0.001633 -0.006073   \n",
       "Humidity        -0.000310     0.001758  1.000000  0.003424  0.006502   \n",
       "Moisture         0.001752    -0.001633  0.003424  1.000000  0.003016   \n",
       "Nitrogen         0.001505    -0.006073  0.006502  0.003016  1.000000   \n",
       "Potassium       -0.000375    -0.009913  0.005229 -0.001931  0.000543   \n",
       "Phosphorous     -0.001234     0.000298  0.002413 -0.006735 -0.005464   \n",
       "Soil Type        0.002831    -0.007621  0.003921 -0.003941 -0.000650   \n",
       "Crop Type       -0.000953    -0.006753  0.002414 -0.003400  0.001611   \n",
       "Fertilizer Name -0.000179     0.001727  0.010626  0.011493 -0.004725   \n",
       "\n",
       "                 Potassium  Phosphorous  Soil Type  Crop Type  Fertilizer Name  \n",
       "id               -0.000375    -0.001234   0.002831  -0.000953        -0.000179  \n",
       "Temparature      -0.009913     0.000298  -0.007621  -0.006753         0.001727  \n",
       "Humidity          0.005229     0.002413   0.003921   0.002414         0.010626  \n",
       "Moisture         -0.001931    -0.006735  -0.003941  -0.003400         0.011493  \n",
       "Nitrogen          0.000543    -0.005464  -0.000650   0.001611        -0.004725  \n",
       "Potassium         1.000000     0.000113   0.005314  -0.003748        -0.010872  \n",
       "Phosphorous       0.000113     1.000000  -0.000275   0.000694        -0.006127  \n",
       "Soil Type         0.005314    -0.000275   1.000000  -0.006213         0.016576  \n",
       "Crop Type        -0.003748     0.000694  -0.006213   1.000000        -0.013041  \n",
       "Fertilizer Name  -0.010872    -0.006127   0.016576  -0.013041         1.000000  "
      ]
     },
     "execution_count": 15,
     "metadata": {},
     "output_type": "execute_result"
    }
   ],
   "source": [
    "matrix"
   ]
  },
  {
   "cell_type": "code",
   "execution_count": 16,
   "id": "4d87f43b-bbfc-4daf-80d6-b4cdffe3f82f",
   "metadata": {},
   "outputs": [],
   "source": [
    "X = df_train[[\"Temparature\",\"Humidity\",\"Moisture\",\"Crop Type\",\"Soil Type\"]]"
   ]
  },
  {
   "cell_type": "code",
   "execution_count": 17,
   "id": "8fa578fb-d3f4-4b65-a6c9-4d9a08ecc834",
   "metadata": {},
   "outputs": [],
   "source": [
    "y = df_train[[\"Fertilizer Name\"]]"
   ]
  },
  {
   "cell_type": "code",
   "execution_count": 18,
   "id": "c76a4a88-c55f-4213-bc02-1527c68abab4",
   "metadata": {},
   "outputs": [],
   "source": [
    "from sklearn.model_selection import train_test_split\n",
    "X_train, X_test, y_train, y_test = train_test_split(X, y, test_size=0.2, random_state=42)"
   ]
  },
  {
   "cell_type": "code",
   "execution_count": 24,
   "id": "16adc0bb-5258-43b3-b038-b114c4bc886d",
   "metadata": {},
   "outputs": [],
   "source": [
    "import torch\n",
    "import torch.nn as nn\n",
    "device = torch.device(\"cuda\" if torch.cuda.is_available() else \"cpu\")\n",
    "from torch.utils.data import Dataset\n",
    "\n",
    "class FeatureTokenizer(nn.Module):\n",
    "    def __init__(self, num_numeric, cat_cardinalities, embed_dim):\n",
    "        super().__init__()\n",
    "        self.num_linear = nn.Linear(num_numeric, embed_dim)\n",
    "        self.cat_embeds = nn.ModuleList([\n",
    "            nn.Embedding(cardinality, embed_dim) for cardinality in cat_cardinalities\n",
    "        ])\n",
    "        self.cls_token = nn.Parameter(torch.randn(1, 1, embed_dim))\n",
    "\n",
    "    def forward(self, x_num, x_cat):\n",
    "        # Sanity check\n",
    "        assert x_cat.shape[1] == len(self.cat_embeds), (\n",
    "            f\"x_cat has {x_cat.shape[1]} columns, but cat_embeds has {len(self.cat_embeds)} embeddings\"\n",
    "        )\n",
    "\n",
    "        # Project numerical features\n",
    "        num_tokens = self.num_linear(x_num).unsqueeze(1)  # [B, 1, D]\n",
    "\n",
    "        # Clamp categorical indices to valid range\n",
    "        x_cat_clamped = torch.stack([\n",
    "            torch.clamp(x_cat[:, i], max=self.cat_embeds[i].num_embeddings - 1)\n",
    "            for i in range(x_cat.shape[1])\n",
    "        ], dim=1)\n",
    "\n",
    "        # Embed categorical features\n",
    "        cat_tokens = [embed(x_cat_clamped[:, i])[:, None, :] for i, embed in enumerate(self.cat_embeds)]\n",
    "\n",
    "        # Concatenate [CLS] + categorical + numerical tokens\n",
    "        tokens = torch.cat(\n",
    "            [self.cls_token.expand(x_num.size(0), -1, -1)] + cat_tokens + [num_tokens],\n",
    "            dim=1\n",
    "        )  # [B, T, D]\n",
    "\n",
    "        return tokens"
   ]
  },
  {
   "cell_type": "code",
   "execution_count": 25,
   "id": "f9643251-157c-4f72-b508-3cad52dd9e4e",
   "metadata": {},
   "outputs": [],
   "source": [
    "import torch\n",
    "import torch.nn as nn\n",
    "device = torch.device(\"cuda\" if torch.cuda.is_available() else \"cpu\")\n",
    "from torch.utils.data import Dataset\n",
    "class FTTransformer(nn.Module):\n",
    "    def __init__(self, num_numeric, cat_cardinalities, embed_dim=32, num_heads=4, num_layers=2, num_classes=7):\n",
    "        super().__init__()\n",
    "        cat_cardinalities = [\n",
    "    df[\"Soil Type\"].nunique(),\n",
    "    df[\"Crop Type\"].nunique()]\n",
    "        self.tokenizer = FeatureTokenizer(num_numeric=3, cat_cardinalities=cat_cardinalities, embed_dim=embed_dim)\n",
    "        encoder_layer = nn.TransformerEncoderLayer(d_model=embed_dim, nhead=num_heads, batch_first=True)\n",
    "        self.transformer = nn.TransformerEncoder(encoder_layer, num_layers=num_layers)\n",
    "        self.head = nn.Sequential(\n",
    "            nn.LayerNorm(embed_dim),\n",
    "            nn.Linear(embed_dim, num_classes)\n",
    "        )\n",
    "\n",
    "    def forward(self, x_num, x_cat):\n",
    "        tokens = self.tokenizer(x_num, x_cat)          # includes [CLS] token already\n",
    "        encoded = self.transformer(tokens)\n",
    "        return self.head(encoded[:, 0, :])              # pull [CLS] token output"
   ]
  },
  {
   "cell_type": "code",
   "execution_count": 20,
   "id": "886161ff-1db5-4a51-bb3f-8dd9976b77fb",
   "metadata": {},
   "outputs": [],
   "source": [
    "class FTTransformer(nn.Module):\n",
    "    def __init__(self, num_numeric, cat_cardinalities, embed_dim=64, num_heads=4, num_layers=4, num_classes=7):\n",
    "        super().__init__()\n",
    "        self.tokenizer = FeatureTokenizer(num_numeric, cat_cardinalities, embed_dim)\n",
    "#PyTorch uses the Post-LN Transformer architecture:\n",
    "#It adds residual connections around both the multi-head attention and feedforward blocks.\n",
    "#It applies layer normalization after each residual connection.\n",
    "\n",
    "        encoder_layer = nn.TransformerEncoderLayer(\n",
    "            d_model=embed_dim,\n",
    "            nhead=num_heads,\n",
    "            batch_first=True,\n",
    "            activation='gelu'  # smoother gradients than ReLU\n",
    "        )\n",
    "        self.transformer = nn.TransformerEncoder(encoder_layer, num_layers=num_layers)\n",
    "\n",
    "        self.head = nn.Sequential(\n",
    "            nn.LayerNorm(embed_dim),\n",
    "            nn.Linear(embed_dim, num_classes)\n",
    "        )\n",
    "\n",
    "    def forward(self, x_num, x_cat):\n",
    "        tokens = self.tokenizer(x_num, x_cat)  # [B, T, D] with [CLS] already included\n",
    "        encoded = self.transformer(tokens)\n",
    "        return self.head(encoded[:, 0, :])     # pull from [CLS] token"
   ]
  },
  {
   "cell_type": "code",
   "execution_count": 21,
   "id": "a1a797ee-95d4-4960-a02a-6cf437cb72c0",
   "metadata": {},
   "outputs": [],
   "source": [
    "numeric_features = [\"Temperature\", \"Humidity\", \"Moisture\"]  # update as needed\n",
    "num_numeric = len(numeric_features)"
   ]
  },
  {
   "cell_type": "code",
   "execution_count": 22,
   "id": "1b2d46bd-5323-48ce-bfa2-9e20beabb18b",
   "metadata": {},
   "outputs": [],
   "source": [
    "cat_cardinalities = [\n",
    "    df[\"Soil Type\"].nunique(),\n",
    "    df[\"Crop Type\"].nunique()\n",
    "]\n",
    "# Encode string categories if not already done\n",
    "df[\"Soil Type\"] = df[\"Soil Type\"].astype(\"category\").cat.codes\n",
    "df[\"Crop Type\"] = df[\"Crop Type\"].astype(\"category\").cat.codes\n",
    "df[\"Fertilizer Name\"] = df[\"Fertilizer Name\"].astype(\"category\").cat.codes\n",
    "# Create the categorical tensor\n",
    "x_cat_tensor = torch.tensor(df[[\"Soil Type\", \"Crop Type\"]].values, dtype=torch.long)\n",
    "y_tensor = torch.tensor(df[[\"Fertilizer Name\"]].values, dtype=torch.long)"
   ]
  },
  {
   "cell_type": "code",
   "execution_count": 26,
   "id": "609ec748-803e-4971-94e5-54d59717c507",
   "metadata": {},
   "outputs": [],
   "source": [
    "model = FTTransformer(\n",
    "    num_numeric=num_numeric,\n",
    "    cat_cardinalities=cat_cardinalities,\n",
    "    embed_dim=64,\n",
    "    num_heads=4,\n",
    "    num_layers=4,\n",
    "    num_classes=7\n",
    ").to(device)"
   ]
  },
  {
   "cell_type": "code",
   "execution_count": 27,
   "id": "a95b6a56-61ea-4e96-870d-bd0d096f3100",
   "metadata": {},
   "outputs": [],
   "source": [
    "# Features\n",
    "x_cat_tensor = torch.tensor(df[[\"Soil Type\", \"Crop Type\"]].values, dtype=torch.long)\n",
    "x_num_tensor = torch.tensor(df[[\"Temparature\", \"Humidity\", \"Moisture\"]].values, dtype=torch.float32)\n",
    "# Target\n",
    "y_train = torch.tensor(df[\"Fertilizer Name\"].values, dtype=torch.long)"
   ]
  },
  {
   "cell_type": "code",
   "execution_count": 28,
   "id": "6a2f0881-d029-44ba-8721-efa7f4d2c220",
   "metadata": {},
   "outputs": [],
   "source": [
    "y_tensor = y_train.squeeze()  # shape: [750000]"
   ]
  },
  {
   "cell_type": "code",
   "execution_count": 53,
   "id": "ca3fe520-fbac-4e0e-a7c0-4acc67917286",
   "metadata": {},
   "outputs": [],
   "source": [
    "#fertilizer_classes = pd.Categorical(df[\"Fertilizer Name\"]).categories.tolist()"
   ]
  },
  {
   "cell_type": "code",
   "execution_count": 29,
   "id": "de14c810-f353-4c8f-9d00-c422d019af5a",
   "metadata": {},
   "outputs": [
    {
     "name": "stdout",
     "output_type": "stream",
     "text": [
      "x_num: torch.Size([750000, 3])\n",
      "x_cat: torch.Size([750000, 2])\n",
      "y_cat: torch.Size([750000])\n"
     ]
    }
   ],
   "source": [
    "\n",
    "print(\"x_num:\", x_num_tensor.shape)\n",
    "print(\"x_cat:\", x_cat_tensor.shape)\n",
    "print(\"y_cat:\", y_tensor.shape)"
   ]
  },
  {
   "cell_type": "code",
   "execution_count": 54,
   "id": "029a954c-9c86-4776-98a2-f0f8892f1dc1",
   "metadata": {},
   "outputs": [],
   "source": [
    "criterion = torch.nn.CrossEntropyLoss()"
   ]
  },
  {
   "cell_type": "code",
   "execution_count": 30,
   "id": "59936ad7-f8d3-4178-aebc-0283b58ff25d",
   "metadata": {},
   "outputs": [],
   "source": [
    "optimizer = torch.optim.Adam(model.parameters(), lr=1e-3)"
   ]
  },
  {
   "cell_type": "code",
   "execution_count": 32,
   "id": "dc1d73f5-f73d-4fdc-96c5-b4e63829bc17",
   "metadata": {},
   "outputs": [
    {
     "name": "stdout",
     "output_type": "stream",
     "text": [
      "<class 'torch.Tensor'> <class 'torch.Tensor'> <class 'torch.Tensor'>\n"
     ]
    }
   ],
   "source": [
    "print(type(x_num_tensor), type(x_cat_tensor), type(y_tensor))"
   ]
  },
  {
   "cell_type": "code",
   "execution_count": 33,
   "id": "cd1bf9b7-3ad6-4fdc-bca7-c24920892eee",
   "metadata": {},
   "outputs": [],
   "source": [
    "\n",
    "class FertilizerDataset(Dataset):\n",
    "    def __init__(self, x_num, x_cat, y):\n",
    "        self.x_num = x_num\n",
    "        self.x_cat = x_cat\n",
    "        self.y = y  # y must be a LongTensor\n",
    "\n",
    "    def __len__(self):\n",
    "        return len(self.y)\n",
    "\n",
    "    def __getitem__(self, idx):\n",
    "        # ✅ Return three tensors — no tuple wrapping!\n",
    "        return self.x_num[idx], self.x_cat[idx], self.y[idx]"
   ]
  },
  {
   "cell_type": "code",
   "execution_count": 44,
   "id": "a95f0b1f-f37d-49f4-bf41-78b68ed78af8",
   "metadata": {},
   "outputs": [
    {
     "name": "stdout",
     "output_type": "stream",
     "text": [
      "y_batch type: <class 'torch.Tensor'>\n",
      "y_batch contents: tensor([2, 2, 3, 0, 5, 2, 6, 6, 0, 0, 3, 3, 1, 3, 3, 4, 5, 5, 4, 4, 0, 5, 5, 1,\n",
      "        5, 1, 5, 2, 5, 3, 4, 4, 2, 1, 0, 6, 2, 1, 3, 0, 3, 2, 1, 0, 5, 2, 6, 0,\n",
      "        5, 5, 4, 2, 3, 1, 1, 5, 5, 2, 4, 0, 3, 4, 3, 4])\n"
     ]
    }
   ],
   "source": [
    "print(\"y_batch type:\", type(y_batch))\n",
    "print(\"y_batch contents:\", y_batch)"
   ]
  },
  {
   "cell_type": "code",
   "execution_count": 35,
   "id": "a3c5d706-a956-4e50-a2cb-c04b3d39f930",
   "metadata": {},
   "outputs": [],
   "source": [
    "from torch.utils.data import DataLoader\n",
    "\n",
    "dataset = FertilizerDataset(x_num_tensor, x_cat_tensor, y_tensor)  # make sure y_train is aligned\n",
    "train_loader = DataLoader(dataset, batch_size=64, shuffle=True)"
   ]
  },
  {
   "cell_type": "code",
   "execution_count": 45,
   "id": "de17c9be-1dc5-4213-bbbe-c2aa177f36f0",
   "metadata": {},
   "outputs": [
    {
     "ename": "KeyboardInterrupt",
     "evalue": "",
     "output_type": "error",
     "traceback": [
      "\u001b[1;31m---------------------------------------------------------------------------\u001b[0m",
      "\u001b[1;31mKeyboardInterrupt\u001b[0m                         Traceback (most recent call last)",
      "Cell \u001b[1;32mIn[45], line 10\u001b[0m\n\u001b[0;32m      8\u001b[0m logits \u001b[38;5;241m=\u001b[39m model(x_num_batch, x_cat_batch)\n\u001b[0;32m      9\u001b[0m loss \u001b[38;5;241m=\u001b[39m criterion(logits, y_batch)  \u001b[38;5;66;03m# y_batch is already 1D tensor\u001b[39;00m\n\u001b[1;32m---> 10\u001b[0m loss\u001b[38;5;241m.\u001b[39mbackward()\n\u001b[0;32m     11\u001b[0m optimizer\u001b[38;5;241m.\u001b[39mstep()\n\u001b[0;32m     12\u001b[0m total_loss \u001b[38;5;241m+\u001b[39m\u001b[38;5;241m=\u001b[39m loss\u001b[38;5;241m.\u001b[39mitem()\n",
      "File \u001b[1;32m~\\anaconda3\\Lib\\site-packages\\torch\\_tensor.py:581\u001b[0m, in \u001b[0;36mTensor.backward\u001b[1;34m(self, gradient, retain_graph, create_graph, inputs)\u001b[0m\n\u001b[0;32m    571\u001b[0m \u001b[38;5;28;01mif\u001b[39;00m has_torch_function_unary(\u001b[38;5;28mself\u001b[39m):\n\u001b[0;32m    572\u001b[0m     \u001b[38;5;28;01mreturn\u001b[39;00m handle_torch_function(\n\u001b[0;32m    573\u001b[0m         Tensor\u001b[38;5;241m.\u001b[39mbackward,\n\u001b[0;32m    574\u001b[0m         (\u001b[38;5;28mself\u001b[39m,),\n\u001b[1;32m   (...)\u001b[0m\n\u001b[0;32m    579\u001b[0m         inputs\u001b[38;5;241m=\u001b[39minputs,\n\u001b[0;32m    580\u001b[0m     )\n\u001b[1;32m--> 581\u001b[0m torch\u001b[38;5;241m.\u001b[39mautograd\u001b[38;5;241m.\u001b[39mbackward(\n\u001b[0;32m    582\u001b[0m     \u001b[38;5;28mself\u001b[39m, gradient, retain_graph, create_graph, inputs\u001b[38;5;241m=\u001b[39minputs\n\u001b[0;32m    583\u001b[0m )\n",
      "File \u001b[1;32m~\\anaconda3\\Lib\\site-packages\\torch\\autograd\\__init__.py:347\u001b[0m, in \u001b[0;36mbackward\u001b[1;34m(tensors, grad_tensors, retain_graph, create_graph, grad_variables, inputs)\u001b[0m\n\u001b[0;32m    342\u001b[0m     retain_graph \u001b[38;5;241m=\u001b[39m create_graph\n\u001b[0;32m    344\u001b[0m \u001b[38;5;66;03m# The reason we repeat the same comment below is that\u001b[39;00m\n\u001b[0;32m    345\u001b[0m \u001b[38;5;66;03m# some Python versions print out the first line of a multi-line function\u001b[39;00m\n\u001b[0;32m    346\u001b[0m \u001b[38;5;66;03m# calls in the traceback and some print out the last line\u001b[39;00m\n\u001b[1;32m--> 347\u001b[0m _engine_run_backward(\n\u001b[0;32m    348\u001b[0m     tensors,\n\u001b[0;32m    349\u001b[0m     grad_tensors_,\n\u001b[0;32m    350\u001b[0m     retain_graph,\n\u001b[0;32m    351\u001b[0m     create_graph,\n\u001b[0;32m    352\u001b[0m     inputs,\n\u001b[0;32m    353\u001b[0m     allow_unreachable\u001b[38;5;241m=\u001b[39m\u001b[38;5;28;01mTrue\u001b[39;00m,\n\u001b[0;32m    354\u001b[0m     accumulate_grad\u001b[38;5;241m=\u001b[39m\u001b[38;5;28;01mTrue\u001b[39;00m,\n\u001b[0;32m    355\u001b[0m )\n",
      "File \u001b[1;32m~\\anaconda3\\Lib\\site-packages\\torch\\autograd\\graph.py:825\u001b[0m, in \u001b[0;36m_engine_run_backward\u001b[1;34m(t_outputs, *args, **kwargs)\u001b[0m\n\u001b[0;32m    823\u001b[0m     unregister_hooks \u001b[38;5;241m=\u001b[39m _register_logging_hooks_on_whole_graph(t_outputs)\n\u001b[0;32m    824\u001b[0m \u001b[38;5;28;01mtry\u001b[39;00m:\n\u001b[1;32m--> 825\u001b[0m     \u001b[38;5;28;01mreturn\u001b[39;00m Variable\u001b[38;5;241m.\u001b[39m_execution_engine\u001b[38;5;241m.\u001b[39mrun_backward(  \u001b[38;5;66;03m# Calls into the C++ engine to run the backward pass\u001b[39;00m\n\u001b[0;32m    826\u001b[0m         t_outputs, \u001b[38;5;241m*\u001b[39margs, \u001b[38;5;241m*\u001b[39m\u001b[38;5;241m*\u001b[39mkwargs\n\u001b[0;32m    827\u001b[0m     )  \u001b[38;5;66;03m# Calls into the C++ engine to run the backward pass\u001b[39;00m\n\u001b[0;32m    828\u001b[0m \u001b[38;5;28;01mfinally\u001b[39;00m:\n\u001b[0;32m    829\u001b[0m     \u001b[38;5;28;01mif\u001b[39;00m attach_logging_hooks:\n",
      "\u001b[1;31mKeyboardInterrupt\u001b[0m: "
     ]
    }
   ],
   "source": [
    "epochs = 2\n",
    "for epoch in range(epochs):\n",
    "    model.train()\n",
    "    total_loss = 0\n",
    "\n",
    "    for x_num_batch, x_cat_batch, y_batch in train_loader:\n",
    "        optimizer.zero_grad()\n",
    "        logits = model(x_num_batch, x_cat_batch)\n",
    "        loss = criterion(logits, y_batch)  # y_batch is already 1D tensor\n",
    "        loss.backward()\n",
    "        optimizer.step()\n",
    "        total_loss += loss.item()\n",
    "\n",
    "\n",
    "\n",
    "    # ✅ Accuracy tracking\n",
    "    model.eval()\n",
    "    correct = 0\n",
    "    total = 0\n",
    "    with torch.no_grad():\n",
    "       for x_num_batch, x_cat_batch, y_batch in train_loader:\n",
    "            logits = model(x_num_batch, x_cat_batch)\n",
    "            preds = torch.argmax(logits, dim=1)\n",
    "            correct += (preds == y_batch).sum().item()\n",
    "            total += y_batch.size(0)\n",
    "\n",
    "    accuracy = correct / total\n",
    "    print(f\"Epoch {epoch+1} — Loss: {total_loss:.4f} | Accuracy: {accuracy:.4f}\")"
   ]
  },
  {
   "cell_type": "code",
   "execution_count": 38,
   "id": "bde53492-57ce-4091-a019-36f5349a8003",
   "metadata": {},
   "outputs": [
    {
     "ename": "NameError",
     "evalue": "name 'accuracy' is not defined",
     "output_type": "error",
     "traceback": [
      "\u001b[1;31m---------------------------------------------------------------------------\u001b[0m",
      "\u001b[1;31mNameError\u001b[0m                                 Traceback (most recent call last)",
      "Cell \u001b[1;32mIn[38], line 1\u001b[0m\n\u001b[1;32m----> 1\u001b[0m \u001b[38;5;28mprint\u001b[39m(\u001b[38;5;124m\"\u001b[39m\u001b[38;5;124mLoss:\u001b[39m\u001b[38;5;124m\"\u001b[39m, loss\u001b[38;5;241m.\u001b[39mitem(), \u001b[38;5;124m\"\u001b[39m\u001b[38;5;124mAccuracy:\u001b[39m\u001b[38;5;124m\"\u001b[39m, accuracy)\n",
      "\u001b[1;31mNameError\u001b[0m: name 'accuracy' is not defined"
     ]
    }
   ],
   "source": [
    "print(\"Loss:\", loss.item(), \"Accuracy:\", accuracy)"
   ]
  },
  {
   "cell_type": "code",
   "execution_count": null,
   "id": "bec0f987-e73f-4f7f-ab64-18aba30b0e3a",
   "metadata": {},
   "outputs": [],
   "source": [
    "import numpy as np\n",
    "print(\"Classes in y_train:\", np.unique(y_train))"
   ]
  },
  {
   "cell_type": "code",
   "execution_count": null,
   "id": "24e2c831-9424-4eaf-a1cf-6448f88e8f5a",
   "metadata": {},
   "outputs": [],
   "source": [
    "print(\"Logits shape:\", logits.shape)  # should be [batch_size, num_classes]"
   ]
  },
  {
   "cell_type": "code",
   "execution_count": null,
   "id": "4e5385d6-b2ea-40fe-8187-f883c39046df",
   "metadata": {},
   "outputs": [],
   "source": [
    "print(\"y_batch.dtype:\", y_batch.dtype)  # should be torch.long\n",
    "print(\"y_batch.min(), y_batch.max():\", y_batch.min().item(), y_batch.max().item())"
   ]
  },
  {
   "cell_type": "code",
   "execution_count": null,
   "id": "037baaf4-231c-4dcb-89a1-28028ba40365",
   "metadata": {},
   "outputs": [],
   "source": [
    "import numpy as np\n",
    "unique, counts = np.unique(y_train, return_counts=True)\n",
    "print(dict(zip(unique, counts)))"
   ]
  },
  {
   "cell_type": "code",
   "execution_count": null,
   "id": "17092ca8-1edf-4652-8db1-eed2b6344c00",
   "metadata": {},
   "outputs": [],
   "source": [
    "print(\"Logits stats → min:\", logits.min().item(), \"max:\", logits.max().item())"
   ]
  },
  {
   "cell_type": "code",
   "execution_count": 59,
   "id": "5a5267f9-b0e2-43ca-9108-da864c354454",
   "metadata": {},
   "outputs": [],
   "source": [
    "optimizer = torch.optim.Adam(model.parameters(), lr=1e-4)"
   ]
  },
  {
   "cell_type": "code",
   "execution_count": 60,
   "id": "a6693f2d-71f3-4299-ab60-ebe53d1876bc",
   "metadata": {},
   "outputs": [
    {
     "name": "stdout",
     "output_type": "stream",
     "text": [
      "Adam (\n",
      "Parameter Group 0\n",
      "    amsgrad: False\n",
      "    betas: (0.9, 0.999)\n",
      "    capturable: False\n",
      "    differentiable: False\n",
      "    eps: 1e-08\n",
      "    foreach: None\n",
      "    fused: None\n",
      "    lr: 0.0001\n",
      "    maximize: False\n",
      "    weight_decay: 0\n",
      ")\n"
     ]
    }
   ],
   "source": [
    "print(optimizer)"
   ]
  },
  {
   "cell_type": "code",
   "execution_count": 50,
   "id": "993b72e3-b9f7-40f1-b1df-0361a473f28e",
   "metadata": {},
   "outputs": [
    {
     "name": "stdout",
     "output_type": "stream",
     "text": [
      "Epoch 1 — Loss: 22766.4979 | Accuracy: 0.1499\n",
      "Epoch 2 — Loss: 22766.3539 | Accuracy: 0.1518\n"
     ]
    }
   ],
   "source": [
    "epochs = 2\n",
    "for epoch in range(epochs):\n",
    "    model.train()\n",
    "    total_loss = 0\n",
    "\n",
    "    for x_num_batch, x_cat_batch, y_batch in train_loader:\n",
    "        optimizer.zero_grad()\n",
    "        logits = model(x_num_batch, x_cat_batch)\n",
    "        loss = criterion(logits, y_batch)  # y_batch is already 1D tensor\n",
    "        loss.backward()\n",
    "        optimizer.step()\n",
    "        total_loss += loss.item()\n",
    "\n",
    "\n",
    "\n",
    "    # ✅ Accuracy tracking\n",
    "    model.eval()\n",
    "    correct = 0\n",
    "    total = 0\n",
    "    with torch.no_grad():\n",
    "       for x_num_batch, x_cat_batch, y_batch in train_loader:  \n",
    "            logits = model(x_num_batch, x_cat_batch)\n",
    "            preds = torch.argmax(logits, dim=1)\n",
    "            correct += (preds == y_batch).sum().item()\n",
    "            total += y_batch.size(0)\n",
    "\n",
    "    accuracy = correct / total\n",
    "    print(f\"Epoch {epoch+1} — Loss: {total_loss:.4f} | Accuracy: {accuracy:.4f}\")"
   ]
  },
  {
   "cell_type": "code",
   "execution_count": null,
   "id": "0bb1f4ed-c30b-43d1-87aa-54df6fb7ac30",
   "metadata": {},
   "outputs": [],
   "source": [
    "model.train()\n",
    "optimizer.zero_grad()\n",
    "logits = model(x_num_batch, x_cat_batch)\n",
    "loss = criterion(logits, y_batch)\n",
    "loss.backward()\n",
    "optimizer.step()\n",
    "print(\"One training step completed.\")\n"
   ]
  },
  {
   "cell_type": "code",
   "execution_count": 40,
   "id": "243612ca-7a2e-4000-8815-039b49b296aa",
   "metadata": {},
   "outputs": [
    {
     "name": "stdout",
     "output_type": "stream",
     "text": [
      "▶ Starting training...\n"
     ]
    }
   ],
   "source": [
    "print(\"▶ Starting training...\", flush=True)"
   ]
  },
  {
   "cell_type": "code",
   "execution_count": 41,
   "id": "b9aced04-ea47-435b-adbe-226e1da1aadd",
   "metadata": {},
   "outputs": [
    {
     "name": "stdout",
     "output_type": "stream",
     "text": [
      "🔁 Epoch 1 starting...\n",
      "🔁 Epoch 2 starting...\n"
     ]
    }
   ],
   "source": [
    "for epoch in range(epochs):\n",
    "    print(f\"🔁 Epoch {epoch+1} starting...\", flush=True)"
   ]
  },
  {
   "cell_type": "code",
   "execution_count": 46,
   "id": "0a1731d3-b65b-4232-bcac-87138dece9e3",
   "metadata": {},
   "outputs": [
    {
     "name": "stdout",
     "output_type": "stream",
     "text": [
      "Loader size: 11719\n"
     ]
    }
   ],
   "source": [
    "print(\"Loader size:\", len(train_loader))"
   ]
  },
  {
   "cell_type": "code",
   "execution_count": 52,
   "id": "15487efe-8e60-4e5d-b2fe-c44bab893711",
   "metadata": {},
   "outputs": [
    {
     "name": "stdout",
     "output_type": "stream",
     "text": [
      "🚀 One batch forward pass succeeded | Loss: 1.9463 | Accuracy: 0.1518\n"
     ]
    }
   ],
   "source": [
    "x_num_batch, x_cat_batch, y_batch = next(iter(train_loader))\n",
    "logits = model(x_num_batch, x_cat_batch)\n",
    "loss = criterion(logits, y_batch)\n",
    "print(f\"🚀 One batch forward pass succeeded | Loss: {loss.item():.4f} | Accuracy: {accuracy:.4f}\")\n"
   ]
  },
  {
   "cell_type": "code",
   "execution_count": null,
   "id": "7786edf1-ad07-41f5-b92c-33ad025880fb",
   "metadata": {},
   "outputs": [],
   "source": []
  }
 ],
 "metadata": {
  "kernelspec": {
   "display_name": "Python 3 (ipykernel)",
   "language": "python",
   "name": "python3"
  },
  "language_info": {
   "codemirror_mode": {
    "name": "ipython",
    "version": 3
   },
   "file_extension": ".py",
   "mimetype": "text/x-python",
   "name": "python",
   "nbconvert_exporter": "python",
   "pygments_lexer": "ipython3",
   "version": "3.12.7"
  }
 },
 "nbformat": 4,
 "nbformat_minor": 5
}
