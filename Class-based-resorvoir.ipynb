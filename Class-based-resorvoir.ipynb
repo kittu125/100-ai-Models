{
 "cells": [
  {
   "cell_type": "code",
   "execution_count": 1,
   "id": "5270d60e-fd1c-49c4-8b32-aad33037e001",
   "metadata": {},
   "outputs": [],
   "source": [
    "import pandas as pd"
   ]
  },
  {
   "cell_type": "code",
   "execution_count": 2,
   "id": "468a3d8d-4ae4-4f78-bf3f-b02601fe496e",
   "metadata": {},
   "outputs": [],
   "source": [
    "import numpy as np"
   ]
  },
  {
   "cell_type": "code",
   "execution_count": 3,
   "id": "7fd853d9-a79a-4d99-8059-4c1188d1a954",
   "metadata": {},
   "outputs": [],
   "source": [
    "df = pd.read_csv(\"C:/Users/pkitt/Downloads/playground-series-s5e6/train.csv\")"
   ]
  },
  {
   "cell_type": "code",
   "execution_count": 4,
   "id": "865586fe-2f54-4fd6-b912-6ec4bd2089bd",
   "metadata": {},
   "outputs": [
    {
     "name": "stderr",
     "output_type": "stream",
     "text": [
      "C:\\Users\\pkitt\\AppData\\Local\\Temp\\ipykernel_21496\\1653857449.py:1: UserWarning: Pandas doesn't allow columns to be created via a new attribute name - see https://pandas.pydata.org/pandas-docs/stable/indexing.html#attribute-access\n",
      "  df.cat =df.select_dtypes(include=[object])\n"
     ]
    }
   ],
   "source": [
    "df.cat =df.select_dtypes(include=[object]) "
   ]
  },
  {
   "cell_type": "code",
   "execution_count": 5,
   "id": "b3130a82-abf4-4b80-89e7-275546c63cea",
   "metadata": {},
   "outputs": [
    {
     "name": "stderr",
     "output_type": "stream",
     "text": [
      "C:\\Users\\pkitt\\AppData\\Local\\Temp\\ipykernel_21496\\610118065.py:1: UserWarning: Pandas doesn't allow columns to be created via a new attribute name - see https://pandas.pydata.org/pandas-docs/stable/indexing.html#attribute-access\n",
      "  df.num=df.select_dtypes(include=[np.number])\n"
     ]
    }
   ],
   "source": [
    "df.num=df.select_dtypes(include=[np.number])"
   ]
  },
  {
   "cell_type": "code",
   "execution_count": 6,
   "id": "739d20a9-3d9a-478e-9dc3-6b805ec5836c",
   "metadata": {},
   "outputs": [
    {
     "data": {
      "text/html": [
       "<div>\n",
       "<style scoped>\n",
       "    .dataframe tbody tr th:only-of-type {\n",
       "        vertical-align: middle;\n",
       "    }\n",
       "\n",
       "    .dataframe tbody tr th {\n",
       "        vertical-align: top;\n",
       "    }\n",
       "\n",
       "    .dataframe thead th {\n",
       "        text-align: right;\n",
       "    }\n",
       "</style>\n",
       "<table border=\"1\" class=\"dataframe\">\n",
       "  <thead>\n",
       "    <tr style=\"text-align: right;\">\n",
       "      <th></th>\n",
       "      <th>Soil Type</th>\n",
       "      <th>Crop Type</th>\n",
       "      <th>Fertilizer Name</th>\n",
       "    </tr>\n",
       "  </thead>\n",
       "  <tbody>\n",
       "    <tr>\n",
       "      <th>0</th>\n",
       "      <td>Clayey</td>\n",
       "      <td>Sugarcane</td>\n",
       "      <td>28-28</td>\n",
       "    </tr>\n",
       "    <tr>\n",
       "      <th>1</th>\n",
       "      <td>Sandy</td>\n",
       "      <td>Millets</td>\n",
       "      <td>28-28</td>\n",
       "    </tr>\n",
       "    <tr>\n",
       "      <th>2</th>\n",
       "      <td>Sandy</td>\n",
       "      <td>Millets</td>\n",
       "      <td>17-17-17</td>\n",
       "    </tr>\n",
       "    <tr>\n",
       "      <th>3</th>\n",
       "      <td>Sandy</td>\n",
       "      <td>Barley</td>\n",
       "      <td>10-26-26</td>\n",
       "    </tr>\n",
       "    <tr>\n",
       "      <th>4</th>\n",
       "      <td>Red</td>\n",
       "      <td>Paddy</td>\n",
       "      <td>DAP</td>\n",
       "    </tr>\n",
       "  </tbody>\n",
       "</table>\n",
       "</div>"
      ],
      "text/plain": [
       "  Soil Type  Crop Type Fertilizer Name\n",
       "0    Clayey  Sugarcane           28-28\n",
       "1     Sandy    Millets           28-28\n",
       "2     Sandy    Millets        17-17-17\n",
       "3     Sandy     Barley        10-26-26\n",
       "4       Red      Paddy             DAP"
      ]
     },
     "execution_count": 6,
     "metadata": {},
     "output_type": "execute_result"
    }
   ],
   "source": [
    "df.cat.head()"
   ]
  },
  {
   "cell_type": "code",
   "execution_count": 7,
   "id": "262e35c6-c4fe-4dac-a57b-e6c63f3623dc",
   "metadata": {},
   "outputs": [],
   "source": [
    "from sklearn.preprocessing import LabelEncoder"
   ]
  },
  {
   "cell_type": "code",
   "execution_count": 8,
   "id": "00960e3f-c26b-480a-9fd9-2cc8fc9775a9",
   "metadata": {},
   "outputs": [],
   "source": [
    "le = LabelEncoder()"
   ]
  },
  {
   "cell_type": "code",
   "execution_count": 9,
   "id": "61d6d50d-779d-40fb-9a46-9817cba36e29",
   "metadata": {},
   "outputs": [],
   "source": [
    "df.cat[\"Soil Type\"] = le.fit_transform(df.cat[\"Soil Type\"])"
   ]
  },
  {
   "cell_type": "code",
   "execution_count": 10,
   "id": "8242d86b-c469-4619-b6cf-c4c50b894074",
   "metadata": {
    "scrolled": true
   },
   "outputs": [
    {
     "data": {
      "text/html": [
       "<div>\n",
       "<style scoped>\n",
       "    .dataframe tbody tr th:only-of-type {\n",
       "        vertical-align: middle;\n",
       "    }\n",
       "\n",
       "    .dataframe tbody tr th {\n",
       "        vertical-align: top;\n",
       "    }\n",
       "\n",
       "    .dataframe thead th {\n",
       "        text-align: right;\n",
       "    }\n",
       "</style>\n",
       "<table border=\"1\" class=\"dataframe\">\n",
       "  <thead>\n",
       "    <tr style=\"text-align: right;\">\n",
       "      <th></th>\n",
       "      <th>Soil Type</th>\n",
       "      <th>Crop Type</th>\n",
       "      <th>Fertilizer Name</th>\n",
       "    </tr>\n",
       "  </thead>\n",
       "  <tbody>\n",
       "    <tr>\n",
       "      <th>0</th>\n",
       "      <td>1</td>\n",
       "      <td>Sugarcane</td>\n",
       "      <td>28-28</td>\n",
       "    </tr>\n",
       "    <tr>\n",
       "      <th>1</th>\n",
       "      <td>4</td>\n",
       "      <td>Millets</td>\n",
       "      <td>28-28</td>\n",
       "    </tr>\n",
       "    <tr>\n",
       "      <th>2</th>\n",
       "      <td>4</td>\n",
       "      <td>Millets</td>\n",
       "      <td>17-17-17</td>\n",
       "    </tr>\n",
       "    <tr>\n",
       "      <th>3</th>\n",
       "      <td>4</td>\n",
       "      <td>Barley</td>\n",
       "      <td>10-26-26</td>\n",
       "    </tr>\n",
       "    <tr>\n",
       "      <th>4</th>\n",
       "      <td>3</td>\n",
       "      <td>Paddy</td>\n",
       "      <td>DAP</td>\n",
       "    </tr>\n",
       "  </tbody>\n",
       "</table>\n",
       "</div>"
      ],
      "text/plain": [
       "   Soil Type  Crop Type Fertilizer Name\n",
       "0          1  Sugarcane           28-28\n",
       "1          4    Millets           28-28\n",
       "2          4    Millets        17-17-17\n",
       "3          4     Barley        10-26-26\n",
       "4          3      Paddy             DAP"
      ]
     },
     "execution_count": 10,
     "metadata": {},
     "output_type": "execute_result"
    }
   ],
   "source": [
    "df.cat.head()"
   ]
  },
  {
   "cell_type": "code",
   "execution_count": 11,
   "id": "3dfcd396-51a0-48e1-a09c-fe81049c6155",
   "metadata": {},
   "outputs": [],
   "source": [
    "df.cat[\"Crop Type\"] = le.fit_transform(df.cat[\"Crop Type\"])"
   ]
  },
  {
   "cell_type": "code",
   "execution_count": 12,
   "id": "f25291d6-e37b-479a-a707-6ab279609a37",
   "metadata": {},
   "outputs": [
    {
     "data": {
      "text/html": [
       "<div>\n",
       "<style scoped>\n",
       "    .dataframe tbody tr th:only-of-type {\n",
       "        vertical-align: middle;\n",
       "    }\n",
       "\n",
       "    .dataframe tbody tr th {\n",
       "        vertical-align: top;\n",
       "    }\n",
       "\n",
       "    .dataframe thead th {\n",
       "        text-align: right;\n",
       "    }\n",
       "</style>\n",
       "<table border=\"1\" class=\"dataframe\">\n",
       "  <thead>\n",
       "    <tr style=\"text-align: right;\">\n",
       "      <th></th>\n",
       "      <th>Soil Type</th>\n",
       "      <th>Crop Type</th>\n",
       "      <th>Fertilizer Name</th>\n",
       "    </tr>\n",
       "  </thead>\n",
       "  <tbody>\n",
       "    <tr>\n",
       "      <th>0</th>\n",
       "      <td>1</td>\n",
       "      <td>8</td>\n",
       "      <td>28-28</td>\n",
       "    </tr>\n",
       "    <tr>\n",
       "      <th>1</th>\n",
       "      <td>4</td>\n",
       "      <td>4</td>\n",
       "      <td>28-28</td>\n",
       "    </tr>\n",
       "    <tr>\n",
       "      <th>2</th>\n",
       "      <td>4</td>\n",
       "      <td>4</td>\n",
       "      <td>17-17-17</td>\n",
       "    </tr>\n",
       "    <tr>\n",
       "      <th>3</th>\n",
       "      <td>4</td>\n",
       "      <td>0</td>\n",
       "      <td>10-26-26</td>\n",
       "    </tr>\n",
       "    <tr>\n",
       "      <th>4</th>\n",
       "      <td>3</td>\n",
       "      <td>6</td>\n",
       "      <td>DAP</td>\n",
       "    </tr>\n",
       "  </tbody>\n",
       "</table>\n",
       "</div>"
      ],
      "text/plain": [
       "   Soil Type  Crop Type Fertilizer Name\n",
       "0          1          8           28-28\n",
       "1          4          4           28-28\n",
       "2          4          4        17-17-17\n",
       "3          4          0        10-26-26\n",
       "4          3          6             DAP"
      ]
     },
     "execution_count": 12,
     "metadata": {},
     "output_type": "execute_result"
    }
   ],
   "source": [
    "df.cat.head()"
   ]
  },
  {
   "cell_type": "code",
   "execution_count": 13,
   "id": "06a54dad-d880-45dd-acbf-a43a4acaaef7",
   "metadata": {},
   "outputs": [],
   "source": [
    "df.cat[\"Fertilizer Name\"] = le.fit_transform(df.cat[\"Fertilizer Name\"])"
   ]
  },
  {
   "cell_type": "code",
   "execution_count": 14,
   "id": "a569d3a7-e9b4-4952-a8f4-988b0c56ec46",
   "metadata": {},
   "outputs": [],
   "source": [
    "df_train1 = pd.concat([df.num,df.cat],axis=1)"
   ]
  },
  {
   "cell_type": "code",
   "execution_count": 15,
   "id": "c04c2fe1-9b10-4c4b-8257-2e431284dd52",
   "metadata": {},
   "outputs": [
    {
     "data": {
      "text/html": [
       "<div>\n",
       "<style scoped>\n",
       "    .dataframe tbody tr th:only-of-type {\n",
       "        vertical-align: middle;\n",
       "    }\n",
       "\n",
       "    .dataframe tbody tr th {\n",
       "        vertical-align: top;\n",
       "    }\n",
       "\n",
       "    .dataframe thead th {\n",
       "        text-align: right;\n",
       "    }\n",
       "</style>\n",
       "<table border=\"1\" class=\"dataframe\">\n",
       "  <thead>\n",
       "    <tr style=\"text-align: right;\">\n",
       "      <th></th>\n",
       "      <th>id</th>\n",
       "      <th>Temparature</th>\n",
       "      <th>Humidity</th>\n",
       "      <th>Moisture</th>\n",
       "      <th>Nitrogen</th>\n",
       "      <th>Potassium</th>\n",
       "      <th>Phosphorous</th>\n",
       "      <th>Soil Type</th>\n",
       "      <th>Crop Type</th>\n",
       "      <th>Fertilizer Name</th>\n",
       "    </tr>\n",
       "  </thead>\n",
       "  <tbody>\n",
       "    <tr>\n",
       "      <th>0</th>\n",
       "      <td>0</td>\n",
       "      <td>37</td>\n",
       "      <td>70</td>\n",
       "      <td>36</td>\n",
       "      <td>36</td>\n",
       "      <td>4</td>\n",
       "      <td>5</td>\n",
       "      <td>1</td>\n",
       "      <td>8</td>\n",
       "      <td>4</td>\n",
       "    </tr>\n",
       "    <tr>\n",
       "      <th>1</th>\n",
       "      <td>1</td>\n",
       "      <td>27</td>\n",
       "      <td>69</td>\n",
       "      <td>65</td>\n",
       "      <td>30</td>\n",
       "      <td>6</td>\n",
       "      <td>18</td>\n",
       "      <td>4</td>\n",
       "      <td>4</td>\n",
       "      <td>4</td>\n",
       "    </tr>\n",
       "    <tr>\n",
       "      <th>2</th>\n",
       "      <td>2</td>\n",
       "      <td>29</td>\n",
       "      <td>63</td>\n",
       "      <td>32</td>\n",
       "      <td>24</td>\n",
       "      <td>12</td>\n",
       "      <td>16</td>\n",
       "      <td>4</td>\n",
       "      <td>4</td>\n",
       "      <td>2</td>\n",
       "    </tr>\n",
       "    <tr>\n",
       "      <th>3</th>\n",
       "      <td>3</td>\n",
       "      <td>35</td>\n",
       "      <td>62</td>\n",
       "      <td>54</td>\n",
       "      <td>39</td>\n",
       "      <td>12</td>\n",
       "      <td>4</td>\n",
       "      <td>4</td>\n",
       "      <td>0</td>\n",
       "      <td>0</td>\n",
       "    </tr>\n",
       "    <tr>\n",
       "      <th>4</th>\n",
       "      <td>4</td>\n",
       "      <td>35</td>\n",
       "      <td>58</td>\n",
       "      <td>43</td>\n",
       "      <td>37</td>\n",
       "      <td>2</td>\n",
       "      <td>16</td>\n",
       "      <td>3</td>\n",
       "      <td>6</td>\n",
       "      <td>5</td>\n",
       "    </tr>\n",
       "  </tbody>\n",
       "</table>\n",
       "</div>"
      ],
      "text/plain": [
       "   id  Temparature  Humidity  Moisture  Nitrogen  Potassium  Phosphorous  \\\n",
       "0   0           37        70        36        36          4            5   \n",
       "1   1           27        69        65        30          6           18   \n",
       "2   2           29        63        32        24         12           16   \n",
       "3   3           35        62        54        39         12            4   \n",
       "4   4           35        58        43        37          2           16   \n",
       "\n",
       "   Soil Type  Crop Type  Fertilizer Name  \n",
       "0          1          8                4  \n",
       "1          4          4                4  \n",
       "2          4          4                2  \n",
       "3          4          0                0  \n",
       "4          3          6                5  "
      ]
     },
     "execution_count": 15,
     "metadata": {},
     "output_type": "execute_result"
    }
   ],
   "source": [
    "df_train1.head()"
   ]
  },
  {
   "cell_type": "code",
   "execution_count": 16,
   "id": "63a83e98-0b21-47ad-99de-af9c5826bc2f",
   "metadata": {},
   "outputs": [],
   "source": [
    "import tensorflow as tf"
   ]
  },
  {
   "cell_type": "code",
   "execution_count": 17,
   "id": "e9bc8023-175b-4201-9724-2f52d1c6270c",
   "metadata": {},
   "outputs": [],
   "source": [
    "from tensorflow import keras"
   ]
  },
  {
   "cell_type": "code",
   "execution_count": 18,
   "id": "75c38a64-df78-4d2a-b4d1-6ba065ac6fda",
   "metadata": {},
   "outputs": [],
   "source": [
    "X = df_train1[[\"Humidity\",\"Moisture\",\"Soil Type\",\"Crop Type\"]]"
   ]
  },
  {
   "cell_type": "code",
   "execution_count": 19,
   "id": "b6c647ba-419b-404b-8c56-c6e7381224ba",
   "metadata": {},
   "outputs": [],
   "source": [
    "y = df_train1[[\"Fertilizer Name\"]]"
   ]
  },
  {
   "cell_type": "code",
   "execution_count": 20,
   "id": "83c24127-2394-4136-9ae5-b49d00076a19",
   "metadata": {},
   "outputs": [],
   "source": [
    "from tensorflow.keras.regularizers import l2"
   ]
  },
  {
   "cell_type": "code",
   "execution_count": 21,
   "id": "4c52f5d7-8a3d-4c6e-94cb-f9f66971773d",
   "metadata": {},
   "outputs": [],
   "source": [
    "from sklearn.model_selection import train_test_split"
   ]
  },
  {
   "cell_type": "code",
   "execution_count": 22,
   "id": "fd96d22a-7466-4101-87af-543e9db854c8",
   "metadata": {},
   "outputs": [],
   "source": [
    "X_train, X_test, y_train, y_test = train_test_split(X, y, test_size=0.33, random_state=42)"
   ]
  },
  {
   "cell_type": "code",
   "execution_count": 23,
   "id": "67a4b685-f952-48ad-859f-672cab76090b",
   "metadata": {},
   "outputs": [],
   "source": [
    "num_classes = len(np.unique(y_train)) "
   ]
  },
  {
   "cell_type": "code",
   "execution_count": 24,
   "id": "73bc8f8f-dac6-4ff4-8e8b-62c2efd9f838",
   "metadata": {},
   "outputs": [
    {
     "name": "stdout",
     "output_type": "stream",
     "text": [
      "\u001b[1m1/1\u001b[0m \u001b[32m━━━━━━━━━━━━━━━━━━━━\u001b[0m\u001b[37m\u001b[0m \u001b[1m0s\u001b[0m 148ms/step\n",
      "Logits:\n",
      " [[2.0830660e-35 1.1718866e-20 0.0000000e+00 7.6851677e-03 0.0000000e+00\n",
      "  8.7078828e-23 9.9231488e-01]\n",
      " [0.0000000e+00 1.4099268e-35 0.0000000e+00 1.0000000e+00 0.0000000e+00\n",
      "  0.0000000e+00 7.9784360e-11]\n",
      " [1.8687780e-29 1.7480270e-17 0.0000000e+00 2.2339849e-04 0.0000000e+00\n",
      "  3.8250483e-20 9.9977666e-01]\n",
      " [0.0000000e+00 5.6215545e-27 0.0000000e+00 9.9999833e-01 0.0000000e+00\n",
      "  1.4495821e-30 1.6606180e-06]\n",
      " [1.2231204e-35 3.0873916e-22 0.0000000e+00 9.9548137e-01 0.0000000e+00\n",
      "  3.0643075e-25 4.5186551e-03]\n",
      " [2.3457429e-28 9.3037642e-17 0.0000000e+00 2.0264385e-02 0.0000000e+00\n",
      "  3.9588616e-19 9.7973561e-01]\n",
      " [0.0000000e+00 3.0514127e-29 0.0000000e+00 9.9999964e-01 0.0000000e+00\n",
      "  3.8762370e-32 3.6165844e-07]\n",
      " [5.2814482e-37 1.4461605e-22 0.0000000e+00 9.7921526e-01 0.0000000e+00\n",
      "  7.0651061e-26 2.0784764e-02]\n",
      " [3.6243557e-30 1.0760379e-17 0.0000000e+00 9.5627886e-01 0.0000000e+00\n",
      "  1.2672569e-20 4.3721203e-02]\n",
      " [9.1136553e-32 2.9362914e-19 0.0000000e+00 9.9672925e-01 0.0000000e+00\n",
      "  9.6616295e-23 3.2707008e-03]]\n"
     ]
    }
   ],
   "source": [
    "from tensorflow.keras.models import Sequential\n",
    "from tensorflow.keras.layers import Dense\n",
    "from tensorflow.keras.optimizers import Adam\n",
    "from tensorflow.keras.initializers import HeUniform\n",
    "\n",
    "model = Sequential([\n",
    "    Dense(128, activation='relu', kernel_initializer=HeUniform()),\n",
    "    Dense(64, activation='relu'),\n",
    "    Dense(7, activation='softmax')\n",
    "])\n",
    "optimizer = Adam(learning_rate=1e-3)\n",
    "model.compile(optimizer=optimizer, loss = tf.keras.losses.CategoricalCrossentropy(label_smoothing=0.1), metrics=['accuracy'])\n",
    "\n",
    "logits = model.predict(X[:10])\n",
    "print(\"Logits:\\n\", logits)"
   ]
  },
  {
   "cell_type": "code",
   "execution_count": 25,
   "id": "703bea9f-7173-4f52-be84-f4ebd6141e38",
   "metadata": {},
   "outputs": [],
   "source": [
    "from sklearn.model_selection import train_test_split\n",
    "from sklearn.utils import shuffle\n",
    "X_train, y_train = shuffle(X_train, y_train, random_state=42)\n",
    "X_test, y_test = shuffle(X_test, y_test, random_state=42)\n"
   ]
  },
  {
   "cell_type": "code",
   "execution_count": 26,
   "id": "94a9c28e-fa65-4f45-a913-5e8f32fee3f6",
   "metadata": {},
   "outputs": [],
   "source": [
    "# If y_train is a DataFrame\n",
    "y_array = y_train['Fertilizer Name'].values  # replace with your actual column name\n",
    "\n",
    "# Then compute class weights\n",
    "from sklearn.utils.class_weight import compute_class_weight\n",
    "import numpy as np\n",
    "\n",
    "classes = np.unique(y_array)\n",
    "class_weights = compute_class_weight(class_weight='balanced', classes=classes, y=y_array)"
   ]
  },
  {
   "cell_type": "code",
   "execution_count": 27,
   "id": "5ea97080-1c10-4887-ae7a-60c7e41a4f68",
   "metadata": {},
   "outputs": [
    {
     "name": "stdout",
     "output_type": "stream",
     "text": [
      "Epoch 1/3\n",
      "\u001b[1m23438/23438\u001b[0m \u001b[32m━━━━━━━━━━━━━━━━━━━━\u001b[0m\u001b[37m\u001b[0m \u001b[1m25s\u001b[0m 1ms/step - accuracy: 0.1464 - loss: 2.3576\n",
      "Epoch 2/3\n",
      "\u001b[1m23438/23438\u001b[0m \u001b[32m━━━━━━━━━━━━━━━━━━━━\u001b[0m\u001b[37m\u001b[0m \u001b[1m25s\u001b[0m 1ms/step - accuracy: 0.1530 - loss: 1.9433\n",
      "Epoch 3/3\n",
      "\u001b[1m23438/23438\u001b[0m \u001b[32m━━━━━━━━━━━━━━━━━━━━\u001b[0m\u001b[37m\u001b[0m \u001b[1m26s\u001b[0m 1ms/step - accuracy: 0.1525 - loss: 1.9433\n"
     ]
    },
    {
     "data": {
      "text/plain": [
       "<keras.src.callbacks.history.History at 0x22153a4c710>"
      ]
     },
     "execution_count": 27,
     "metadata": {},
     "output_type": "execute_result"
    }
   ],
   "source": [
    "from tensorflow.keras.utils import to_categorical\n",
    "\n",
    "y_encoded = to_categorical(y, num_classes=7)\n",
    "model.fit(X, y_encoded, epochs=3)"
   ]
  },
  {
   "cell_type": "code",
   "execution_count": 28,
   "id": "e6333a4c-85a0-4bbe-91d7-77132e2de946",
   "metadata": {},
   "outputs": [
    {
     "name": "stdout",
     "output_type": "stream",
     "text": [
      "Epoch 1/3\n",
      "\u001b[1m23438/23438\u001b[0m \u001b[32m━━━━━━━━━━━━━━━━━━━━\u001b[0m\u001b[37m\u001b[0m \u001b[1m28s\u001b[0m 1ms/step - accuracy: 0.1511 - loss: 1.9425\n",
      "Epoch 2/3\n",
      "\u001b[1m23438/23438\u001b[0m \u001b[32m━━━━━━━━━━━━━━━━━━━━\u001b[0m\u001b[37m\u001b[0m \u001b[1m30s\u001b[0m 1ms/step - accuracy: 0.1511 - loss: 1.9425\n",
      "Epoch 3/3\n",
      "\u001b[1m23438/23438\u001b[0m \u001b[32m━━━━━━━━━━━━━━━━━━━━\u001b[0m\u001b[37m\u001b[0m \u001b[1m28s\u001b[0m 1ms/step - accuracy: 0.1522 - loss: 1.9426\n",
      "\u001b[1m23438/23438\u001b[0m \u001b[32m━━━━━━━━━━━━━━━━━━━━\u001b[0m\u001b[37m\u001b[0m \u001b[1m23s\u001b[0m 957us/step - accuracy: 0.1528 - loss: 1.9427\n"
     ]
    },
    {
     "data": {
      "text/plain": [
       "[1.9426554441452026, 0.1525813341140747]"
      ]
     },
     "execution_count": 28,
     "metadata": {},
     "output_type": "execute_result"
    }
   ],
   "source": [
    "model.compile(optimizer=optimizer,\n",
    "              loss='sparse_categorical_crossentropy',\n",
    "              metrics=['accuracy'])\n",
    "model.fit(X, y, epochs=3)\n",
    "model.evaluate(X, y)  # works directly with integer labels"
   ]
  },
  {
   "cell_type": "code",
   "execution_count": 29,
   "id": "5653e72f-f486-4254-95fc-e8953f7a9d27",
   "metadata": {},
   "outputs": [
    {
     "name": "stdout",
     "output_type": "stream",
     "text": [
      "(array([0, 1, 2, 3, 4, 5, 6]), array([113887, 114436, 112453, 110889, 111158,  94860,  92317],\n",
      "      dtype=int64))\n",
      "\u001b[1m4/4\u001b[0m \u001b[32m━━━━━━━━━━━━━━━━━━━━\u001b[0m\u001b[37m\u001b[0m \u001b[1m0s\u001b[0m 15ms/step \n",
      "Predictions: [1 1 1 1 1 1 1 1 1 1 1 1 1 1 1 1 1 1 1 1 1 1 1 1 1 1 1 1 1 1 1 1 1 1 1 1 1\n",
      " 1 1 1 1 1 1 1 1 1 1 1 1 1 1 1 1 1 1 1 1 1 1 1 1 1 1 1 1 1 1 1 1 1 1 1 1 1\n",
      " 1 1 1 1 1 1 1 1 1 1 1 1 1 1 1 1 1 1 1 1 1 1 1 1 1 1 1 1 1 1 1 1 1 1 1 1 1\n",
      " 1]\n"
     ]
    }
   ],
   "source": [
    "# Sanity check on label spread\n",
    "print(np.unique(y, return_counts=True))\n",
    "\n",
    "# Try predicting from untrained model\n",
    "sample_preds = model.predict(X[:112])\n",
    "print(\"Predictions:\", sample_preds.argmax(axis=1))"
   ]
  },
  {
   "cell_type": "code",
   "execution_count": 30,
   "id": "748a7ece-6bfb-4414-a368-08da375e4699",
   "metadata": {},
   "outputs": [],
   "source": [
    "import numpy as np\n",
    "import random\n",
    "from collections import defaultdict\n",
    "from tensorflow.keras.models import Sequential\n",
    "from tensorflow.keras.layers import Dense\n",
    "from tensorflow.keras.optimizers import Adam\n",
    "from sklearn.metrics import classification_report"
   ]
  },
  {
   "cell_type": "code",
   "execution_count": 31,
   "id": "81fa1ba4-6959-4774-a669-581f8dad7623",
   "metadata": {},
   "outputs": [],
   "source": [
    "# --- Step 1: Reservoir Sampling ---\n",
    "from collections import defaultdict\n",
    "import random\n",
    "\n",
    "def class_based_reservoir_sampling(stream, k):\n",
    "    \"\"\"\n",
    "    Maintain separate reservoirs per class label.\n",
    "    :param stream: iterable of (sample, label) tuples\n",
    "    :param k: buffer size per class\n",
    "    :return: dict of class-wise reservoirs\n",
    "    \"\"\"\n",
    "    reservoirs = defaultdict(list)\n",
    "    class_counts = defaultdict(int)  # counts per class for reservoir logic\n",
    "\n",
    "    for sample, label in stream:\n",
    "        count = class_counts[label]\n",
    "        buffer = reservoirs[label]\n",
    "\n",
    "        if count < k:\n",
    "            buffer.append(sample)\n",
    "        else:\n",
    "            j = random.randint(0, count)\n",
    "            if j < k:\n",
    "                buffer[j] = sample\n",
    "\n",
    "        class_counts[label] += 1\n",
    "\n",
    "    return reservoirs"
   ]
  },
  {
   "cell_type": "code",
   "execution_count": 32,
   "id": "d3d86bcd-7538-4458-bf25-cf028ec86664",
   "metadata": {},
   "outputs": [
    {
     "name": "stderr",
     "output_type": "stream",
     "text": [
      "C:\\Users\\pkitt\\anaconda3\\Lib\\site-packages\\sklearn\\preprocessing\\_label.py:114: DataConversionWarning: A column-vector y was passed when a 1d array was expected. Please change the shape of y to (n_samples, ), for example using ravel().\n",
      "  y = column_or_1d(y, warn=True)\n"
     ]
    }
   ],
   "source": [
    "from sklearn.preprocessing import LabelEncoder\n",
    "\n",
    "encoder = LabelEncoder()\n",
    "y_encoded = encoder.fit_transform(y)"
   ]
  },
  {
   "cell_type": "code",
   "execution_count": 33,
   "id": "9f5c5f0d-dc49-4f63-a0b1-f106df9a2f07",
   "metadata": {},
   "outputs": [],
   "source": [
    "# --- Step 2: Build Balanced Dataset ---\n",
    "# Assuming fertilizer dataset as (features, fertilizer_label)\n",
    "reservoirs = class_based_reservoir_sampling(zip(X, y_encoded), k=50)\n"
   ]
  },
  {
   "cell_type": "code",
   "execution_count": 34,
   "id": "5636da4f-1b85-4013-b67b-6467f6a8dc76",
   "metadata": {},
   "outputs": [
    {
     "name": "stdout",
     "output_type": "stream",
     "text": [
      "Unique labels in y_balanced: {0, 1, 2, 3, 4, 5, 6}\n"
     ]
    }
   ],
   "source": [
    "# Check what labels got into the buffer\n",
    "print(\"Unique labels in y_balanced:\", set(y_encoded))"
   ]
  },
  {
   "cell_type": "code",
   "execution_count": 35,
   "id": "db4b8cb1-eecb-4274-84a2-d7a14a191d3f",
   "metadata": {},
   "outputs": [],
   "source": [
    "# --- Step 3: Model Definition & Training ---\n",
    "\n",
    "model = Sequential([\n",
    "    Dense(128, activation='relu',),\n",
    "    Dense(64, activation='relu'),\n",
    "    Dense(7, activation='softmax')\n",
    "])\n",
    "model.compile(\n",
    "    optimizer='adam',\n",
    "    loss='sparse_categorical_crossentropy',  \n",
    "    metrics=['accuracy']\n",
    ")"
   ]
  },
  {
   "cell_type": "code",
   "execution_count": 36,
   "id": "40800a9f-a363-4ad9-aefa-a06588532c72",
   "metadata": {},
   "outputs": [
    {
     "name": "stdout",
     "output_type": "stream",
     "text": [
      "Epoch 1/3\n",
      "\u001b[1m23438/23438\u001b[0m \u001b[32m━━━━━━━━━━━━━━━━━━━━\u001b[0m\u001b[37m\u001b[0m \u001b[1m28s\u001b[0m 1ms/step - accuracy: 0.1498 - loss: 1.9737\n",
      "Epoch 2/3\n",
      "\u001b[1m23438/23438\u001b[0m \u001b[32m━━━━━━━━━━━━━━━━━━━━\u001b[0m\u001b[37m\u001b[0m \u001b[1m26s\u001b[0m 1ms/step - accuracy: 0.1521 - loss: 1.9426\n",
      "Epoch 3/3\n",
      "\u001b[1m23438/23438\u001b[0m \u001b[32m━━━━━━━━━━━━━━━━━━━━\u001b[0m\u001b[37m\u001b[0m \u001b[1m26s\u001b[0m 1ms/step - accuracy: 0.1513 - loss: 1.9427\n",
      "\u001b[1m23438/23438\u001b[0m \u001b[32m━━━━━━━━━━━━━━━━━━━━\u001b[0m\u001b[37m\u001b[0m \u001b[1m26s\u001b[0m 1ms/step - accuracy: 0.1517 - loss: 1.9427\n"
     ]
    },
    {
     "data": {
      "text/plain": [
       "[1.9427213668823242, 0.15184932947158813]"
      ]
     },
     "execution_count": 36,
     "metadata": {},
     "output_type": "execute_result"
    }
   ],
   "source": [
    "model.fit(X, y_encoded, epochs=3)\n",
    "model.evaluate(X, y_encoded)"
   ]
  },
  {
   "cell_type": "code",
   "execution_count": 37,
   "id": "ff01b5d0-9967-46dc-90a4-8375c7decf43",
   "metadata": {},
   "outputs": [
    {
     "name": "stdout",
     "output_type": "stream",
     "text": [
      "Class distribution: Counter({1: 114436, 0: 113887, 2: 112453, 4: 111158, 3: 110889, 5: 94860, 6: 92317})\n"
     ]
    }
   ],
   "source": [
    "# --- Step 4: Predict & Report ---\n",
    "from collections import Counter\n",
    "print(\"Class distribution:\", Counter(y_encoded))"
   ]
  },
  {
   "cell_type": "code",
   "execution_count": null,
   "id": "8f191994-dd8c-4f32-aed6-da30658f88a3",
   "metadata": {},
   "outputs": [],
   "source": []
  }
 ],
 "metadata": {
  "kernelspec": {
   "display_name": "Python 3 (ipykernel)",
   "language": "python",
   "name": "python3"
  },
  "language_info": {
   "codemirror_mode": {
    "name": "ipython",
    "version": 3
   },
   "file_extension": ".py",
   "mimetype": "text/x-python",
   "name": "python",
   "nbconvert_exporter": "python",
   "pygments_lexer": "ipython3",
   "version": "3.12.7"
  }
 },
 "nbformat": 4,
 "nbformat_minor": 5
}
