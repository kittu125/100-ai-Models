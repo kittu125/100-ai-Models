{
 "cells": [
  {
   "cell_type": "code",
   "execution_count": 37,
   "id": "cb0cb275-5f89-4f06-8c16-113c63664e80",
   "metadata": {},
   "outputs": [
    {
     "data": {
      "text/plain": [
       "<WordListCorpusReader in 'C:\\\\Users\\\\pkitt\\\\AppData\\\\Roaming\\\\nltk_data\\\\corpora\\\\stopwords'>"
      ]
     },
     "execution_count": 37,
     "metadata": {},
     "output_type": "execute_result"
    }
   ],
   "source": [
    "import nltk\n",
    "from nltk.corpus import stopwords\n",
    "stopwords"
   ]
  },
  {
   "cell_type": "code",
   "execution_count": 25,
   "id": "bac1ea5e-1a22-4588-9c15-9f06b724c7c9",
   "metadata": {},
   "outputs": [],
   "source": [
    "from nltk.corpus import stopwords\n",
    "# printing the list of all possible stop words in english language\n",
    "stop_words = set(stopwords.words('english'))\n",
    "\n",
    "custom_stop_words = {\"foo\", \"bar\", \"baz\"}\n",
    "stop_words.update(custom_stop_words)\n"
   ]
  },
  {
   "cell_type": "code",
   "execution_count": 26,
   "id": "7eb4cae2-32db-4d29-8d10-39c8357abcd0",
   "metadata": {},
   "outputs": [
    {
     "name": "stdout",
     "output_type": "stream",
     "text": [
      "{\"she's\", \"needn't\", 'ours', \"they're\", 'or', 're', 't', 'weren', 'yours', 'until', 'an', 'the', 'this', 'into', 'y', \"i'll\", \"he's\", \"you're\", 'just', 'doing', \"doesn't\", \"wouldn't\", 'some', 'him', \"she'd\", \"mustn't\", 'his', \"he'd\", 'all', 'if', 'other', 'off', 'was', \"won't\", 'we', 'down', 'ourselves', 'not', 'own', \"they've\", 'over', \"we're\", 'only', \"it'll\", 'does', 'll', 'should', \"we'd\", 'who', 'hers', 'mightn', 'most', 'between', 'below', \"hadn't\", 'hasn', 'then', 'i', 'baz', 'them', 'having', 'from', 'out', 'too', 'during', 'each', 'up', 'yourselves', 'in', \"haven't\", 'myself', 'why', 'against', 'has', 'bar', \"couldn't\", 'wouldn', 'to', 'few', 'wasn', 'which', 'itself', 'more', 'above', 'its', \"we'll\", \"should've\", \"i'd\", \"shouldn't\", 'aren', 'shan', 'she', 'once', 'by', \"they'll\", 'haven', \"they'd\", 'where', 'now', 'at', \"you've\", 'there', \"it's\", 'd', 'of', \"mightn't\", 'these', 'again', 'under', 'what', \"weren't\", \"i've\", 'himself', 'hadn', 'further', 'for', 'so', 'here', 'are', 'any', 'me', 'mustn', \"didn't\", 'they', \"we've\", 'you', \"aren't\", 'than', \"that'll\", 'while', 'with', 'didn', 'were', \"she'll\", 'won', 'shouldn', 'as', 'about', 'your', 'that', 'do', 'because', 'before', 'same', 'will', 'our', 'isn', \"shan't\", 'did', 'is', \"i'm\", 'it', 'ma', 'couldn', 'have', 'very', 'am', 'a', 'themselves', 'doesn', 'herself', 'how', 'm', 'no', 've', 'through', 'ain', \"he'll\", 'can', \"wasn't\", 'but', 'their', \"hasn't\", 'whom', \"you'll\", \"don't\", 'foo', \"isn't\", 'both', 'he', 'yourself', 'had', 'theirs', 'on', 'such', 'and', 'after', 'my', 'been', 'don', 'o', 'her', 's', 'when', \"you'd\", 'nor', 'needn', 'being', 'those', 'be', \"it'd\"}\n"
     ]
    }
   ],
   "source": [
    "from nltk.corpus import stopwords\n",
    "# printing the list of all possible stop words in english language\n",
    "print(stop_words)\n"
   ]
  },
  {
   "cell_type": "code",
   "execution_count": 34,
   "id": "f21e8b9e-97cb-42ff-8bc9-5060b5240dc0",
   "metadata": {},
   "outputs": [
    {
     "name": "stdout",
     "output_type": "stream",
     "text": [
      "['about', 'above', 'after', 'again', 'against', 'ain', 'all', 'am', 'an', 'and', 'any', 'are', 'aren', \"aren't\", 'as', 'at', 'be', 'because', 'been', 'before', 'being', 'below', 'between', 'both', 'but', 'by', 'can', 'couldn', \"couldn't\", 'd', 'did', 'didn', \"didn't\", 'do', 'does', 'doesn', \"doesn't\", 'doing', 'don', \"don't\", 'down', 'during', 'each', 'few', 'for', 'from', 'further', 'had', 'hadn', \"hadn't\", 'has', 'hasn', \"hasn't\", 'have', 'haven', \"haven't\", 'having', 'he', \"he'd\", \"he'll\", 'her', 'here', 'hers', 'herself', \"he's\", 'him', 'himself', 'his', 'how', 'i', \"i'd\", 'if', \"i'll\", \"i'm\", 'in', 'into', 'is', 'isn', \"isn't\", 'it', \"it'd\", \"it'll\", \"it's\", 'its', 'itself', \"i've\", 'just', 'll', 'm', 'ma', 'me', 'mightn', \"mightn't\", 'more', 'most', 'mustn', \"mustn't\", 'my', 'myself', 'needn', \"needn't\", 'no', 'nor', 'not', 'now', 'o', 'of', 'off', 'on', 'once', 'only', 'or', 'other', 'our', 'ours', 'ourselves', 'out', 'over', 'own', 're', 's', 'same', 'shan', \"shan't\", 'she', \"she'd\", \"she'll\", \"she's\", 'should', 'shouldn', \"shouldn't\", \"should've\", 'so', 'some', 'such', 't', 'than', 'that', \"that'll\", 'the', 'their', 'theirs', 'them', 'themselves', 'then', 'there', 'these', 'they', \"they'd\", \"they'll\", \"they're\", \"they've\", 'this', 'those', 'through', 'to', 'too', 'under', 'until', 'up', 've', 'very', 'was', 'wasn', \"wasn't\", 'we', \"we'd\", \"we'll\", \"we're\", 'were', 'weren', \"weren't\", \"we've\", 'what', 'when', 'where', 'which', 'while', 'who', 'whom', 'why', 'will', 'with', 'won', \"won't\", 'wouldn', \"wouldn't\", 'y', 'you', \"you'd\", \"you'll\", 'your', \"you're\", 'yours', 'yourself', 'yourselves', \"you've\", 'foo', 'bar', 'baz']\n"
     ]
    }
   ],
   "source": [
    "from nltk.corpus import stopwords\n",
    "\n",
    "# Create a set of English stopwords\n",
    "stop_words = (stopwords.words('english'))\n",
    "\n",
    "# Add custom stopwords\n",
    "stop_words.extend([\"foo\", \"bar\", \"baz\"])\n",
    "# remove custom stopwords\n",
    "stop_words.remove('a')\n",
    "# Print all stopwords including custom ones\n",
    "print(stop_words)\n"
   ]
  },
  {
   "cell_type": "code",
   "execution_count": 35,
   "id": "ba813b6d-e7c7-42a9-b10d-a84e418c63cd",
   "metadata": {},
   "outputs": [
    {
     "name": "stdout",
     "output_type": "stream",
     "text": [
      "['above', 'after', 'again', 'against', 'ain', 'all', 'am', 'an', 'and', 'any', 'are', 'aren', \"aren't\", 'as', 'at', 'be', 'because', 'been', 'before', 'being', 'below', 'between', 'both', 'but', 'by', 'can', 'couldn', \"couldn't\", 'd', 'did', 'didn', \"didn't\", 'do', 'does', 'doesn', \"doesn't\", 'doing', 'don', \"don't\", 'down', 'during', 'each', 'few', 'for', 'from', 'further', 'had', 'hadn', \"hadn't\", 'has', 'hasn', \"hasn't\", 'have', 'haven', \"haven't\", 'having', 'he', \"he'd\", \"he'll\", 'her', 'here', 'hers', 'herself', \"he's\", 'him', 'himself', 'his', 'how', 'i', \"i'd\", 'if', \"i'll\", \"i'm\", 'in', 'into', 'is', 'isn', \"isn't\", 'it', \"it'd\", \"it'll\", \"it's\", 'its', 'itself', \"i've\", 'just', 'll', 'm', 'ma', 'me', 'mightn', \"mightn't\", 'more', 'most', 'mustn', \"mustn't\", 'my', 'myself', 'needn', \"needn't\", 'no', 'nor', 'not', 'now', 'o', 'of', 'off', 'on', 'once', 'only', 'or', 'other', 'our', 'ours', 'ourselves', 'out', 'over', 'own', 're', 's', 'same', 'shan', \"shan't\", 'she', \"she'd\", \"she'll\", \"she's\", 'should', 'shouldn', \"shouldn't\", \"should've\", 'so', 'some', 'such', 't', 'than', 'that', \"that'll\", 'the', 'their', 'theirs', 'them', 'themselves', 'then', 'there', 'these', 'they', \"they'd\", \"they'll\", \"they're\", \"they've\", 'this', 'those', 'through', 'to', 'too', 'under', 'until', 'up', 've', 'very', 'was', 'wasn', \"wasn't\", 'we', \"we'd\", \"we'll\", \"we're\", 'were', 'weren', \"weren't\", \"we've\", 'what', 'when', 'where', 'which', 'while', 'who', 'whom', 'why', 'will', 'with', 'won', \"won't\", 'wouldn', \"wouldn't\", 'y', 'you', \"you'd\", \"you'll\", 'your', \"you're\", 'yours', 'yourself', 'yourselves', \"you've\", 'foo', 'bar', 'baz']\n"
     ]
    }
   ],
   "source": [
    "stop_words.remove('about')\n",
    "# Print all stopwords including custom ones\n",
    "print(stop_words)"
   ]
  },
  {
   "cell_type": "code",
   "execution_count": 30,
   "id": "72f47c74-3160-41f6-9d3b-8b10d1f8ffed",
   "metadata": {},
   "outputs": [
    {
     "name": "stdout",
     "output_type": "stream",
     "text": [
      "{\"she's\", \"needn't\", 'ours', \"they're\", 'or', 're', 't', 'weren', 'yours', 'until', 'an', 'the', 'this', 'into', 'y', \"i'll\", \"he's\", \"you're\", 'just', 'doing', \"doesn't\", \"wouldn't\", 'some', 'him', \"she'd\", \"mustn't\", 'his', \"he'd\", 'all', 'if', 'other', 'off', 'was', \"won't\", 'we', 'down', 'ourselves', 'not', 'own', \"they've\", 'over', \"we're\", 'only', \"it'll\", 'does', 'll', 'should', \"we'd\", 'who', 'hers', 'mightn', 'most', 'between', 'below', \"hadn't\", 'hasn', 'then', 'i', 'them', 'having', 'from', 'out', 'too', 'during', 'each', 'up', 'yourselves', 'in', \"haven't\", 'myself', 'why', 'against', 'has', \"couldn't\", 'wouldn', 'to', 'few', 'wasn', 'which', 'itself', 'more', 'above', 'its', \"we'll\", \"should've\", \"i'd\", \"shouldn't\", 'aren', 'shan', 'she', 'once', 'by', \"they'll\", 'haven', \"they'd\", 'where', 'now', 'at', \"you've\", 'there', \"it's\", 'd', 'of', \"mightn't\", 'these', 'again', 'under', 'what', \"weren't\", \"i've\", 'himself', 'hadn', 'further', 'for', 'so', 'here', 'are', 'any', 'me', 'mustn', \"didn't\", 'they', \"we've\", 'you', \"aren't\", 'than', \"that'll\", 'while', 'with', 'didn', 'were', \"she'll\", 'won', 'shouldn', 'as', 'about', 'your', 'that', 'do', 'because', 'before', 'same', 'will', 'our', 'isn', \"shan't\", 'did', 'is', \"i'm\", 'it', 'ma', 'couldn', 'have', 'very', 'am', 'themselves', 'doesn', 'herself', 'how', 'm', 'no', 've', 'through', 'ain', \"he'll\", 'can', \"wasn't\", 'but', 'their', \"hasn't\", 'whom', \"you'll\", \"don't\", \"isn't\", 'both', 'he', 'yourself', 'had', 'theirs', 'on', 'such', 'and', 'after', 'my', 'been', 'don', 'o', 'her', 's', 'when', \"you'd\", 'nor', 'needn', 'being', 'those', 'be', \"it'd\"}\n"
     ]
    }
   ],
   "source": [
    "from nltk.corpus import stopwords\n",
    "\n",
    "# Load default stopwords\n",
    "stop_words = set(stopwords.words('english'))  # Convert list to set\n",
    "\n",
    "# Remove stopword\n",
    "stop_words.discard('a')\n",
    "\n",
    "print(stop_words)\n"
   ]
  },
  {
   "cell_type": "code",
   "execution_count": 31,
   "id": "64868916-491e-4f60-af4a-9ea949bc3b8a",
   "metadata": {},
   "outputs": [
    {
     "data": {
      "text/plain": [
       "{'about',\n",
       " 'above',\n",
       " 'after',\n",
       " 'again',\n",
       " 'against',\n",
       " 'ain',\n",
       " 'all',\n",
       " 'am',\n",
       " 'an',\n",
       " 'and',\n",
       " 'any',\n",
       " 'are',\n",
       " 'aren',\n",
       " \"aren't\",\n",
       " 'as',\n",
       " 'at',\n",
       " 'be',\n",
       " 'because',\n",
       " 'been',\n",
       " 'before',\n",
       " 'being',\n",
       " 'below',\n",
       " 'between',\n",
       " 'both',\n",
       " 'but',\n",
       " 'by',\n",
       " 'can',\n",
       " 'couldn',\n",
       " \"couldn't\",\n",
       " 'd',\n",
       " 'did',\n",
       " 'didn',\n",
       " \"didn't\",\n",
       " 'do',\n",
       " 'does',\n",
       " 'doesn',\n",
       " \"doesn't\",\n",
       " 'doing',\n",
       " 'don',\n",
       " \"don't\",\n",
       " 'down',\n",
       " 'during',\n",
       " 'each',\n",
       " 'few',\n",
       " 'for',\n",
       " 'from',\n",
       " 'further',\n",
       " 'had',\n",
       " 'hadn',\n",
       " \"hadn't\",\n",
       " 'has',\n",
       " 'hasn',\n",
       " \"hasn't\",\n",
       " 'have',\n",
       " 'haven',\n",
       " \"haven't\",\n",
       " 'having',\n",
       " 'he',\n",
       " \"he'd\",\n",
       " \"he'll\",\n",
       " \"he's\",\n",
       " 'her',\n",
       " 'here',\n",
       " 'hers',\n",
       " 'herself',\n",
       " 'him',\n",
       " 'himself',\n",
       " 'his',\n",
       " 'how',\n",
       " 'i',\n",
       " \"i'd\",\n",
       " \"i'll\",\n",
       " \"i'm\",\n",
       " \"i've\",\n",
       " 'if',\n",
       " 'in',\n",
       " 'into',\n",
       " 'is',\n",
       " 'isn',\n",
       " \"isn't\",\n",
       " 'it',\n",
       " \"it'd\",\n",
       " \"it'll\",\n",
       " \"it's\",\n",
       " 'its',\n",
       " 'itself',\n",
       " 'just',\n",
       " 'll',\n",
       " 'm',\n",
       " 'ma',\n",
       " 'me',\n",
       " 'mightn',\n",
       " \"mightn't\",\n",
       " 'more',\n",
       " 'most',\n",
       " 'mustn',\n",
       " \"mustn't\",\n",
       " 'my',\n",
       " 'myself',\n",
       " 'needn',\n",
       " \"needn't\",\n",
       " 'no',\n",
       " 'nor',\n",
       " 'not',\n",
       " 'now',\n",
       " 'o',\n",
       " 'of',\n",
       " 'off',\n",
       " 'on',\n",
       " 'once',\n",
       " 'only',\n",
       " 'or',\n",
       " 'other',\n",
       " 'our',\n",
       " 'ours',\n",
       " 'ourselves',\n",
       " 'out',\n",
       " 'over',\n",
       " 'own',\n",
       " 're',\n",
       " 's',\n",
       " 'same',\n",
       " 'shan',\n",
       " \"shan't\",\n",
       " 'she',\n",
       " \"she'd\",\n",
       " \"she'll\",\n",
       " \"she's\",\n",
       " 'should',\n",
       " \"should've\",\n",
       " 'shouldn',\n",
       " \"shouldn't\",\n",
       " 'so',\n",
       " 'some',\n",
       " 'such',\n",
       " 't',\n",
       " 'than',\n",
       " 'that',\n",
       " \"that'll\",\n",
       " 'the',\n",
       " 'their',\n",
       " 'theirs',\n",
       " 'them',\n",
       " 'themselves',\n",
       " 'then',\n",
       " 'there',\n",
       " 'these',\n",
       " 'they',\n",
       " \"they'd\",\n",
       " \"they'll\",\n",
       " \"they're\",\n",
       " \"they've\",\n",
       " 'this',\n",
       " 'those',\n",
       " 'through',\n",
       " 'to',\n",
       " 'too',\n",
       " 'under',\n",
       " 'until',\n",
       " 'up',\n",
       " 've',\n",
       " 'very',\n",
       " 'was',\n",
       " 'wasn',\n",
       " \"wasn't\",\n",
       " 'we',\n",
       " \"we'd\",\n",
       " \"we'll\",\n",
       " \"we're\",\n",
       " \"we've\",\n",
       " 'were',\n",
       " 'weren',\n",
       " \"weren't\",\n",
       " 'what',\n",
       " 'when',\n",
       " 'where',\n",
       " 'which',\n",
       " 'while',\n",
       " 'who',\n",
       " 'whom',\n",
       " 'why',\n",
       " 'will',\n",
       " 'with',\n",
       " 'won',\n",
       " \"won't\",\n",
       " 'wouldn',\n",
       " \"wouldn't\",\n",
       " 'y',\n",
       " 'you',\n",
       " \"you'd\",\n",
       " \"you'll\",\n",
       " \"you're\",\n",
       " \"you've\",\n",
       " 'your',\n",
       " 'yours',\n",
       " 'yourself',\n",
       " 'yourselves'}"
      ]
     },
     "execution_count": 31,
     "metadata": {},
     "output_type": "execute_result"
    }
   ],
   "source": [
    "stop_words"
   ]
  },
  {
   "cell_type": "code",
   "execution_count": 39,
   "id": "b99b8700-f3d5-4c33-a7e6-fac0c1b2f652",
   "metadata": {},
   "outputs": [],
   "source": [
    "from nltk.tokenize import word_tokenize\n"
   ]
  },
  {
   "cell_type": "code",
   "execution_count": null,
   "id": "6697f2af-2ab7-493b-b9ea-f786fb05effd",
   "metadata": {},
   "outputs": [],
   "source": []
  }
 ],
 "metadata": {
  "kernelspec": {
   "display_name": "Python 3 (ipykernel)",
   "language": "python",
   "name": "python3"
  },
  "language_info": {
   "codemirror_mode": {
    "name": "ipython",
    "version": 3
   },
   "file_extension": ".py",
   "mimetype": "text/x-python",
   "name": "python",
   "nbconvert_exporter": "python",
   "pygments_lexer": "ipython3",
   "version": "3.12.7"
  }
 },
 "nbformat": 4,
 "nbformat_minor": 5
}
