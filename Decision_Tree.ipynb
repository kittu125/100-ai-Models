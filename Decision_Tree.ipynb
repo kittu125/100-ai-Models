{
 "cells": [
  {
   "cell_type": "code",
   "execution_count": 1,
   "id": "223441ed-07c1-41b6-94df-aa75f3619638",
   "metadata": {},
   "outputs": [],
   "source": [
    "import numpy as np"
   ]
  },
  {
   "cell_type": "code",
   "execution_count": 2,
   "id": "b362750d-ca21-4601-9217-32f1e5be35e1",
   "metadata": {},
   "outputs": [],
   "source": [
    "import pandas as pd"
   ]
  },
  {
   "cell_type": "code",
   "execution_count": 3,
   "id": "20c9e720-2d55-4785-805e-315793ea7915",
   "metadata": {},
   "outputs": [],
   "source": [
    "from sklearn.tree import DecisionTreeClassifier"
   ]
  },
  {
   "cell_type": "code",
   "execution_count": 4,
   "id": "e48cb8d3-b42e-47ee-a36e-be0299947b1d",
   "metadata": {},
   "outputs": [],
   "source": [
    "df=pd.read_csv(\"C:/Users/pkitt/OneDrive/Desktop/TREE.csv\")"
   ]
  },
  {
   "cell_type": "code",
   "execution_count": 5,
   "id": "a627070f-1bda-4651-910c-42f6b308d075",
   "metadata": {},
   "outputs": [
    {
     "data": {
      "text/html": [
       "<div>\n",
       "<style scoped>\n",
       "    .dataframe tbody tr th:only-of-type {\n",
       "        vertical-align: middle;\n",
       "    }\n",
       "\n",
       "    .dataframe tbody tr th {\n",
       "        vertical-align: top;\n",
       "    }\n",
       "\n",
       "    .dataframe thead th {\n",
       "        text-align: right;\n",
       "    }\n",
       "</style>\n",
       "<table border=\"1\" class=\"dataframe\">\n",
       "  <thead>\n",
       "    <tr style=\"text-align: right;\">\n",
       "      <th></th>\n",
       "      <th>company</th>\n",
       "      <th>job</th>\n",
       "      <th>education</th>\n",
       "      <th>sal_more_than_50K</th>\n",
       "    </tr>\n",
       "  </thead>\n",
       "  <tbody>\n",
       "    <tr>\n",
       "      <th>0</th>\n",
       "      <td>TCS</td>\n",
       "      <td>PROJECT EXECUTIVE</td>\n",
       "      <td>B.TECH</td>\n",
       "      <td>0</td>\n",
       "    </tr>\n",
       "    <tr>\n",
       "      <th>1</th>\n",
       "      <td>TCS</td>\n",
       "      <td>PROJECT EXECUTIVE</td>\n",
       "      <td>M.TECH</td>\n",
       "      <td>0</td>\n",
       "    </tr>\n",
       "    <tr>\n",
       "      <th>2</th>\n",
       "      <td>TCS</td>\n",
       "      <td>PROJECT MANAGER</td>\n",
       "      <td>B.TECH</td>\n",
       "      <td>1</td>\n",
       "    </tr>\n",
       "    <tr>\n",
       "      <th>3</th>\n",
       "      <td>TCS</td>\n",
       "      <td>PROJECT MANAGER</td>\n",
       "      <td>M.TECH</td>\n",
       "      <td>1</td>\n",
       "    </tr>\n",
       "    <tr>\n",
       "      <th>4</th>\n",
       "      <td>TCS</td>\n",
       "      <td>PROGRAMMER</td>\n",
       "      <td>B.TECH</td>\n",
       "      <td>0</td>\n",
       "    </tr>\n",
       "  </tbody>\n",
       "</table>\n",
       "</div>"
      ],
      "text/plain": [
       "  company                job education  sal_more_than_50K\n",
       "0     TCS  PROJECT EXECUTIVE    B.TECH                  0\n",
       "1     TCS  PROJECT EXECUTIVE    M.TECH                  0\n",
       "2     TCS    PROJECT MANAGER    B.TECH                  1\n",
       "3     TCS    PROJECT MANAGER    M.TECH                  1\n",
       "4     TCS         PROGRAMMER    B.TECH                  0"
      ]
     },
     "execution_count": 5,
     "metadata": {},
     "output_type": "execute_result"
    }
   ],
   "source": [
    "df.head()"
   ]
  },
  {
   "cell_type": "code",
   "execution_count": 6,
   "id": "212cb56f-9b0a-4d78-9179-2ee363ae1a17",
   "metadata": {},
   "outputs": [
    {
     "data": {
      "text/plain": [
       "<bound method NDFrame.head of       company                job education  sal_more_than_50K\n",
       "0         TCS  PROJECT EXECUTIVE    B.TECH                  0\n",
       "1         TCS  PROJECT EXECUTIVE    M.TECH                  0\n",
       "2         TCS    PROJECT MANAGER    B.TECH                  1\n",
       "3         TCS    PROJECT MANAGER    M.TECH                  1\n",
       "4         TCS         PROGRAMMER    B.TECH                  0\n",
       "5         TCS         PROGRAMMER    M.TECH                  1\n",
       "6     INFOSYS  PROJECT EXECUTIVE    M.TECH                  0\n",
       "7     INFOSYS         PROGRAMMER    B.TECH                  0\n",
       "8     INFOSYS    PROJECT MANAGER    B.TECH                  0\n",
       "9     INFOSYS    PROJECT MANAGER    M.TECH                  1\n",
       "10  MICROSOFT  PROJECT EXECUTIVE    B.TECH                  1\n",
       "11  MICROSOFT  PROJECT EXECUTIVE    M.TECH                  1\n",
       "12  MICROSOFT    PROJECT MANAGER    B.TECH                  1\n",
       "13  MICROSOFT    PROJECT MANAGER    M.TECH                  1\n",
       "14  MICROSOFT         PROGRAMMER    B.TECH                  1\n",
       "15  MICROSOFT         PROGRAMMER    M.TECH                  1>"
      ]
     },
     "execution_count": 6,
     "metadata": {},
     "output_type": "execute_result"
    }
   ],
   "source": [
    "df.head"
   ]
  },
  {
   "cell_type": "code",
   "execution_count": 7,
   "id": "a945c983-e932-4f8d-97fe-4ca1ba19c612",
   "metadata": {},
   "outputs": [],
   "source": [
    "df_cat=df.select_dtypes(include=object)"
   ]
  },
  {
   "cell_type": "code",
   "execution_count": 8,
   "id": "7987c1eb-d5c6-4ec2-870a-f71caf5e3fc0",
   "metadata": {},
   "outputs": [
    {
     "data": {
      "text/html": [
       "<div>\n",
       "<style scoped>\n",
       "    .dataframe tbody tr th:only-of-type {\n",
       "        vertical-align: middle;\n",
       "    }\n",
       "\n",
       "    .dataframe tbody tr th {\n",
       "        vertical-align: top;\n",
       "    }\n",
       "\n",
       "    .dataframe thead th {\n",
       "        text-align: right;\n",
       "    }\n",
       "</style>\n",
       "<table border=\"1\" class=\"dataframe\">\n",
       "  <thead>\n",
       "    <tr style=\"text-align: right;\">\n",
       "      <th></th>\n",
       "      <th>company</th>\n",
       "      <th>job</th>\n",
       "      <th>education</th>\n",
       "    </tr>\n",
       "  </thead>\n",
       "  <tbody>\n",
       "    <tr>\n",
       "      <th>0</th>\n",
       "      <td>TCS</td>\n",
       "      <td>PROJECT EXECUTIVE</td>\n",
       "      <td>B.TECH</td>\n",
       "    </tr>\n",
       "    <tr>\n",
       "      <th>1</th>\n",
       "      <td>TCS</td>\n",
       "      <td>PROJECT EXECUTIVE</td>\n",
       "      <td>M.TECH</td>\n",
       "    </tr>\n",
       "    <tr>\n",
       "      <th>2</th>\n",
       "      <td>TCS</td>\n",
       "      <td>PROJECT MANAGER</td>\n",
       "      <td>B.TECH</td>\n",
       "    </tr>\n",
       "    <tr>\n",
       "      <th>3</th>\n",
       "      <td>TCS</td>\n",
       "      <td>PROJECT MANAGER</td>\n",
       "      <td>M.TECH</td>\n",
       "    </tr>\n",
       "    <tr>\n",
       "      <th>4</th>\n",
       "      <td>TCS</td>\n",
       "      <td>PROGRAMMER</td>\n",
       "      <td>B.TECH</td>\n",
       "    </tr>\n",
       "  </tbody>\n",
       "</table>\n",
       "</div>"
      ],
      "text/plain": [
       "  company                job education\n",
       "0     TCS  PROJECT EXECUTIVE    B.TECH\n",
       "1     TCS  PROJECT EXECUTIVE    M.TECH\n",
       "2     TCS    PROJECT MANAGER    B.TECH\n",
       "3     TCS    PROJECT MANAGER    M.TECH\n",
       "4     TCS         PROGRAMMER    B.TECH"
      ]
     },
     "execution_count": 8,
     "metadata": {},
     "output_type": "execute_result"
    }
   ],
   "source": [
    "df_cat.head()"
   ]
  },
  {
   "cell_type": "code",
   "execution_count": 2,
   "id": "63bb308a-7c28-430d-abeb-eebc110fed40",
   "metadata": {},
   "outputs": [
    {
     "ename": "ImportError",
     "evalue": "cannot import name 'LableBinarizer' from 'sklearn.preprocessing' (C:\\Users\\pkitt\\anaconda3\\Lib\\site-packages\\sklearn\\preprocessing\\__init__.py)",
     "output_type": "error",
     "traceback": [
      "\u001b[1;31m---------------------------------------------------------------------------\u001b[0m",
      "\u001b[1;31mImportError\u001b[0m                               Traceback (most recent call last)",
      "Cell \u001b[1;32mIn[2], line 1\u001b[0m\n\u001b[1;32m----> 1\u001b[0m \u001b[38;5;28;01mfrom\u001b[39;00m \u001b[38;5;21;01msklearn\u001b[39;00m\u001b[38;5;21;01m.\u001b[39;00m\u001b[38;5;21;01mpreprocessing\u001b[39;00m \u001b[38;5;28;01mimport\u001b[39;00m LableBinarizer\n",
      "\u001b[1;31mImportError\u001b[0m: cannot import name 'LableBinarizer' from 'sklearn.preprocessing' (C:\\Users\\pkitt\\anaconda3\\Lib\\site-packages\\sklearn\\preprocessing\\__init__.py)"
     ]
    }
   ],
   "source": [
    "from sklearn.preprocessing import LableBinarizer"
   ]
  },
  {
   "cell_type": "code",
   "execution_count": 10,
   "id": "afb42809-5543-409b-a52b-bd50548fb755",
   "metadata": {},
   "outputs": [],
   "source": [
    "bi=LabelBinarizer()"
   ]
  },
  {
   "cell_type": "code",
   "execution_count": 28,
   "id": "aaff5986-6e66-481b-8d13-36a308bafa58",
   "metadata": {},
   "outputs": [],
   "source": [
    "df_cat[\"company\"] = bi.fit_transform(df_cat[\"company\"])"
   ]
  },
  {
   "cell_type": "code",
   "execution_count": 32,
   "id": "46a3b05d-58ad-4fee-8863-209edc6be6e5",
   "metadata": {},
   "outputs": [],
   "source": [
    "bi=LabelBinarizer()"
   ]
  },
  {
   "cell_type": "code",
   "execution_count": 34,
   "id": "204347ef-578f-4db0-9b8e-2e0b4bcfcb11",
   "metadata": {},
   "outputs": [],
   "source": [
    "df_cat[\"job\"] = bi.fit_transform(df_cat[\"job\"])"
   ]
  },
  {
   "cell_type": "code",
   "execution_count": 36,
   "id": "64bb06ff-6817-4111-a14e-4c72d6fb53fc",
   "metadata": {},
   "outputs": [],
   "source": [
    "bi=LabelBinarizer()"
   ]
  },
  {
   "cell_type": "code",
   "execution_count": 38,
   "id": "c44e0d7d-0b47-4da7-9d0e-06f5b342fafe",
   "metadata": {},
   "outputs": [],
   "source": [
    "df_cat[\"education\"] = bi.fit_transform(df_cat[\"education\"])"
   ]
  },
  {
   "cell_type": "code",
   "execution_count": 40,
   "id": "622ad1c0-9cb2-4eb0-889b-327c1a619004",
   "metadata": {},
   "outputs": [
    {
     "data": {
      "text/html": [
       "<div>\n",
       "<style scoped>\n",
       "    .dataframe tbody tr th:only-of-type {\n",
       "        vertical-align: middle;\n",
       "    }\n",
       "\n",
       "    .dataframe tbody tr th {\n",
       "        vertical-align: top;\n",
       "    }\n",
       "\n",
       "    .dataframe thead th {\n",
       "        text-align: right;\n",
       "    }\n",
       "</style>\n",
       "<table border=\"1\" class=\"dataframe\">\n",
       "  <thead>\n",
       "    <tr style=\"text-align: right;\">\n",
       "      <th></th>\n",
       "      <th>company</th>\n",
       "      <th>job</th>\n",
       "      <th>education</th>\n",
       "    </tr>\n",
       "  </thead>\n",
       "  <tbody>\n",
       "    <tr>\n",
       "      <th>0</th>\n",
       "      <td>0</td>\n",
       "      <td>0</td>\n",
       "      <td>0</td>\n",
       "    </tr>\n",
       "    <tr>\n",
       "      <th>1</th>\n",
       "      <td>0</td>\n",
       "      <td>0</td>\n",
       "      <td>1</td>\n",
       "    </tr>\n",
       "    <tr>\n",
       "      <th>2</th>\n",
       "      <td>0</td>\n",
       "      <td>0</td>\n",
       "      <td>0</td>\n",
       "    </tr>\n",
       "    <tr>\n",
       "      <th>3</th>\n",
       "      <td>0</td>\n",
       "      <td>0</td>\n",
       "      <td>1</td>\n",
       "    </tr>\n",
       "    <tr>\n",
       "      <th>4</th>\n",
       "      <td>0</td>\n",
       "      <td>1</td>\n",
       "      <td>0</td>\n",
       "    </tr>\n",
       "  </tbody>\n",
       "</table>\n",
       "</div>"
      ],
      "text/plain": [
       "   company  job  education\n",
       "0        0    0          0\n",
       "1        0    0          1\n",
       "2        0    0          0\n",
       "3        0    0          1\n",
       "4        0    1          0"
      ]
     },
     "execution_count": 40,
     "metadata": {},
     "output_type": "execute_result"
    }
   ],
   "source": [
    "df_cat.head()"
   ]
  },
  {
   "cell_type": "code",
   "execution_count": 44,
   "id": "6f34d531-b3de-4b8d-b0f9-b1c49549cdac",
   "metadata": {},
   "outputs": [],
   "source": [
    "df_num = df.select_dtypes(include=np.number)"
   ]
  },
  {
   "cell_type": "code",
   "execution_count": 48,
   "id": "e9615912-3bf4-443d-90a9-5a2c122a2f8f",
   "metadata": {},
   "outputs": [],
   "source": [
    "df_final=pd.concat([df_cat,df_num],axis=1)"
   ]
  },
  {
   "cell_type": "code",
   "execution_count": 50,
   "id": "409e1a66-2e2d-434c-b8cc-01a8d0b0dac0",
   "metadata": {},
   "outputs": [
    {
     "data": {
      "text/html": [
       "<div>\n",
       "<style scoped>\n",
       "    .dataframe tbody tr th:only-of-type {\n",
       "        vertical-align: middle;\n",
       "    }\n",
       "\n",
       "    .dataframe tbody tr th {\n",
       "        vertical-align: top;\n",
       "    }\n",
       "\n",
       "    .dataframe thead th {\n",
       "        text-align: right;\n",
       "    }\n",
       "</style>\n",
       "<table border=\"1\" class=\"dataframe\">\n",
       "  <thead>\n",
       "    <tr style=\"text-align: right;\">\n",
       "      <th></th>\n",
       "      <th>company</th>\n",
       "      <th>job</th>\n",
       "      <th>education</th>\n",
       "      <th>sal_more_than_50K</th>\n",
       "    </tr>\n",
       "  </thead>\n",
       "  <tbody>\n",
       "    <tr>\n",
       "      <th>0</th>\n",
       "      <td>0</td>\n",
       "      <td>0</td>\n",
       "      <td>0</td>\n",
       "      <td>0</td>\n",
       "    </tr>\n",
       "    <tr>\n",
       "      <th>1</th>\n",
       "      <td>0</td>\n",
       "      <td>0</td>\n",
       "      <td>1</td>\n",
       "      <td>0</td>\n",
       "    </tr>\n",
       "    <tr>\n",
       "      <th>2</th>\n",
       "      <td>0</td>\n",
       "      <td>0</td>\n",
       "      <td>0</td>\n",
       "      <td>1</td>\n",
       "    </tr>\n",
       "    <tr>\n",
       "      <th>3</th>\n",
       "      <td>0</td>\n",
       "      <td>0</td>\n",
       "      <td>1</td>\n",
       "      <td>1</td>\n",
       "    </tr>\n",
       "    <tr>\n",
       "      <th>4</th>\n",
       "      <td>0</td>\n",
       "      <td>1</td>\n",
       "      <td>0</td>\n",
       "      <td>0</td>\n",
       "    </tr>\n",
       "  </tbody>\n",
       "</table>\n",
       "</div>"
      ],
      "text/plain": [
       "   company  job  education  sal_more_than_50K\n",
       "0        0    0          0                  0\n",
       "1        0    0          1                  0\n",
       "2        0    0          0                  1\n",
       "3        0    0          1                  1\n",
       "4        0    1          0                  0"
      ]
     },
     "execution_count": 50,
     "metadata": {},
     "output_type": "execute_result"
    }
   ],
   "source": [
    "df_final.head()"
   ]
  },
  {
   "cell_type": "code",
   "execution_count": 83,
   "id": "15c89865-b938-4385-abbc-7d9c94a48e2a",
   "metadata": {},
   "outputs": [],
   "source": [
    "from sklearn.model_selection import train_test_split"
   ]
  },
  {
   "cell_type": "code",
   "execution_count": 89,
   "id": "bf985677-999f-44ae-bca9-3aebcf2f061b",
   "metadata": {},
   "outputs": [],
   "source": [
    "X_train, X_test, y_train, y_test = train_test_split(X, y, test_size=0.33, random_state=42)"
   ]
  },
  {
   "cell_type": "code",
   "execution_count": 121,
   "id": "b27caa1e-f4fc-450a-bfee-c1ee327528c6",
   "metadata": {},
   "outputs": [],
   "source": [
    "X = df_final[[\"education\",\"job\",\"company\"]]"
   ]
  },
  {
   "cell_type": "code",
   "execution_count": 123,
   "id": "260751ce-376b-43cf-bdb1-59d51de080cd",
   "metadata": {},
   "outputs": [],
   "source": [
    "y = df_final[[\"sal_more_than_50K\"]]"
   ]
  },
  {
   "cell_type": "code",
   "execution_count": 125,
   "id": "a2454f6b-e7f1-4cb2-a15a-b1c00b7d70f2",
   "metadata": {},
   "outputs": [],
   "source": [
    "matrix= df_final.corr()\n"
   ]
  },
  {
   "cell_type": "code",
   "execution_count": 127,
   "id": "77a390a9-6bf4-4e74-b11a-51adc41fa0bf",
   "metadata": {},
   "outputs": [
    {
     "data": {
      "text/html": [
       "<div>\n",
       "<style scoped>\n",
       "    .dataframe tbody tr th:only-of-type {\n",
       "        vertical-align: middle;\n",
       "    }\n",
       "\n",
       "    .dataframe tbody tr th {\n",
       "        vertical-align: top;\n",
       "    }\n",
       "\n",
       "    .dataframe thead th {\n",
       "        text-align: right;\n",
       "    }\n",
       "</style>\n",
       "<table border=\"1\" class=\"dataframe\">\n",
       "  <thead>\n",
       "    <tr style=\"text-align: right;\">\n",
       "      <th></th>\n",
       "      <th>company</th>\n",
       "      <th>job</th>\n",
       "      <th>education</th>\n",
       "      <th>sal_more_than_50K</th>\n",
       "    </tr>\n",
       "  </thead>\n",
       "  <tbody>\n",
       "    <tr>\n",
       "      <th>company</th>\n",
       "      <td>1.000000e+00</td>\n",
       "      <td>-0.077850</td>\n",
       "      <td>2.403703e-17</td>\n",
       "      <td>-0.447214</td>\n",
       "    </tr>\n",
       "    <tr>\n",
       "      <th>job</th>\n",
       "      <td>-7.784989e-02</td>\n",
       "      <td>1.000000</td>\n",
       "      <td>-1.348400e-01</td>\n",
       "      <td>-0.034816</td>\n",
       "    </tr>\n",
       "    <tr>\n",
       "      <th>education</th>\n",
       "      <td>2.403703e-17</td>\n",
       "      <td>-0.134840</td>\n",
       "      <td>1.000000e+00</td>\n",
       "      <td>0.258199</td>\n",
       "    </tr>\n",
       "    <tr>\n",
       "      <th>sal_more_than_50K</th>\n",
       "      <td>-4.472136e-01</td>\n",
       "      <td>-0.034816</td>\n",
       "      <td>2.581989e-01</td>\n",
       "      <td>1.000000</td>\n",
       "    </tr>\n",
       "  </tbody>\n",
       "</table>\n",
       "</div>"
      ],
      "text/plain": [
       "                        company       job     education  sal_more_than_50K\n",
       "company            1.000000e+00 -0.077850  2.403703e-17          -0.447214\n",
       "job               -7.784989e-02  1.000000 -1.348400e-01          -0.034816\n",
       "education          2.403703e-17 -0.134840  1.000000e+00           0.258199\n",
       "sal_more_than_50K -4.472136e-01 -0.034816  2.581989e-01           1.000000"
      ]
     },
     "execution_count": 127,
     "metadata": {},
     "output_type": "execute_result"
    }
   ],
   "source": [
    "matrix"
   ]
  },
  {
   "cell_type": "code",
   "execution_count": 129,
   "id": "3598ac65-e287-4554-bce3-bc49ef8c9c26",
   "metadata": {},
   "outputs": [],
   "source": [
    "DTC=DecisionTreeClassifier()"
   ]
  },
  {
   "cell_type": "code",
   "execution_count": 131,
   "id": "7d8e3059-22cf-4ef5-893a-fe268941da2b",
   "metadata": {},
   "outputs": [],
   "source": [
    "fit=DTC.fit(X,y)"
   ]
  },
  {
   "cell_type": "code",
   "execution_count": 133,
   "id": "45946174-cd55-4172-b921-f3621abbe9f1",
   "metadata": {},
   "outputs": [
    {
     "data": {
      "text/plain": [
       "0.75"
      ]
     },
     "execution_count": 133,
     "metadata": {},
     "output_type": "execute_result"
    }
   ],
   "source": [
    "fit.score(X,y)"
   ]
  },
  {
   "cell_type": "code",
   "execution_count": null,
   "id": "c6f319ae-66b1-4f02-bbc7-3ba1e17dab48",
   "metadata": {},
   "outputs": [],
   "source": []
  },
  {
   "cell_type": "code",
   "execution_count": null,
   "id": "84b8afce-ad99-4161-831e-38020dd4723b",
   "metadata": {},
   "outputs": [],
   "source": []
  },
  {
   "cell_type": "code",
   "execution_count": null,
   "id": "063d7713-bd6d-477e-9d34-277c7853d8ab",
   "metadata": {},
   "outputs": [],
   "source": []
  }
 ],
 "metadata": {
  "kernelspec": {
   "display_name": "Python 3 (ipykernel)",
   "language": "python",
   "name": "python3"
  },
  "language_info": {
   "codemirror_mode": {
    "name": "ipython",
    "version": 3
   },
   "file_extension": ".py",
   "mimetype": "text/x-python",
   "name": "python",
   "nbconvert_exporter": "python",
   "pygments_lexer": "ipython3",
   "version": "3.12.7"
  }
 },
 "nbformat": 4,
 "nbformat_minor": 5
}
