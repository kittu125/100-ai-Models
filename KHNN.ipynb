{
 "cells": [
  {
   "cell_type": "code",
   "execution_count": 45,
   "id": "1b04d639-799f-4726-b36c-36bf938c998e",
   "metadata": {},
   "outputs": [
    {
     "name": "stdout",
     "output_type": "stream",
     "text": [
      "Collecting Algebra\n",
      "  Downloading algebra-1.2.1.tar.gz (19 kB)\n",
      "  Installing build dependencies: started\n",
      "  Installing build dependencies: finished with status 'done'\n",
      "  Getting requirements to build wheel: started\n",
      "  Getting requirements to build wheel: finished with status 'done'\n",
      "  Preparing metadata (pyproject.toml): started\n",
      "  Preparing metadata (pyproject.toml): finished with status 'done'\n",
      "Requirement already satisfied: numpy>=1.16 in c:\\users\\pkitt\\anaconda3\\lib\\site-packages (from Algebra) (1.26.4)\n",
      "Collecting plum-dispatch>=1 (from Algebra)\n",
      "  Downloading plum_dispatch-2.5.7-py3-none-any.whl.metadata (7.5 kB)\n",
      "Collecting backends>=1 (from Algebra)\n",
      "  Downloading backends-1.7.1.tar.gz (91 kB)\n",
      "  Installing build dependencies: started\n",
      "  Installing build dependencies: finished with status 'done'\n",
      "  Getting requirements to build wheel: started\n",
      "  Getting requirements to build wheel: finished with status 'done'\n",
      "  Preparing metadata (pyproject.toml): started\n",
      "  Preparing metadata (pyproject.toml): finished with status 'done'\n",
      "Requirement already satisfied: scipy>=1.3 in c:\\users\\pkitt\\anaconda3\\lib\\site-packages (from backends>=1->Algebra) (1.15.3)\n",
      "Requirement already satisfied: opt-einsum in c:\\users\\pkitt\\anaconda3\\lib\\site-packages (from backends>=1->Algebra) (3.4.0)\n",
      "Collecting beartype>=0.16.2 (from plum-dispatch>=1->Algebra)\n",
      "  Downloading beartype-0.21.0-py3-none-any.whl.metadata (33 kB)\n",
      "Requirement already satisfied: rich>=10.0 in c:\\users\\pkitt\\anaconda3\\lib\\site-packages (from plum-dispatch>=1->Algebra) (13.7.1)\n",
      "Requirement already satisfied: typing-extensions>=4.9.0 in c:\\users\\pkitt\\anaconda3\\lib\\site-packages (from plum-dispatch>=1->Algebra) (4.11.0)\n",
      "Requirement already satisfied: markdown-it-py>=2.2.0 in c:\\users\\pkitt\\anaconda3\\lib\\site-packages (from rich>=10.0->plum-dispatch>=1->Algebra) (2.2.0)\n",
      "Requirement already satisfied: pygments<3.0.0,>=2.13.0 in c:\\users\\pkitt\\anaconda3\\lib\\site-packages (from rich>=10.0->plum-dispatch>=1->Algebra) (2.15.1)\n",
      "Requirement already satisfied: mdurl~=0.1 in c:\\users\\pkitt\\anaconda3\\lib\\site-packages (from markdown-it-py>=2.2.0->rich>=10.0->plum-dispatch>=1->Algebra) (0.1.0)\n",
      "Downloading plum_dispatch-2.5.7-py3-none-any.whl (42 kB)\n",
      "Downloading beartype-0.21.0-py3-none-any.whl (1.2 MB)\n",
      "   ---------------------------------------- 0.0/1.2 MB ? eta -:--:--\n",
      "   ---------------------------------------- 1.2/1.2 MB 30.0 MB/s eta 0:00:00\n",
      "Building wheels for collected packages: Algebra, backends\n",
      "  Building wheel for Algebra (pyproject.toml): started\n",
      "  Building wheel for Algebra (pyproject.toml): finished with status 'done'\n",
      "  Created wheel for Algebra: filename=algebra-1.2.1-py3-none-any.whl size=21077 sha256=888ecdecf276bcfdec9ecc4307bde17ded06cbb1959311550e8b6180c178e12b\n",
      "  Stored in directory: c:\\users\\pkitt\\appdata\\local\\pip\\cache\\wheels\\e2\\c2\\51\\64442a5cace0a5416a0c9ca0726a0187a56322217c179ebc55\n",
      "  Building wheel for backends (pyproject.toml): started\n",
      "  Building wheel for backends (pyproject.toml): finished with status 'done'\n",
      "  Created wheel for backends: filename=backends-1.7.1-py3-none-any.whl size=91707 sha256=9e1bfed2cccaf9b076b46f1892dba74cfd0fc77731db6dbc8b62675a99dc1c60\n",
      "  Stored in directory: c:\\users\\pkitt\\appdata\\local\\pip\\cache\\wheels\\6c\\80\\a3\\5eb13aac9fcadef6265d0c61a539d675a5b27ffcb179b46eaf\n",
      "Successfully built Algebra backends\n",
      "Installing collected packages: beartype, plum-dispatch, backends, Algebra\n",
      "Successfully installed Algebra-1.2.1 backends-1.7.1 beartype-0.21.0 plum-dispatch-2.5.7\n"
     ]
    }
   ],
   "source": [
    "!pip install Algebra"
   ]
  },
  {
   "cell_type": "code",
   "execution_count": 2,
   "id": "4a4b8828-dae1-4b22-8e0d-4560e3f04fda",
   "metadata": {},
   "outputs": [
    {
     "name": "stdout",
     "output_type": "stream",
     "text": [
      "Name: algebra\n",
      "Version: 1.2.1\n",
      "Summary: Algebraic structures\n",
      "Home-page: https://github.com/wesselb/algebra\n",
      "Author: Wessel Bruinsma\n",
      "Author-email: wessel.p.bruinsma@gmail.com\n",
      "License: MIT\n",
      "Location: C:\\Users\\pkitt\\anaconda3\\Lib\\site-packages\n",
      "Requires: backends, numpy, plum-dispatch\n",
      "Required-by: \n"
     ]
    },
    {
     "name": "stderr",
     "output_type": "stream",
     "text": [
      "'which' is not recognized as an internal or external command,\n",
      "operable program or batch file.\n"
     ]
    }
   ],
   "source": [
    "!pip show Algebra\n",
    "!which python  # or !where python on Windows"
   ]
  },
  {
   "cell_type": "code",
   "execution_count": 3,
   "id": "b08b3b94-6306-478b-aeac-855811e897fb",
   "metadata": {},
   "outputs": [
    {
     "name": "stderr",
     "output_type": "stream",
     "text": [
      "fatal: destination path 'KHNN' already exists and is not an empty directory.\n"
     ]
    }
   ],
   "source": [
    "!git clone https://github.com/rkycia/KHNN.git"
   ]
  },
  {
   "cell_type": "code",
   "execution_count": 4,
   "id": "8bdb3b57-d0a8-49df-956f-d1eac73dd61d",
   "metadata": {},
   "outputs": [],
   "source": [
    "import sys\n",
    "sys.path.append(\"C:/Users/pkitt/KHNN\")  # Adjust path if needed"
   ]
  },
  {
   "cell_type": "code",
   "execution_count": 5,
   "id": "9679f111-cb8d-4498-bc8a-35d92c35b130",
   "metadata": {},
   "outputs": [],
   "source": [
    "import Algebra\n",
    "from Hyperdense import HyperDense"
   ]
  },
  {
   "cell_type": "code",
   "execution_count": 6,
   "id": "7f88eb54-4911-48b0-bf73-66a960e92499",
   "metadata": {},
   "outputs": [],
   "source": [
    "import numpy as np\n",
    "import pandas as pd\n",
    "import tensorflow as tf\n",
    "from tensorflow.keras import layers, activations, initializers\n",
    "import Algebra"
   ]
  },
  {
   "cell_type": "code",
   "execution_count": 7,
   "id": "45ba4289-54d2-4cf8-bbc2-1bb28af3488a",
   "metadata": {},
   "outputs": [],
   "source": [
    "class HyperDense(layers.Layer):\n",
    "    \"\"\"Dense layer when the weight are calculated based on arbitrary hyperalgebra.\n",
    "    The usage is similar to standard hyperdense layer. The input of data is \n",
    "    batch x (dim_algebra x n), where n is arbitrary nonzero integer, i.e. the last \n",
    "    axis has dimension that is an integer multiple of algebra dimension.\n",
    "    \n",
    "    The class is a generalization of class described in:\n",
    "    G. Vieira and M. Eduardo Valle, \"Acute Lymphoblastic Leukemia Detection Using Hypercomplex-Valued Convolutional Neural Networks,\" 2022 International Joint Conference on Neural Networks (IJCNN), Padua, Italy, 2022, pp. 1-8, doi: 10.1109/IJCNN55064.2022.9892036.\n",
    "    The calulations are adjusted to TensorFlow tensor operations, and are enhanced to \n",
    "    arbitrary algebras.\n",
    "    \"\"\"\n",
    "    def __init__(self, units,\n",
    "                 activation=None,\n",
    "                 use_bias=True,\n",
    "                 kernel_initializer=tf.keras.initializers.GlorotNormal(seed=0),\n",
    "                 bias_initializer='zeros',\n",
    "                 algebra = Algebra.Quaternions # Quaternion algebra\n",
    "                ):\n",
    "        \"\"\"The input is the same as for Dense layer. The additional parametr is \n",
    "        algebra which is set do algebra.Quaternions.\n",
    "        \"\"\"\n",
    "        super(HyperDense, self).__init__()\n",
    "        self.units = int(units) if not isinstance(units, int) else units\n",
    "        self.activation = activations.get(activation)\n",
    "        self.use_bias = use_bias\n",
    "        self.kernel_initializer = initializers.get(kernel_initializer)\n",
    "        self.bias_initializer = initializers.get(bias_initializer)\n",
    "        self.A = tf.convert_to_tensor(algebra.getA(), dtype = np.float32)\n",
    "        self.algebra_dim = algebra.getDim()"
   ]
  },
  {
   "cell_type": "code",
   "execution_count": 8,
   "id": "41466698-cef9-49fa-96fe-a2997644fda9",
   "metadata": {},
   "outputs": [],
   "source": [
    "df = pd.read_csv(\"C:/Users/pkitt/Downloads/playground-series-s5e6/train.csv\")"
   ]
  },
  {
   "cell_type": "code",
   "execution_count": 9,
   "id": "06854116-db46-4d79-8b15-25b01478dad9",
   "metadata": {},
   "outputs": [
    {
     "name": "stderr",
     "output_type": "stream",
     "text": [
      "C:\\Users\\pkitt\\AppData\\Local\\Temp\\ipykernel_13888\\2763109048.py:1: UserWarning: Pandas doesn't allow columns to be created via a new attribute name - see https://pandas.pydata.org/pandas-docs/stable/indexing.html#attribute-access\n",
      "  df.cat =df.select_dtypes(include=[object])\n"
     ]
    }
   ],
   "source": [
    "df.cat =df.select_dtypes(include=[object])"
   ]
  },
  {
   "cell_type": "code",
   "execution_count": 10,
   "id": "8b44a4f4-0b91-41cc-a605-1bd47cc777bf",
   "metadata": {},
   "outputs": [
    {
     "name": "stderr",
     "output_type": "stream",
     "text": [
      "C:\\Users\\pkitt\\AppData\\Local\\Temp\\ipykernel_13888\\610118065.py:1: UserWarning: Pandas doesn't allow columns to be created via a new attribute name - see https://pandas.pydata.org/pandas-docs/stable/indexing.html#attribute-access\n",
      "  df.num=df.select_dtypes(include=[np.number])\n"
     ]
    }
   ],
   "source": [
    "df.num=df.select_dtypes(include=[np.number])"
   ]
  },
  {
   "cell_type": "code",
   "execution_count": 11,
   "id": "b230add0-20c1-40da-9103-3e8b28c24098",
   "metadata": {},
   "outputs": [],
   "source": [
    "from sklearn.preprocessing import LabelEncoder"
   ]
  },
  {
   "cell_type": "code",
   "execution_count": 12,
   "id": "bf494158-8d83-493b-9df2-18ee47aae5f3",
   "metadata": {},
   "outputs": [],
   "source": [
    "le = LabelEncoder()"
   ]
  },
  {
   "cell_type": "code",
   "execution_count": 13,
   "id": "32845590-ed8d-4f6a-9d26-34630217045c",
   "metadata": {},
   "outputs": [],
   "source": [
    "df.cat[\"Soil Type\"] = le.fit_transform(df.cat[\"Soil Type\"])"
   ]
  },
  {
   "cell_type": "code",
   "execution_count": 14,
   "id": "69a2165a-4f3f-4331-a728-3a844cc33f17",
   "metadata": {},
   "outputs": [],
   "source": [
    "df.cat[\"Crop Type\"] = le.fit_transform(df.cat[\"Crop Type\"])"
   ]
  },
  {
   "cell_type": "code",
   "execution_count": 15,
   "id": "85ca6ebf-649b-487f-915e-99f53e9f2de2",
   "metadata": {},
   "outputs": [],
   "source": [
    "df.cat[\"Fertilizer Name\"] = le.fit_transform(df.cat[\"Fertilizer Name\"])"
   ]
  },
  {
   "cell_type": "code",
   "execution_count": 16,
   "id": "8242d86b-c469-4619-b6cf-c4c50b894074",
   "metadata": {
    "scrolled": true
   },
   "outputs": [
    {
     "data": {
      "text/html": [
       "<div>\n",
       "<style scoped>\n",
       "    .dataframe tbody tr th:only-of-type {\n",
       "        vertical-align: middle;\n",
       "    }\n",
       "\n",
       "    .dataframe tbody tr th {\n",
       "        vertical-align: top;\n",
       "    }\n",
       "\n",
       "    .dataframe thead th {\n",
       "        text-align: right;\n",
       "    }\n",
       "</style>\n",
       "<table border=\"1\" class=\"dataframe\">\n",
       "  <thead>\n",
       "    <tr style=\"text-align: right;\">\n",
       "      <th></th>\n",
       "      <th>Soil Type</th>\n",
       "      <th>Crop Type</th>\n",
       "      <th>Fertilizer Name</th>\n",
       "    </tr>\n",
       "  </thead>\n",
       "  <tbody>\n",
       "    <tr>\n",
       "      <th>0</th>\n",
       "      <td>1</td>\n",
       "      <td>8</td>\n",
       "      <td>4</td>\n",
       "    </tr>\n",
       "    <tr>\n",
       "      <th>1</th>\n",
       "      <td>4</td>\n",
       "      <td>4</td>\n",
       "      <td>4</td>\n",
       "    </tr>\n",
       "    <tr>\n",
       "      <th>2</th>\n",
       "      <td>4</td>\n",
       "      <td>4</td>\n",
       "      <td>2</td>\n",
       "    </tr>\n",
       "    <tr>\n",
       "      <th>3</th>\n",
       "      <td>4</td>\n",
       "      <td>0</td>\n",
       "      <td>0</td>\n",
       "    </tr>\n",
       "    <tr>\n",
       "      <th>4</th>\n",
       "      <td>3</td>\n",
       "      <td>6</td>\n",
       "      <td>5</td>\n",
       "    </tr>\n",
       "  </tbody>\n",
       "</table>\n",
       "</div>"
      ],
      "text/plain": [
       "   Soil Type  Crop Type  Fertilizer Name\n",
       "0          1          8                4\n",
       "1          4          4                4\n",
       "2          4          4                2\n",
       "3          4          0                0\n",
       "4          3          6                5"
      ]
     },
     "execution_count": 16,
     "metadata": {},
     "output_type": "execute_result"
    }
   ],
   "source": [
    "df.cat.head()"
   ]
  },
  {
   "cell_type": "code",
   "execution_count": 17,
   "id": "a569d3a7-e9b4-4952-a8f4-988b0c56ec46",
   "metadata": {},
   "outputs": [],
   "source": [
    "df_train = pd.concat([df.num,df.cat],axis=1)"
   ]
  },
  {
   "cell_type": "code",
   "execution_count": 18,
   "id": "63a83e98-0b21-47ad-99de-af9c5826bc2f",
   "metadata": {},
   "outputs": [],
   "source": [
    "import tensorflow as tf"
   ]
  },
  {
   "cell_type": "code",
   "execution_count": 19,
   "id": "e9bc8023-175b-4201-9724-2f52d1c6270c",
   "metadata": {},
   "outputs": [],
   "source": [
    "from tensorflow import keras"
   ]
  },
  {
   "cell_type": "code",
   "execution_count": 20,
   "id": "9278e011-6d2d-40f7-a366-968a4ed753b7",
   "metadata": {},
   "outputs": [],
   "source": [
    "X = df_train[[\"Humidity\",\"Moisture\",\"Soil Type\",\"Crop Type\"]]"
   ]
  },
  {
   "cell_type": "code",
   "execution_count": 21,
   "id": "b6c647ba-419b-404b-8c56-c6e7381224ba",
   "metadata": {},
   "outputs": [],
   "source": [
    "y = df_train[[\"Fertilizer Name\"]]"
   ]
  },
  {
   "cell_type": "code",
   "execution_count": 22,
   "id": "7fdfc9db-62cf-44f3-be8e-e1514fb0e701",
   "metadata": {},
   "outputs": [],
   "source": [
    "from sklearn.model_selection import train_test_split"
   ]
  },
  {
   "cell_type": "code",
   "execution_count": 23,
   "id": "67882a52-f993-41e1-acf9-dc73c3fbba49",
   "metadata": {},
   "outputs": [],
   "source": [
    "X_train, X_test, y_train, y_test = train_test_split(X, y, test_size=0.33, random_state=42)"
   ]
  },
  {
   "cell_type": "code",
   "execution_count": 48,
   "id": "d5c0f870-d555-4eb1-896b-a0624ab6ffa4",
   "metadata": {},
   "outputs": [],
   "source": [
    "from collections import defaultdict\n",
    "import random\n",
    "\n",
    "def class_based_reservoir_sampling(stream, k):\n",
    "    \"\"\"\n",
    "    Maintain separate reservoirs per class label.\n",
    "    :param stream: iterable of (sample, label) tuples\n",
    "    :param k: buffer size per class\n",
    "    :return: dict of class-wise reservoirs\n",
    "    \"\"\"\n",
    "    reservoirs = defaultdict(list)\n",
    "    class_counts = defaultdict(int)  # counts per class for reservoir logic\n",
    "\n",
    "    for sample, label in stream:\n",
    "        count = class_counts[label]\n",
    "        buffer = reservoirs[label]\n",
    "\n",
    "        if count < k:\n",
    "            buffer.append(sample)\n",
    "        else:\n",
    "            j = random.randint(0, count)\n",
    "            if j < k:\n",
    "                buffer[j] = sample\n",
    "\n",
    "        class_counts[label] += 1\n",
    "\n",
    "    return reservoirs\n",
    "reservoirs = class_based_reservoir_sampling(zip(X, y), k=50)"
   ]
  },
  {
   "cell_type": "code",
   "execution_count": 49,
   "id": "fb19b03f-f6b7-4166-95f0-b672e3d67a10",
   "metadata": {},
   "outputs": [
    {
     "name": "stdout",
     "output_type": "stream",
     "text": [
      "(array([0, 1, 2, 3, 4, 5, 6]), array([113887, 114436, 112453, 110889, 111158,  94860,  92317],\n",
      "      dtype=int64))\n"
     ]
    }
   ],
   "source": [
    "import numpy as np\n",
    "print(np.unique(y, return_counts=True))"
   ]
  },
  {
   "cell_type": "code",
   "execution_count": 50,
   "id": "cb7fd99f-ec26-4323-bc5c-8f1d9e9d263c",
   "metadata": {},
   "outputs": [],
   "source": [
    "#Define model:\n",
    "from tensorflow.keras.models import Sequential\n",
    "model = Sequential()\n",
    "def build_model():\n",
    "    input_dim = 16\n",
    "    num_neurons = 4\n",
    "    return input_dim + num_neurons\n",
    "    model.add(HyperDense(num_neurons))"
   ]
  },
  {
   "cell_type": "code",
   "execution_count": 51,
   "id": "5a72889a-ec69-4f43-b3e6-e92a0c115def",
   "metadata": {},
   "outputs": [],
   "source": [
    " #model.add(Dense(num_neurons)) #real numbers alternative forcomparision\n",
    "from tensorflow.keras.layers import Activation\n",
    "from tensorflow.keras.layers import Dense\n",
    "model.add(Activation('tanh'))\n",
    "model.add(Dense(1))\n",
    "model.add(Activation('sigmoid'))"
   ]
  },
  {
   "cell_type": "code",
   "execution_count": 52,
   "id": "ecf80721-25f0-42b2-bfdb-a4fbb877d1b2",
   "metadata": {},
   "outputs": [],
   "source": [
    " #Setup learning\n",
    "from tensorflow.keras.optimizers import Adam\n",
    "opt = Adam()\n",
    "model.compile(loss='binary_crossentropy', optimizer=opt,\n",
    "metrics=['accuracy'])"
   ]
  },
  {
   "cell_type": "code",
   "execution_count": 53,
   "id": "8d899a1c-9aba-4707-a83f-e908cd536cf3",
   "metadata": {},
   "outputs": [
    {
     "data": {
      "text/plain": [
       "<keras.src.callbacks.history.History at 0x20a0a905df0>"
      ]
     },
     "execution_count": 53,
     "metadata": {},
     "output_type": "execute_result"
    }
   ],
   "source": [
    " #Train model\n",
    "model.fit(X, y, epochs=5, verbose=0)"
   ]
  },
  {
   "cell_type": "code",
   "execution_count": 54,
   "id": "afd7d92d-49e1-4708-9d15-88d416815ae1",
   "metadata": {},
   "outputs": [],
   "source": [
    "history = model.fit(X, y, epochs=5, verbose=0)"
   ]
  },
  {
   "cell_type": "code",
   "execution_count": 55,
   "id": "bb903f13-0cd9-4357-930b-f8d7f3dd6ebb",
   "metadata": {},
   "outputs": [
    {
     "name": "stdout",
     "output_type": "stream",
     "text": [
      "{'accuracy': [0.1525813341140747, 0.1525813341140747, 0.1525813341140747, 0.1525813341140747, 0.1525813341140747], 'loss': [-1085.3629150390625, -1283.270263671875, -1481.4617919921875, -1679.16357421875, -1877.317138671875]}\n"
     ]
    }
   ],
   "source": [
    "print(history.history)"
   ]
  },
  {
   "cell_type": "code",
   "execution_count": 56,
   "id": "075ce806-5360-4f2c-8570-9589dcf01ed1",
   "metadata": {},
   "outputs": [
    {
     "name": "stdout",
     "output_type": "stream",
     "text": [
      "(array([0, 1, 2, 3, 4, 5, 6]), array([113887, 114436, 112453, 110889, 111158,  94860,  92317],\n",
      "      dtype=int64))\n"
     ]
    }
   ],
   "source": [
    "import numpy as np\n",
    "print(np.unique(y, return_counts=True))"
   ]
  },
  {
   "cell_type": "code",
   "execution_count": 32,
   "id": "ca6511a6-b63f-415e-9a1f-f3f872dc93a9",
   "metadata": {},
   "outputs": [
    {
     "name": "stdout",
     "output_type": "stream",
     "text": [
      "(None, 1)\n"
     ]
    }
   ],
   "source": [
    "print(model.output_shape)"
   ]
  },
  {
   "cell_type": "code",
   "execution_count": 83,
   "id": "39c1c5f5-6369-4628-913c-5d822b877e74",
   "metadata": {},
   "outputs": [],
   "source": [
    " #Make prediction\n",
    "y_predict = model.predict(X_train, verbose=0)\n",
    "y_predict_quantized = np.round(y_predict).astype(int)"
   ]
  },
  {
   "cell_type": "code",
   "execution_count": 84,
   "id": "ccb1d824-9179-42d7-b0c6-0b975cb6602b",
   "metadata": {},
   "outputs": [],
   "source": [
    " import torch\n",
    " import torch.nn as nn\n",
    " from collections import OrderedDict\n",
    " import matplotlib.pylab as plt\n",
    " from HyperdenseTorch import HyperDenseTorch"
   ]
  },
  {
   "cell_type": "code",
   "execution_count": 126,
   "id": "e6dccc70-5b0a-44c4-abcd-60c4a4699add",
   "metadata": {},
   "outputs": [],
   "source": [
    "#Define model:\n",
    "model = nn.Sequential(OrderedDict([\n",
    " (\"HyperDense\", HyperDenseTorch(10, (4,), activation =\n",
    " torch.tanh )),\n",
    " (\"Dense\", nn.Linear(40,7)),\n",
    " ('Sigmoid', nn.Sigmoid())\n",
    " ]))"
   ]
  },
  {
   "cell_type": "code",
   "execution_count": 127,
   "id": "601f08d8-5f27-478e-acd4-fff4abe8d221",
   "metadata": {},
   "outputs": [],
   "source": [
    "#Setup learning\n",
    "loss_fn = nn.BCELoss()\n",
    "optimizer = torch.optim.SGD(model.parameters(), lr=0.015)\n",
    "torch.manual_seed(1)\n",
    "num_epoch = 5\n",
    "loss_hist_train = [0]*num_epoch\n",
    "accuracy_hist_train = [0]*num_epoch\n",
    "loss_hist_train = [0]*num_epoch"
   ]
  },
  {
   "cell_type": "code",
   "execution_count": 129,
   "id": "a63459a6-19f5-4ea7-8828-079df87dbc18",
   "metadata": {},
   "outputs": [],
   "source": [
    "# Prepare input & target\n",
    "X_tensor = torch.tensor(X_train.values, dtype=torch.float32)\n",
    "y_tensor = torch.tensor(y_train.values, dtype=torch.long).squeeze()  # shape: [N]\n",
    "\n",
    "# KHNN model should output raw logits of shape [batch_size, 7]\n",
    "# Loss function should be CrossEntropyLoss\n",
    "loss_fn = nn.CrossEntropyLoss()\n",
    "\n",
    "for epoch in range(num_epoch):\n",
    "    model.train()\n",
    "    optimizer.zero_grad()\n",
    "    \n",
    "    # Forward pass\n",
    "    logits = model(X_tensor)  # shape: [N, 7]\n",
    "    \n",
    "    # Compute loss\n",
    "    loss = loss_fn(logits, y_tensor)\n",
    "    loss.backward()\n",
    "    optimizer.step()\n",
    "    \n",
    "    # Store loss\n",
    "    loss_hist_train[epoch] = loss.item()\n",
    "    \n",
    "    # Compute accuracy\n",
    "    predictions = torch.argmax(logits, dim=1)              # class indices\n",
    "    accuracy = (predictions == y_tensor).float().mean()\n",
    "    accuracy_hist_train[epoch] = accuracy.item()"
   ]
  },
  {
   "cell_type": "code",
   "execution_count": 130,
   "id": "801c6cfa-69a0-48f1-bef3-e9f670d94ab2",
   "metadata": {},
   "outputs": [
    {
     "name": "stdout",
     "output_type": "stream",
     "text": [
      "Epoch 5: Loss = 1.9478, Accuracy = 0.1517\n"
     ]
    }
   ],
   "source": [
    "accuracy_hist_train[epoch] = accuracy\n",
    "print(f\"Epoch {epoch+1}: Loss = {loss.item():.4f}, Accuracy = {accuracy:.4f}\")"
   ]
  },
  {
   "cell_type": "code",
   "execution_count": 131,
   "id": "d06ecec1-a4b3-46c1-b329-329e072682bf",
   "metadata": {},
   "outputs": [
    {
     "name": "stdout",
     "output_type": "stream",
     "text": [
      "X_tensor: torch.Size([502500, 4]) torch.float32\n",
      "y_tensor: torch.Size([502500]) torch.int64\n",
      "Model output: torch.Size([502500, 7])\n",
      "Sample logits: tensor([0.6611, 0.5322, 0.3596, 0.5144, 0.4207, 0.3670, 0.5135],\n",
      "       grad_fn=<SelectBackward0>)\n",
      "Unique targets: tensor([0, 1, 2, 3, 4, 5, 6])\n"
     ]
    }
   ],
   "source": [
    "print(\"X_tensor:\", X_tensor.shape, X_tensor.dtype)\n",
    "print(\"y_tensor:\", y_tensor.shape, y_tensor.dtype)\n",
    "print(\"Model output:\", model(X_tensor).shape)\n",
    "print(\"Sample logits:\", model(X_tensor)[0])\n",
    "print(\"Unique targets:\", torch.unique(y_tensor))"
   ]
  },
  {
   "cell_type": "code",
   "execution_count": null,
   "id": "8575cec0-1ff5-452f-8161-81198a010ecd",
   "metadata": {},
   "outputs": [],
   "source": []
  }
 ],
 "metadata": {
  "kernelspec": {
   "display_name": "Python 3 (ipykernel)",
   "language": "python",
   "name": "python3"
  },
  "language_info": {
   "codemirror_mode": {
    "name": "ipython",
    "version": 3
   },
   "file_extension": ".py",
   "mimetype": "text/x-python",
   "name": "python",
   "nbconvert_exporter": "python",
   "pygments_lexer": "ipython3",
   "version": "3.12.7"
  }
 },
 "nbformat": 4,
 "nbformat_minor": 5
}
